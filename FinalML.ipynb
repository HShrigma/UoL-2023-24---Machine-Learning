{
 "cells": [
  {
   "attachments": {},
   "cell_type": "markdown",
   "id": "f25ad189-511a-4a62-b912-2e8d4bc1067b",
   "metadata": {},
   "source": [
    "# University of London: BSc Computer Sciences\n",
    "\n",
    "## CM3015 Machine Learning\n",
    "\n",
    "### Final Project Report - Creating a ML Model using the Universal Workflow of DLWP Chapter 4.5"
   ]
  },
  {
   "cell_type": "markdown",
   "id": "73675505-4e52-4684-ad54-f962645076ae",
   "metadata": {},
   "source": [
    "# Table of Contents:\n",
    "\n",
    "- Abstract\n",
    "- Introduction\n",
    "- Stage 1: Dataset & Problem\n",
    "- Stage 2: Measure of Success\n",
    "- Stage 3: Evaluation Protocol\n",
    "- Stage 4: Preparing Data\n",
    "- Stage 5: Better Than Baseline Model - Underfitting + Statistical Power\n",
    "- Stage 6: Purpouseful Overfitting\n",
    "- Stage 7: Model Regularization & Hyperparameter Tuning\n",
    "- Evaluation\n",
    "- Conclusion\n",
    "  "
   ]
  },
  {
   "cell_type": "markdown",
   "id": "7cb019f2-1200-4499-b6f7-3a825528dfb0",
   "metadata": {},
   "source": [
    "# Abstract\n",
    "\n",
    "This report covers the conception, development, experimentation, and achievements of a machine learning model aimed at tackling a binary classification problem of classifying breast cancer growths as benign or malignant.\n",
    "\n",
    "Through 7 stages:\n",
    "1. The problem and dataset are chosen and implemented.\n",
    "2. Data exploration determined the measure of success as Accuracy and Precision at Recall, and loss function is set for binary cross entropy\n",
    "3. Evaluation Protocol is set to hold-out validation.\n",
    "4. Data is pre-processed by removing and/or modifying unneeded/uneven features\n",
    "5. Baseline model alongside 2 experimental models is established\n",
    "6. Experimental models are pushed to overfitting to create a reference (control group) for further experiments.\n",
    "7. Through rigorous experimentation, regularization is set for 0.5 Dropout on the input layer and hyperparameters for the final model are set at 120 epochs, 16 batch size, 128 units per layer,  and learning rate at 0.001\n",
    "\n",
    "The final model consists of 4 RelU activation layers and one sigmoid activation output layer, achieving 97.8% mean accuracy, 6.1% mean loss(error), 95.5% mean precision at 96.2% mean recall, labelling the project as successful."
   ]
  },
  {
   "cell_type": "markdown",
   "id": "7b9586b7-af78-446d-bd51-6b01e81d4a84",
   "metadata": {},
   "source": [
    "# Introduciton\n",
    "\n",
    "<p>The aim of this report is to establish and document a problem and a model to solve it using the Universal Workflow of DLWP Chapter 4.5.\n",
    "Including:<br/>\"\n",
    "<ol><b>\n",
    "    <li>Defining the problem and assembling a dataset</li>\n",
    "    <li>Choosing a measure of success</li>\n",
    "    <li>Deciding on an evaluation protocol</li>\n",
    "    <li>Preparing your data</li>\n",
    "    <li>Developing a model that does better than a baseline</li>\n",
    "    <li>Scaling up: developing a model that overfits</li>\n",
    "    <li>Regularizing your model and tuning your hyperparameters</li>\n",
    "</b></ol>\"</br><i>quoted from Chollet F., Deep Learning With Python (2017), Chapter 4.5 </i></p>\n",
    "<p>\n",
    "    Each report segment follows the following structure: It includes a written explanation of the segment, the choices made by the author and the reasoning behind them and <i>(if needed)</i> includes the code written for the segment and its output.\n",
    "</p>"
   ]
  },
  {
   "cell_type": "markdown",
   "id": "d8f4c352-1589-4f98-a08a-d7b2f1fd68de",
   "metadata": {},
   "source": [
    "# Stage 1: Dataset & Problem\n",
    "\n",
    "### Defining the dataset and problem should not be separate:\n",
    "\n",
    "Different datasets <i>(especially ready-made ones on tensorflow or scikit-learn dBs)</i> offer unique problems to solve. Therefore the choice is made based on the problem, models known to work well on solving said problem, and datasets representing it.\n",
    "\n",
    "### Problems, Algorithms, Datasets table:\n",
    "This table is composed of columns showcasing different problems, Algorithms that solve them, and datasets:\n",
    "| Problem | Algorithm/s | Dataset\\s |\n",
    "| --- | --- | --- |\n",
    "| Binary Classification | Naive Bayes, K-NN, Decision Tree, Random Forest, Logistic Regression, etc. | IMDB, MNIST, Wisconsin Breast Cancer |\n",
    "|Multiclass Classification | Naive Bayes, Decision Tree, Random Forest, SVN, etc. | Reuters, COVID-19 Hospitals Treatment Plan, Cirrhosis Outcomes Dataset |\n",
    "| Regression |  Linear, Polynomial, Stepwise,etc. | Boston Housing Price, Auto MPG | \n"
   ]
  },
  {
   "cell_type": "markdown",
   "id": "4b7f2774-c106-4e19-987f-43d1d623af49",
   "metadata": {},
   "source": [
    "## The Dataset:\n",
    "\n",
    "The dataset chosen is the <b> Wisconsin Breast Cancer</b> dataset. There are several websites it can be obtained from. For the sake of accuracy, the official UCI. It contains 569 instances across 30 features.\n",
    "\n",
    "### The Problem:\n",
    "\n",
    "The problem that this dataset tackles is producing a model able to classify breast cancer diagnoses as <b>benign</b> or <b>malignant</b> based on data on growths. As mentioned before, this is solved using a <b>binary classification</b> model as the possible model outputs are exactly 2.\n",
    "\n",
    "### Relevance:\n",
    "\n",
    "According to the American Cancer Society: \"Breast cancer is the most common cancer in women in the US, except for skin cancer. It's also the second-leading cause of cancer death (after lung cancer). About 1 in 8 women will get invasive breast cancer in their lifetime.\"[1]\n",
    "\n",
    "It is safe to assume that machine learning models aiding the diagnosis of terminal illnesses are not only relevant, but furthermore can prove to be life-saving as they mitigate the risk of human error during the diagnosis process or assist professionals by saving them valuable time.\n",
    "\n",
    "## Hypothesis:\n",
    "The hypotheses that are built in this stage are that: \n",
    "1. A breast cancer diagnosis of benign or malignant can be determined by the features of this dataset.\n",
    "2. A model can be developed to determine this diagnosis with high accuracy"
   ]
  },
  {
   "cell_type": "markdown",
   "id": "70353a5a-7717-48c1-9a02-a46637e46fe6",
   "metadata": {},
   "source": [
    "## Importing The Dataset"
   ]
  },
  {
   "cell_type": "code",
   "execution_count": 1,
   "id": "aef0ba5e-3c62-46a7-8977-c6029d05fd55",
   "metadata": {},
   "outputs": [],
   "source": [
    "import tensorflow as tf\n",
    "import pandas as pd\n",
    "\n",
    "#Code Reference, Tensorflow Core, Guide, Logistic Regression Core, Setup section: https://www.tensorflow.org/guide/core/logistic_regression_core\n",
    "#Only comments in this block are my own to prove my understanding of the snippets I am using\n",
    "\n",
    "#get csv url\n",
    "url = 'https://archive.ics.uci.edu/ml/machine-learning-databases/breast-cancer-wisconsin/wdbc.data'\n",
    "\n",
    "#define basics of features \n",
    "features = ['radius', 'texture', 'perimeter', 'area', 'smoothness', 'compactness',\n",
    "            'concavity', 'concave_poinits', 'symmetry', 'fractal_dimension']\n",
    "#initialize each column answering to the .csv data\n",
    "column_names = ['id', 'diagnosis']\n",
    "\n",
    "#append each feature across all their attributes to column_names\n",
    "for attr in ['mean', 'ste', 'largest']:\n",
    "  for feature in features:\n",
    "    column_names.append(feature + \"_\" + attr)\n",
    "#read .csv into pandas frame with the new column names\n",
    "dataset = pd.read_csv(url, names=column_names)\n"
   ]
  },
  {
   "cell_type": "code",
   "execution_count": 2,
   "id": "09066cc8-43b6-4b00-944e-64a1426a03e0",
   "metadata": {
    "scrolled": true
   },
   "outputs": [
    {
     "data": {
      "text/html": [
       "<div>\n",
       "<style scoped>\n",
       "    .dataframe tbody tr th:only-of-type {\n",
       "        vertical-align: middle;\n",
       "    }\n",
       "\n",
       "    .dataframe tbody tr th {\n",
       "        vertical-align: top;\n",
       "    }\n",
       "\n",
       "    .dataframe thead th {\n",
       "        text-align: right;\n",
       "    }\n",
       "</style>\n",
       "<table border=\"1\" class=\"dataframe\">\n",
       "  <thead>\n",
       "    <tr style=\"text-align: right;\">\n",
       "      <th></th>\n",
       "      <th>id</th>\n",
       "      <th>diagnosis</th>\n",
       "      <th>radius_mean</th>\n",
       "      <th>texture_mean</th>\n",
       "      <th>perimeter_mean</th>\n",
       "      <th>area_mean</th>\n",
       "      <th>smoothness_mean</th>\n",
       "      <th>compactness_mean</th>\n",
       "      <th>concavity_mean</th>\n",
       "      <th>concave_poinits_mean</th>\n",
       "      <th>...</th>\n",
       "      <th>radius_largest</th>\n",
       "      <th>texture_largest</th>\n",
       "      <th>perimeter_largest</th>\n",
       "      <th>area_largest</th>\n",
       "      <th>smoothness_largest</th>\n",
       "      <th>compactness_largest</th>\n",
       "      <th>concavity_largest</th>\n",
       "      <th>concave_poinits_largest</th>\n",
       "      <th>symmetry_largest</th>\n",
       "      <th>fractal_dimension_largest</th>\n",
       "    </tr>\n",
       "  </thead>\n",
       "  <tbody>\n",
       "    <tr>\n",
       "      <th>0</th>\n",
       "      <td>842302</td>\n",
       "      <td>M</td>\n",
       "      <td>17.99</td>\n",
       "      <td>10.38</td>\n",
       "      <td>122.80</td>\n",
       "      <td>1001.0</td>\n",
       "      <td>0.11840</td>\n",
       "      <td>0.27760</td>\n",
       "      <td>0.3001</td>\n",
       "      <td>0.14710</td>\n",
       "      <td>...</td>\n",
       "      <td>25.38</td>\n",
       "      <td>17.33</td>\n",
       "      <td>184.60</td>\n",
       "      <td>2019.0</td>\n",
       "      <td>0.1622</td>\n",
       "      <td>0.6656</td>\n",
       "      <td>0.7119</td>\n",
       "      <td>0.2654</td>\n",
       "      <td>0.4601</td>\n",
       "      <td>0.11890</td>\n",
       "    </tr>\n",
       "    <tr>\n",
       "      <th>1</th>\n",
       "      <td>842517</td>\n",
       "      <td>M</td>\n",
       "      <td>20.57</td>\n",
       "      <td>17.77</td>\n",
       "      <td>132.90</td>\n",
       "      <td>1326.0</td>\n",
       "      <td>0.08474</td>\n",
       "      <td>0.07864</td>\n",
       "      <td>0.0869</td>\n",
       "      <td>0.07017</td>\n",
       "      <td>...</td>\n",
       "      <td>24.99</td>\n",
       "      <td>23.41</td>\n",
       "      <td>158.80</td>\n",
       "      <td>1956.0</td>\n",
       "      <td>0.1238</td>\n",
       "      <td>0.1866</td>\n",
       "      <td>0.2416</td>\n",
       "      <td>0.1860</td>\n",
       "      <td>0.2750</td>\n",
       "      <td>0.08902</td>\n",
       "    </tr>\n",
       "    <tr>\n",
       "      <th>2</th>\n",
       "      <td>84300903</td>\n",
       "      <td>M</td>\n",
       "      <td>19.69</td>\n",
       "      <td>21.25</td>\n",
       "      <td>130.00</td>\n",
       "      <td>1203.0</td>\n",
       "      <td>0.10960</td>\n",
       "      <td>0.15990</td>\n",
       "      <td>0.1974</td>\n",
       "      <td>0.12790</td>\n",
       "      <td>...</td>\n",
       "      <td>23.57</td>\n",
       "      <td>25.53</td>\n",
       "      <td>152.50</td>\n",
       "      <td>1709.0</td>\n",
       "      <td>0.1444</td>\n",
       "      <td>0.4245</td>\n",
       "      <td>0.4504</td>\n",
       "      <td>0.2430</td>\n",
       "      <td>0.3613</td>\n",
       "      <td>0.08758</td>\n",
       "    </tr>\n",
       "    <tr>\n",
       "      <th>3</th>\n",
       "      <td>84348301</td>\n",
       "      <td>M</td>\n",
       "      <td>11.42</td>\n",
       "      <td>20.38</td>\n",
       "      <td>77.58</td>\n",
       "      <td>386.1</td>\n",
       "      <td>0.14250</td>\n",
       "      <td>0.28390</td>\n",
       "      <td>0.2414</td>\n",
       "      <td>0.10520</td>\n",
       "      <td>...</td>\n",
       "      <td>14.91</td>\n",
       "      <td>26.50</td>\n",
       "      <td>98.87</td>\n",
       "      <td>567.7</td>\n",
       "      <td>0.2098</td>\n",
       "      <td>0.8663</td>\n",
       "      <td>0.6869</td>\n",
       "      <td>0.2575</td>\n",
       "      <td>0.6638</td>\n",
       "      <td>0.17300</td>\n",
       "    </tr>\n",
       "    <tr>\n",
       "      <th>4</th>\n",
       "      <td>84358402</td>\n",
       "      <td>M</td>\n",
       "      <td>20.29</td>\n",
       "      <td>14.34</td>\n",
       "      <td>135.10</td>\n",
       "      <td>1297.0</td>\n",
       "      <td>0.10030</td>\n",
       "      <td>0.13280</td>\n",
       "      <td>0.1980</td>\n",
       "      <td>0.10430</td>\n",
       "      <td>...</td>\n",
       "      <td>22.54</td>\n",
       "      <td>16.67</td>\n",
       "      <td>152.20</td>\n",
       "      <td>1575.0</td>\n",
       "      <td>0.1374</td>\n",
       "      <td>0.2050</td>\n",
       "      <td>0.4000</td>\n",
       "      <td>0.1625</td>\n",
       "      <td>0.2364</td>\n",
       "      <td>0.07678</td>\n",
       "    </tr>\n",
       "  </tbody>\n",
       "</table>\n",
       "<p>5 rows × 32 columns</p>\n",
       "</div>"
      ],
      "text/plain": [
       "         id diagnosis  radius_mean  texture_mean  perimeter_mean  area_mean  \\\n",
       "0    842302         M        17.99         10.38          122.80     1001.0   \n",
       "1    842517         M        20.57         17.77          132.90     1326.0   \n",
       "2  84300903         M        19.69         21.25          130.00     1203.0   \n",
       "3  84348301         M        11.42         20.38           77.58      386.1   \n",
       "4  84358402         M        20.29         14.34          135.10     1297.0   \n",
       "\n",
       "   smoothness_mean  compactness_mean  concavity_mean  concave_poinits_mean  \\\n",
       "0          0.11840           0.27760          0.3001               0.14710   \n",
       "1          0.08474           0.07864          0.0869               0.07017   \n",
       "2          0.10960           0.15990          0.1974               0.12790   \n",
       "3          0.14250           0.28390          0.2414               0.10520   \n",
       "4          0.10030           0.13280          0.1980               0.10430   \n",
       "\n",
       "   ...  radius_largest  texture_largest  perimeter_largest  area_largest  \\\n",
       "0  ...           25.38            17.33             184.60        2019.0   \n",
       "1  ...           24.99            23.41             158.80        1956.0   \n",
       "2  ...           23.57            25.53             152.50        1709.0   \n",
       "3  ...           14.91            26.50              98.87         567.7   \n",
       "4  ...           22.54            16.67             152.20        1575.0   \n",
       "\n",
       "   smoothness_largest  compactness_largest  concavity_largest  \\\n",
       "0              0.1622               0.6656             0.7119   \n",
       "1              0.1238               0.1866             0.2416   \n",
       "2              0.1444               0.4245             0.4504   \n",
       "3              0.2098               0.8663             0.6869   \n",
       "4              0.1374               0.2050             0.4000   \n",
       "\n",
       "   concave_poinits_largest  symmetry_largest  fractal_dimension_largest  \n",
       "0                   0.2654            0.4601                    0.11890  \n",
       "1                   0.1860            0.2750                    0.08902  \n",
       "2                   0.2430            0.3613                    0.08758  \n",
       "3                   0.2575            0.6638                    0.17300  \n",
       "4                   0.1625            0.2364                    0.07678  \n",
       "\n",
       "[5 rows x 32 columns]"
      ]
     },
     "execution_count": 2,
     "metadata": {},
     "output_type": "execute_result"
    }
   ],
   "source": [
    "#check if column_names of df answer to .csv data\n",
    "dataset.head()"
   ]
  },
  {
   "cell_type": "code",
   "execution_count": 3,
   "id": "fe3754fd-b0ba-4acf-a3c0-a6bc204ea344",
   "metadata": {},
   "outputs": [
    {
     "name": "stdout",
     "output_type": "stream",
     "text": [
      "<class 'pandas.core.frame.DataFrame'>\n",
      "RangeIndex: 569 entries, 0 to 568\n",
      "Data columns (total 32 columns):\n",
      " #   Column                     Non-Null Count  Dtype  \n",
      "---  ------                     --------------  -----  \n",
      " 0   id                         569 non-null    int64  \n",
      " 1   diagnosis                  569 non-null    object \n",
      " 2   radius_mean                569 non-null    float64\n",
      " 3   texture_mean               569 non-null    float64\n",
      " 4   perimeter_mean             569 non-null    float64\n",
      " 5   area_mean                  569 non-null    float64\n",
      " 6   smoothness_mean            569 non-null    float64\n",
      " 7   compactness_mean           569 non-null    float64\n",
      " 8   concavity_mean             569 non-null    float64\n",
      " 9   concave_poinits_mean       569 non-null    float64\n",
      " 10  symmetry_mean              569 non-null    float64\n",
      " 11  fractal_dimension_mean     569 non-null    float64\n",
      " 12  radius_ste                 569 non-null    float64\n",
      " 13  texture_ste                569 non-null    float64\n",
      " 14  perimeter_ste              569 non-null    float64\n",
      " 15  area_ste                   569 non-null    float64\n",
      " 16  smoothness_ste             569 non-null    float64\n",
      " 17  compactness_ste            569 non-null    float64\n",
      " 18  concavity_ste              569 non-null    float64\n",
      " 19  concave_poinits_ste        569 non-null    float64\n",
      " 20  symmetry_ste               569 non-null    float64\n",
      " 21  fractal_dimension_ste      569 non-null    float64\n",
      " 22  radius_largest             569 non-null    float64\n",
      " 23  texture_largest            569 non-null    float64\n",
      " 24  perimeter_largest          569 non-null    float64\n",
      " 25  area_largest               569 non-null    float64\n",
      " 26  smoothness_largest         569 non-null    float64\n",
      " 27  compactness_largest        569 non-null    float64\n",
      " 28  concavity_largest          569 non-null    float64\n",
      " 29  concave_poinits_largest    569 non-null    float64\n",
      " 30  symmetry_largest           569 non-null    float64\n",
      " 31  fractal_dimension_largest  569 non-null    float64\n",
      "dtypes: float64(30), int64(1), object(1)\n",
      "memory usage: 142.4+ KB\n"
     ]
    }
   ],
   "source": [
    "#check for data types and any null values\n",
    "dataset.info()"
   ]
  },
  {
   "cell_type": "markdown",
   "id": "dac05d26-d1c1-4fdf-a2d2-6cf86df4b864",
   "metadata": {},
   "source": [
    "## Evaluating Dataset:\n",
    "\n",
    "The dataset has 569 instances across 29 features, bringing it almost identical to the original specification in the ICU Irvine page. This is accepted as satisfactory, and work can continue to stage 2."
   ]
  },
  {
   "cell_type": "markdown",
   "id": "8419b0e6-d2fa-46c5-ac6b-36fa9187adf0",
   "metadata": {},
   "source": [
    "# Stage 2: Measure of Success\n",
    "\n",
    "## Method of Determining Measure of Success:\n",
    "\n",
    "The <b>measure of success</b> needed for this model is a satisfactory value (>90% accurate results). \n",
    "\n",
    "What is important is determining whether the dataset is balanced (i.e. Benign/malignant diagnoses approx. 50%) or imbalanced (in this case is considered benign/malignant >= 60%)"
   ]
  },
  {
   "cell_type": "code",
   "execution_count": 4,
   "id": "c5b2651b-974a-40e7-90b3-9ac44fc8efcc",
   "metadata": {},
   "outputs": [
    {
     "name": "stdout",
     "output_type": "stream",
     "text": [
      "Benign: 357\n",
      "Malignant: 212\n",
      "Percent Benign: 62.741652021089635 %\n",
      "Percent Malignant: 37.258347978910365 %\n"
     ]
    }
   ],
   "source": [
    "#original code, \n",
    "#simply prints the spread between benign/malignant values across each instance\n",
    "b_count = dataset[\"diagnosis\"].value_counts()[\"B\"]\n",
    "m_count = len(dataset.index) - b_count\n",
    "b_perc = b_count/len(dataset.index) * 100\n",
    "m_perc = 100 - b_perc\n",
    "print(\"Benign:\", b_count)\n",
    "print(\"Malignant:\", m_count)\n",
    "print(\"Percent Benign:\", b_perc, \"%\")\n",
    "print(\"Percent Malignant:\", m_perc, \"%\")\n"
   ]
  },
  {
   "cell_type": "markdown",
   "id": "1857c6a0-476c-4a0c-8f82-03f31db33028",
   "metadata": {},
   "source": [
    "## Measure of Success: Precision at Recall\n",
    "\n",
    "As the dataset is imbalanced with approx. 63% benign results, a simple accuracy check may not be the most useful in this case. Therefore, Precision at Recall will work best."
   ]
  },
  {
   "cell_type": "markdown",
   "id": "d381779f-e2a6-411c-b92c-c194a04b9024",
   "metadata": {},
   "source": [
    "# Stage 3: Evaluation Protocol - Hold-Out Validation\n",
    "\n",
    "As the dataset contains enough instances (determined by instances > features x 10), the evaluation protocol need not use K-fold Cross Validation. However, if models underperform regardless of hyperparameter tuning, training may be redone using K-fold Validation."
   ]
  },
  {
   "cell_type": "markdown",
   "id": "e1614dc7-33d4-426f-a6a5-d90d92bf481d",
   "metadata": {},
   "source": [
    "# Stage 4: Preparing Data\n",
    "\n",
    "Preparing data involves:\n",
    "\n",
    "1. Pre-processing data - clean up unneeded features, remove, modify or normalise features that have no statistical power ( values so incosistent they lead to overfitting) and other project-specific tasks i.e. mapping diagnoses instead of (\"B, \"M\"), to the values (0, 1).\n",
    "2. Loading data into tensors"
   ]
  },
  {
   "cell_type": "markdown",
   "id": "cfa70107-2c6a-420a-b0ea-0d1e87aeb555",
   "metadata": {},
   "source": [
    "## Removing Unneeded features: id"
   ]
  },
  {
   "cell_type": "code",
   "execution_count": 5,
   "id": "e55f3de3-f280-4b5e-9ea1-2c248860aebf",
   "metadata": {},
   "outputs": [
    {
     "data": {
      "text/html": [
       "<div>\n",
       "<style scoped>\n",
       "    .dataframe tbody tr th:only-of-type {\n",
       "        vertical-align: middle;\n",
       "    }\n",
       "\n",
       "    .dataframe tbody tr th {\n",
       "        vertical-align: top;\n",
       "    }\n",
       "\n",
       "    .dataframe thead th {\n",
       "        text-align: right;\n",
       "    }\n",
       "</style>\n",
       "<table border=\"1\" class=\"dataframe\">\n",
       "  <thead>\n",
       "    <tr style=\"text-align: right;\">\n",
       "      <th></th>\n",
       "      <th>diagnosis</th>\n",
       "      <th>radius_mean</th>\n",
       "      <th>texture_mean</th>\n",
       "      <th>perimeter_mean</th>\n",
       "      <th>area_mean</th>\n",
       "      <th>smoothness_mean</th>\n",
       "      <th>compactness_mean</th>\n",
       "      <th>concavity_mean</th>\n",
       "      <th>concave_poinits_mean</th>\n",
       "      <th>symmetry_mean</th>\n",
       "      <th>...</th>\n",
       "      <th>radius_largest</th>\n",
       "      <th>texture_largest</th>\n",
       "      <th>perimeter_largest</th>\n",
       "      <th>area_largest</th>\n",
       "      <th>smoothness_largest</th>\n",
       "      <th>compactness_largest</th>\n",
       "      <th>concavity_largest</th>\n",
       "      <th>concave_poinits_largest</th>\n",
       "      <th>symmetry_largest</th>\n",
       "      <th>fractal_dimension_largest</th>\n",
       "    </tr>\n",
       "  </thead>\n",
       "  <tbody>\n",
       "    <tr>\n",
       "      <th>0</th>\n",
       "      <td>M</td>\n",
       "      <td>17.99</td>\n",
       "      <td>10.38</td>\n",
       "      <td>122.80</td>\n",
       "      <td>1001.0</td>\n",
       "      <td>0.11840</td>\n",
       "      <td>0.27760</td>\n",
       "      <td>0.3001</td>\n",
       "      <td>0.14710</td>\n",
       "      <td>0.2419</td>\n",
       "      <td>...</td>\n",
       "      <td>25.38</td>\n",
       "      <td>17.33</td>\n",
       "      <td>184.60</td>\n",
       "      <td>2019.0</td>\n",
       "      <td>0.1622</td>\n",
       "      <td>0.6656</td>\n",
       "      <td>0.7119</td>\n",
       "      <td>0.2654</td>\n",
       "      <td>0.4601</td>\n",
       "      <td>0.11890</td>\n",
       "    </tr>\n",
       "    <tr>\n",
       "      <th>1</th>\n",
       "      <td>M</td>\n",
       "      <td>20.57</td>\n",
       "      <td>17.77</td>\n",
       "      <td>132.90</td>\n",
       "      <td>1326.0</td>\n",
       "      <td>0.08474</td>\n",
       "      <td>0.07864</td>\n",
       "      <td>0.0869</td>\n",
       "      <td>0.07017</td>\n",
       "      <td>0.1812</td>\n",
       "      <td>...</td>\n",
       "      <td>24.99</td>\n",
       "      <td>23.41</td>\n",
       "      <td>158.80</td>\n",
       "      <td>1956.0</td>\n",
       "      <td>0.1238</td>\n",
       "      <td>0.1866</td>\n",
       "      <td>0.2416</td>\n",
       "      <td>0.1860</td>\n",
       "      <td>0.2750</td>\n",
       "      <td>0.08902</td>\n",
       "    </tr>\n",
       "    <tr>\n",
       "      <th>2</th>\n",
       "      <td>M</td>\n",
       "      <td>19.69</td>\n",
       "      <td>21.25</td>\n",
       "      <td>130.00</td>\n",
       "      <td>1203.0</td>\n",
       "      <td>0.10960</td>\n",
       "      <td>0.15990</td>\n",
       "      <td>0.1974</td>\n",
       "      <td>0.12790</td>\n",
       "      <td>0.2069</td>\n",
       "      <td>...</td>\n",
       "      <td>23.57</td>\n",
       "      <td>25.53</td>\n",
       "      <td>152.50</td>\n",
       "      <td>1709.0</td>\n",
       "      <td>0.1444</td>\n",
       "      <td>0.4245</td>\n",
       "      <td>0.4504</td>\n",
       "      <td>0.2430</td>\n",
       "      <td>0.3613</td>\n",
       "      <td>0.08758</td>\n",
       "    </tr>\n",
       "    <tr>\n",
       "      <th>3</th>\n",
       "      <td>M</td>\n",
       "      <td>11.42</td>\n",
       "      <td>20.38</td>\n",
       "      <td>77.58</td>\n",
       "      <td>386.1</td>\n",
       "      <td>0.14250</td>\n",
       "      <td>0.28390</td>\n",
       "      <td>0.2414</td>\n",
       "      <td>0.10520</td>\n",
       "      <td>0.2597</td>\n",
       "      <td>...</td>\n",
       "      <td>14.91</td>\n",
       "      <td>26.50</td>\n",
       "      <td>98.87</td>\n",
       "      <td>567.7</td>\n",
       "      <td>0.2098</td>\n",
       "      <td>0.8663</td>\n",
       "      <td>0.6869</td>\n",
       "      <td>0.2575</td>\n",
       "      <td>0.6638</td>\n",
       "      <td>0.17300</td>\n",
       "    </tr>\n",
       "    <tr>\n",
       "      <th>4</th>\n",
       "      <td>M</td>\n",
       "      <td>20.29</td>\n",
       "      <td>14.34</td>\n",
       "      <td>135.10</td>\n",
       "      <td>1297.0</td>\n",
       "      <td>0.10030</td>\n",
       "      <td>0.13280</td>\n",
       "      <td>0.1980</td>\n",
       "      <td>0.10430</td>\n",
       "      <td>0.1809</td>\n",
       "      <td>...</td>\n",
       "      <td>22.54</td>\n",
       "      <td>16.67</td>\n",
       "      <td>152.20</td>\n",
       "      <td>1575.0</td>\n",
       "      <td>0.1374</td>\n",
       "      <td>0.2050</td>\n",
       "      <td>0.4000</td>\n",
       "      <td>0.1625</td>\n",
       "      <td>0.2364</td>\n",
       "      <td>0.07678</td>\n",
       "    </tr>\n",
       "  </tbody>\n",
       "</table>\n",
       "<p>5 rows × 31 columns</p>\n",
       "</div>"
      ],
      "text/plain": [
       "  diagnosis  radius_mean  texture_mean  perimeter_mean  area_mean  \\\n",
       "0         M        17.99         10.38          122.80     1001.0   \n",
       "1         M        20.57         17.77          132.90     1326.0   \n",
       "2         M        19.69         21.25          130.00     1203.0   \n",
       "3         M        11.42         20.38           77.58      386.1   \n",
       "4         M        20.29         14.34          135.10     1297.0   \n",
       "\n",
       "   smoothness_mean  compactness_mean  concavity_mean  concave_poinits_mean  \\\n",
       "0          0.11840           0.27760          0.3001               0.14710   \n",
       "1          0.08474           0.07864          0.0869               0.07017   \n",
       "2          0.10960           0.15990          0.1974               0.12790   \n",
       "3          0.14250           0.28390          0.2414               0.10520   \n",
       "4          0.10030           0.13280          0.1980               0.10430   \n",
       "\n",
       "   symmetry_mean  ...  radius_largest  texture_largest  perimeter_largest  \\\n",
       "0         0.2419  ...           25.38            17.33             184.60   \n",
       "1         0.1812  ...           24.99            23.41             158.80   \n",
       "2         0.2069  ...           23.57            25.53             152.50   \n",
       "3         0.2597  ...           14.91            26.50              98.87   \n",
       "4         0.1809  ...           22.54            16.67             152.20   \n",
       "\n",
       "   area_largest  smoothness_largest  compactness_largest  concavity_largest  \\\n",
       "0        2019.0              0.1622               0.6656             0.7119   \n",
       "1        1956.0              0.1238               0.1866             0.2416   \n",
       "2        1709.0              0.1444               0.4245             0.4504   \n",
       "3         567.7              0.2098               0.8663             0.6869   \n",
       "4        1575.0              0.1374               0.2050             0.4000   \n",
       "\n",
       "   concave_poinits_largest  symmetry_largest  fractal_dimension_largest  \n",
       "0                   0.2654            0.4601                    0.11890  \n",
       "1                   0.1860            0.2750                    0.08902  \n",
       "2                   0.2430            0.3613                    0.08758  \n",
       "3                   0.2575            0.6638                    0.17300  \n",
       "4                   0.1625            0.2364                    0.07678  \n",
       "\n",
       "[5 rows x 31 columns]"
      ]
     },
     "execution_count": 5,
     "metadata": {},
     "output_type": "execute_result"
    }
   ],
   "source": [
    "#Original Code in this Cell\n",
    "#dropping id, uneeded\n",
    "dataset.drop(\"id\", axis = 1, inplace = True )\n",
    "dataset.head()"
   ]
  },
  {
   "cell_type": "markdown",
   "id": "e509dfdb-de85-4771-adcd-5f3b489365cf",
   "metadata": {},
   "source": [
    "## Modifying Features: Target"
   ]
  },
  {
   "cell_type": "code",
   "execution_count": 6,
   "id": "5fb7fac6-161a-4bc7-810e-b180566c9324",
   "metadata": {},
   "outputs": [
    {
     "data": {
      "text/html": [
       "<div>\n",
       "<style scoped>\n",
       "    .dataframe tbody tr th:only-of-type {\n",
       "        vertical-align: middle;\n",
       "    }\n",
       "\n",
       "    .dataframe tbody tr th {\n",
       "        vertical-align: top;\n",
       "    }\n",
       "\n",
       "    .dataframe thead th {\n",
       "        text-align: right;\n",
       "    }\n",
       "</style>\n",
       "<table border=\"1\" class=\"dataframe\">\n",
       "  <thead>\n",
       "    <tr style=\"text-align: right;\">\n",
       "      <th></th>\n",
       "      <th>diagnosis</th>\n",
       "      <th>radius_mean</th>\n",
       "      <th>texture_mean</th>\n",
       "      <th>perimeter_mean</th>\n",
       "      <th>area_mean</th>\n",
       "      <th>smoothness_mean</th>\n",
       "      <th>compactness_mean</th>\n",
       "      <th>concavity_mean</th>\n",
       "      <th>concave_poinits_mean</th>\n",
       "      <th>symmetry_mean</th>\n",
       "      <th>...</th>\n",
       "      <th>radius_largest</th>\n",
       "      <th>texture_largest</th>\n",
       "      <th>perimeter_largest</th>\n",
       "      <th>area_largest</th>\n",
       "      <th>smoothness_largest</th>\n",
       "      <th>compactness_largest</th>\n",
       "      <th>concavity_largest</th>\n",
       "      <th>concave_poinits_largest</th>\n",
       "      <th>symmetry_largest</th>\n",
       "      <th>fractal_dimension_largest</th>\n",
       "    </tr>\n",
       "  </thead>\n",
       "  <tbody>\n",
       "    <tr>\n",
       "      <th>0</th>\n",
       "      <td>1</td>\n",
       "      <td>17.99</td>\n",
       "      <td>10.38</td>\n",
       "      <td>122.80</td>\n",
       "      <td>1001.0</td>\n",
       "      <td>0.11840</td>\n",
       "      <td>0.27760</td>\n",
       "      <td>0.3001</td>\n",
       "      <td>0.14710</td>\n",
       "      <td>0.2419</td>\n",
       "      <td>...</td>\n",
       "      <td>25.38</td>\n",
       "      <td>17.33</td>\n",
       "      <td>184.60</td>\n",
       "      <td>2019.0</td>\n",
       "      <td>0.1622</td>\n",
       "      <td>0.6656</td>\n",
       "      <td>0.7119</td>\n",
       "      <td>0.2654</td>\n",
       "      <td>0.4601</td>\n",
       "      <td>0.11890</td>\n",
       "    </tr>\n",
       "    <tr>\n",
       "      <th>1</th>\n",
       "      <td>1</td>\n",
       "      <td>20.57</td>\n",
       "      <td>17.77</td>\n",
       "      <td>132.90</td>\n",
       "      <td>1326.0</td>\n",
       "      <td>0.08474</td>\n",
       "      <td>0.07864</td>\n",
       "      <td>0.0869</td>\n",
       "      <td>0.07017</td>\n",
       "      <td>0.1812</td>\n",
       "      <td>...</td>\n",
       "      <td>24.99</td>\n",
       "      <td>23.41</td>\n",
       "      <td>158.80</td>\n",
       "      <td>1956.0</td>\n",
       "      <td>0.1238</td>\n",
       "      <td>0.1866</td>\n",
       "      <td>0.2416</td>\n",
       "      <td>0.1860</td>\n",
       "      <td>0.2750</td>\n",
       "      <td>0.08902</td>\n",
       "    </tr>\n",
       "    <tr>\n",
       "      <th>2</th>\n",
       "      <td>1</td>\n",
       "      <td>19.69</td>\n",
       "      <td>21.25</td>\n",
       "      <td>130.00</td>\n",
       "      <td>1203.0</td>\n",
       "      <td>0.10960</td>\n",
       "      <td>0.15990</td>\n",
       "      <td>0.1974</td>\n",
       "      <td>0.12790</td>\n",
       "      <td>0.2069</td>\n",
       "      <td>...</td>\n",
       "      <td>23.57</td>\n",
       "      <td>25.53</td>\n",
       "      <td>152.50</td>\n",
       "      <td>1709.0</td>\n",
       "      <td>0.1444</td>\n",
       "      <td>0.4245</td>\n",
       "      <td>0.4504</td>\n",
       "      <td>0.2430</td>\n",
       "      <td>0.3613</td>\n",
       "      <td>0.08758</td>\n",
       "    </tr>\n",
       "    <tr>\n",
       "      <th>3</th>\n",
       "      <td>1</td>\n",
       "      <td>11.42</td>\n",
       "      <td>20.38</td>\n",
       "      <td>77.58</td>\n",
       "      <td>386.1</td>\n",
       "      <td>0.14250</td>\n",
       "      <td>0.28390</td>\n",
       "      <td>0.2414</td>\n",
       "      <td>0.10520</td>\n",
       "      <td>0.2597</td>\n",
       "      <td>...</td>\n",
       "      <td>14.91</td>\n",
       "      <td>26.50</td>\n",
       "      <td>98.87</td>\n",
       "      <td>567.7</td>\n",
       "      <td>0.2098</td>\n",
       "      <td>0.8663</td>\n",
       "      <td>0.6869</td>\n",
       "      <td>0.2575</td>\n",
       "      <td>0.6638</td>\n",
       "      <td>0.17300</td>\n",
       "    </tr>\n",
       "    <tr>\n",
       "      <th>4</th>\n",
       "      <td>1</td>\n",
       "      <td>20.29</td>\n",
       "      <td>14.34</td>\n",
       "      <td>135.10</td>\n",
       "      <td>1297.0</td>\n",
       "      <td>0.10030</td>\n",
       "      <td>0.13280</td>\n",
       "      <td>0.1980</td>\n",
       "      <td>0.10430</td>\n",
       "      <td>0.1809</td>\n",
       "      <td>...</td>\n",
       "      <td>22.54</td>\n",
       "      <td>16.67</td>\n",
       "      <td>152.20</td>\n",
       "      <td>1575.0</td>\n",
       "      <td>0.1374</td>\n",
       "      <td>0.2050</td>\n",
       "      <td>0.4000</td>\n",
       "      <td>0.1625</td>\n",
       "      <td>0.2364</td>\n",
       "      <td>0.07678</td>\n",
       "    </tr>\n",
       "  </tbody>\n",
       "</table>\n",
       "<p>5 rows × 31 columns</p>\n",
       "</div>"
      ],
      "text/plain": [
       "   diagnosis  radius_mean  texture_mean  perimeter_mean  area_mean  \\\n",
       "0          1        17.99         10.38          122.80     1001.0   \n",
       "1          1        20.57         17.77          132.90     1326.0   \n",
       "2          1        19.69         21.25          130.00     1203.0   \n",
       "3          1        11.42         20.38           77.58      386.1   \n",
       "4          1        20.29         14.34          135.10     1297.0   \n",
       "\n",
       "   smoothness_mean  compactness_mean  concavity_mean  concave_poinits_mean  \\\n",
       "0          0.11840           0.27760          0.3001               0.14710   \n",
       "1          0.08474           0.07864          0.0869               0.07017   \n",
       "2          0.10960           0.15990          0.1974               0.12790   \n",
       "3          0.14250           0.28390          0.2414               0.10520   \n",
       "4          0.10030           0.13280          0.1980               0.10430   \n",
       "\n",
       "   symmetry_mean  ...  radius_largest  texture_largest  perimeter_largest  \\\n",
       "0         0.2419  ...           25.38            17.33             184.60   \n",
       "1         0.1812  ...           24.99            23.41             158.80   \n",
       "2         0.2069  ...           23.57            25.53             152.50   \n",
       "3         0.2597  ...           14.91            26.50              98.87   \n",
       "4         0.1809  ...           22.54            16.67             152.20   \n",
       "\n",
       "   area_largest  smoothness_largest  compactness_largest  concavity_largest  \\\n",
       "0        2019.0              0.1622               0.6656             0.7119   \n",
       "1        1956.0              0.1238               0.1866             0.2416   \n",
       "2        1709.0              0.1444               0.4245             0.4504   \n",
       "3         567.7              0.2098               0.8663             0.6869   \n",
       "4        1575.0              0.1374               0.2050             0.4000   \n",
       "\n",
       "   concave_poinits_largest  symmetry_largest  fractal_dimension_largest  \n",
       "0                   0.2654            0.4601                    0.11890  \n",
       "1                   0.1860            0.2750                    0.08902  \n",
       "2                   0.2430            0.3613                    0.08758  \n",
       "3                   0.2575            0.6638                    0.17300  \n",
       "4                   0.1625            0.2364                    0.07678  \n",
       "\n",
       "[5 rows x 31 columns]"
      ]
     },
     "execution_count": 6,
     "metadata": {},
     "output_type": "execute_result"
    }
   ],
   "source": [
    "#Original Code in this Cell\n",
    "#Remapping B and M to 0 and 1\n",
    "dataset[\"diagnosis\"] = dataset[\"diagnosis\"].map({\"B\": 0, \"M\": 1})\n",
    "dataset.head()"
   ]
  },
  {
   "cell_type": "markdown",
   "id": "bd44686d-bfed-46b5-b557-14cfd80866ea",
   "metadata": {},
   "source": [
    "## Modifying Features - Normalisation\n",
    "\n",
    "The concept is the following - each feature is in a different range. \n",
    "For each feature X: <br>\n",
    "$ if X(valuesMin) < 0 ? : X(valuesMapped) \\in [-1, 1]$ <br>\n",
    "$else: X(valuesMapped) \\in [0, 1] $\n"
   ]
  },
  {
   "cell_type": "code",
   "execution_count": 40,
   "id": "528082c6-a222-4fe1-a61c-fb680a22cf3f",
   "metadata": {},
   "outputs": [
    {
     "name": "stdout",
     "output_type": "stream",
     "text": [
      "False\n"
     ]
    }
   ],
   "source": [
    "#Original code\n",
    "#are there values less than 0 in df?\n",
    "has_minus = False\n",
    "\n",
    "for col in dataset.columns:\n",
    "    if dataset[col].lt(0).any():\n",
    "        has_minus = True\n",
    "        break\n",
    "\n",
    "print(has_minus)"
   ]
  },
  {
   "cell_type": "markdown",
   "id": "35006194-da09-46ad-b8d1-9177a802be12",
   "metadata": {},
   "source": [
    "### As no values < 0, the Dataframe will be normalised to [0,1]"
   ]
  },
  {
   "cell_type": "code",
   "execution_count": 84,
   "id": "d9a07092-70dd-45a4-bed9-5be918db166f",
   "metadata": {},
   "outputs": [],
   "source": [
    "#first line of code adapted from Stack Overflow user Cina, Feb 6, 2020, \"Normalize columns of a dataframe\"\n",
    "#https://stackoverflow.com/questions/26414913/normalize-columns-of-a-dataframe\n",
    "df_scaled=(dataset-dataset.min())/(dataset.max()-dataset.min())\n",
    "#Original Code\n",
    "df_scaled[\"diagnosis\"] = df_scaled[\"diagnosis\"].astype(int)"
   ]
  },
  {
   "cell_type": "markdown",
   "id": "d88ab49f-a11d-436d-8ed1-bfa9efc81a0e",
   "metadata": {},
   "source": [
    "## Formatting Data \n",
    "\n",
    "Finally, after removing unneeded values, then modifying and normalising values for training, data will be split into 80% training and 20% testing X and Y tensors."
   ]
  },
  {
   "cell_type": "code",
   "execution_count": 89,
   "id": "4b953030-01d0-4bb7-afec-9c49cb446d16",
   "metadata": {},
   "outputs": [],
   "source": [
    "#Original code\n",
    "import sklearn\n",
    "y = np.array(df_scaled[\"diagnosis\"])\n",
    "x = np.array(df_scaled.drop(\"diagnosis\",axis=1))\n",
    "\n"
   ]
  },
  {
   "cell_type": "code",
   "execution_count": 113,
   "id": "8ac28c70-1ccb-4226-a248-9e9b23ee627a",
   "metadata": {},
   "outputs": [
    {
     "data": {
      "text/plain": [
       "TensorShape([455, 30])"
      ]
     },
     "execution_count": 113,
     "metadata": {},
     "output_type": "execute_result"
    }
   ],
   "source": [
    "#Original code\n",
    "#split by 80%\n",
    "cut_off = round(len(df_scaled[\"diagnosis\"]) * 0.8)\n",
    "\n",
    "#finally convert to tensor\n",
    "x_train = tf.convert_to_tensor(x[0:cut_off])\n",
    "x_test = tf.convert_to_tensor(x[cut_off:])\n",
    "y_train = tf.convert_to_tensor(y[0:cut_off])\n",
    "y_test = tf.convert_to_tensor(y[cut_off:])\n",
    "x_train.shape"
   ]
  },
  {
   "cell_type": "markdown",
   "id": "74177011-7a62-4d2d-865d-1b52080937f0",
   "metadata": {},
   "source": [
    "# Stage 5: Better Than Baseline Model - Underfitting + Statistical Power\n",
    "\n",
    "This section focuses on building a model that is intentionally underfitted, in order to see the statistical power of the algorithms used. This section explores playing with last layer activations."
   ]
  },
  {
   "cell_type": "markdown",
   "id": "d1a03488-00af-4d92-931c-f2c9ca539073",
   "metadata": {},
   "source": [
    "## Building the Model\n",
    "\n",
    "This tests involves 3 models: \n",
    "\n",
    "| Model Name | Epochs | Batch Size | Non-output Layers | Units/Layer | Activation Input Layer | Activation Output Layer | Optimizer | Loss | Metrics |\n",
    "| --- | --- | --- | --- | --- | --- | --- | --- | --- | --- | \n",
    "| Baseline | 8 | 5 | 1 | 5 | linear | sigmoid | rmsprop | binary cross entropy | precision at recall |\n",
    "| Relu RMS | 8 | 5 | 1 | 5 | relU | sigmoid | rmsprop | binary cross entropy | precision at recall |\n",
    "| Relu ADAM | 8 | 5 | 1 | 5 | relU | sigmoid | adam | binary cross entropy | precision at recall |\n",
    "\n",
    "\n",
    "The goal is to establish a baseline using low values to cause intentional underfitting then using the same values test on other input layer activations and optimizers."
   ]
  },
  {
   "cell_type": "markdown",
   "id": "fd7c6600-d183-41a4-b769-6d9e1be19135",
   "metadata": {},
   "source": [
    "### Model 1: Baseline\n",
    "The linear activation model"
   ]
  },
  {
   "cell_type": "code",
   "execution_count": 1016,
   "id": "11beab16-bebe-4271-b429-21af05133240",
   "metadata": {},
   "outputs": [
    {
     "name": "stdout",
     "output_type": "stream",
     "text": [
      "Model: \"sequential_231\"\n",
      "_________________________________________________________________\n",
      " Layer (type)                Output Shape              Param #   \n",
      "=================================================================\n",
      " dense_1002 (Dense)          (None, 5)                 155       \n",
      "                                                                 \n",
      " dense_1003 (Dense)          (None, 1)                 6         \n",
      "                                                                 \n",
      "=================================================================\n",
      "Total params: 161\n",
      "Trainable params: 161\n",
      "Non-trainable params: 0\n",
      "_________________________________________________________________\n"
     ]
    }
   ],
   "source": [
    "#Original code\n",
    "from tensorflow import keras\n",
    "from keras import models \n",
    "from keras.models import Sequential\n",
    "from keras import layers\n",
    "from keras.layers import Dense\n",
    "\n",
    "#underfitting variables to be used by both models\n",
    "epochs_underfit = 8\n",
    "batch_size_underfit = 5\n",
    "\n",
    "baseline_model = Sequential()\n",
    "\n",
    "#Input layer\n",
    "baseline_model.add(Dense(units=5, activation='linear', input_dim=30))\n",
    "#Output layer\n",
    "baseline_model.add(Dense(units=1, activation='sigmoid'))\n",
    "\n",
    "#Compiling - optimizers, loss function, metrics\n",
    "baseline_model.compile(optimizer='rmsprop', loss='binary_crossentropy', metrics=['accuracy', keras.metrics.Precision(), keras.metrics.Recall()])\n",
    "\n",
    "baseline_model.summary()"
   ]
  },
  {
   "cell_type": "markdown",
   "id": "33346b7c-a507-4e0e-b374-864c47c026f0",
   "metadata": {},
   "source": [
    "#### Fitting"
   ]
  },
  {
   "cell_type": "code",
   "execution_count": 1017,
   "id": "7a8392d5-f75b-4308-98c6-2cbe74b608a7",
   "metadata": {},
   "outputs": [
    {
     "name": "stdout",
     "output_type": "stream",
     "text": [
      "Epoch 1/8\n",
      "91/91 [==============================] - 3s 5ms/step - loss: 0.6690 - accuracy: 0.5560 - precision_251: 0.4793 - recall_251: 0.9946 - val_loss: 0.6664 - val_accuracy: 0.5263 - val_precision_251: 0.3250 - val_recall_251: 1.0000\n",
      "Epoch 2/8\n",
      "91/91 [==============================] - 0s 2ms/step - loss: 0.6199 - accuracy: 0.8132 - precision_251: 0.6920 - recall_251: 0.9785 - val_loss: 0.6079 - val_accuracy: 0.8246 - val_precision_251: 0.5652 - val_recall_251: 1.0000\n",
      "Epoch 3/8\n",
      "91/91 [==============================] - 0s 2ms/step - loss: 0.5647 - accuracy: 0.9231 - precision_251: 0.8647 - recall_251: 0.9624 - val_loss: 0.5446 - val_accuracy: 0.8947 - val_precision_251: 0.6842 - val_recall_251: 1.0000\n",
      "Epoch 4/8\n",
      "91/91 [==============================] - 0s 2ms/step - loss: 0.5047 - accuracy: 0.9275 - precision_251: 0.9048 - recall_251: 0.9194 - val_loss: 0.4871 - val_accuracy: 0.9035 - val_precision_251: 0.7027 - val_recall_251: 1.0000\n",
      "Epoch 5/8\n",
      "91/91 [==============================] - 0s 2ms/step - loss: 0.4493 - accuracy: 0.9231 - precision_251: 0.8995 - recall_251: 0.9140 - val_loss: 0.4175 - val_accuracy: 0.9035 - val_precision_251: 0.7419 - val_recall_251: 0.8846\n",
      "Epoch 6/8\n",
      "91/91 [==============================] - 0s 2ms/step - loss: 0.3955 - accuracy: 0.9187 - precision_251: 0.9357 - recall_251: 0.8602 - val_loss: 0.3885 - val_accuracy: 0.9123 - val_precision_251: 0.7222 - val_recall_251: 1.0000\n",
      "Epoch 7/8\n",
      "91/91 [==============================] - 0s 2ms/step - loss: 0.3501 - accuracy: 0.9231 - precision_251: 0.9126 - recall_251: 0.8978 - val_loss: 0.3364 - val_accuracy: 0.9035 - val_precision_251: 0.7273 - val_recall_251: 0.9231\n",
      "Epoch 8/8\n",
      "91/91 [==============================] - 0s 2ms/step - loss: 0.3110 - accuracy: 0.9319 - precision_251: 0.9235 - recall_251: 0.9086 - val_loss: 0.2882 - val_accuracy: 0.9123 - val_precision_251: 0.7667 - val_recall_251: 0.8846\n"
     ]
    }
   ],
   "source": [
    "#Original code\n",
    "baseline_history = baseline_model.fit(x_train, y_train, epochs=epochs_underfit, batch_size=batch_size_underfit, validation_data=(x_test, y_test))"
   ]
  },
  {
   "cell_type": "markdown",
   "id": "44e66b56-a28f-4eb1-922d-d4dd896881aa",
   "metadata": {},
   "source": [
    "### Displaying Results for Baseline Model\n",
    "\n",
    "This will give an idea of the value the <b>Experiment 1</b> model has to surpass in order to satisfy the conditions of this stage."
   ]
  },
  {
   "cell_type": "markdown",
   "id": "52e982ac-1c06-4630-9935-51cd54be4504",
   "metadata": {},
   "source": [
    "#### Loss "
   ]
  },
  {
   "cell_type": "code",
   "execution_count": 1018,
   "id": "ce02265e-df9f-46fd-ae13-de2be18d39bc",
   "metadata": {},
   "outputs": [
    {
     "name": "stdout",
     "output_type": "stream",
     "text": [
      "0.4830281399190426\n",
      "0.4670756459236145\n"
     ]
    },
    {
     "data": {
      "image/png": "[encoded data removed]",
      "text/plain": [
       "<Figure size 640x480 with 1 Axes>"
      ]
     },
     "metadata": {},
     "output_type": "display_data"
    }
   ],
   "source": [
    "#Most of this code is not mine, I have only inserted the names of my variables.\n",
    "#Code referenced from: hollet F., Deep Learning With Python (2017), Chapter 3.4.4, Listing 3.9 Plotting the training and validation loss\n",
    "import matplotlib.pyplot as plt\n",
    "history_dict = baseline_history.history\n",
    "loss_values = history_dict['loss']\n",
    "val_loss_values = history_dict['val_loss']\n",
    "print(sum(loss_values)/len(loss_values))\n",
    "print(sum(val_loss_values)/len(val_loss_values))\n",
    "epochs = range(1, len(history_dict[\"accuracy\"]) + 1)\n",
    "plt.plot(epochs, loss_values, 'bo', label='Training loss')\n",
    "plt.plot(epochs, val_loss_values, 'b', label='Validation loss')\n",
    "plt.title('Training and validation loss')\n",
    "plt.xlabel('Epochs')\n",
    "plt.ylabel('Loss')\n",
    "plt.legend()\n",
    "plt.show()"
   ]
  },
  {
   "cell_type": "markdown",
   "id": "ba164d55-7e4e-4d32-aa7e-c7a0b5688275",
   "metadata": {},
   "source": [
    "#### Accuracy:"
   ]
  },
  {
   "cell_type": "code",
   "execution_count": 1019,
   "id": "26b4be74-9dd5-4670-b593-1374b673addc",
   "metadata": {},
   "outputs": [
    {
     "name": "stdout",
     "output_type": "stream",
     "text": [
      "0.8645604476332664\n",
      "0.8475877195596695\n"
     ]
    },
    {
     "data": {
      "image/png": "[encoded data removed]",
      "text/plain": [
       "<Figure size 640x480 with 1 Axes>"
      ]
     },
     "metadata": {},
     "output_type": "display_data"
    }
   ],
   "source": [
    "#Most of this code is not mine, I have only inserted the names of my variables.\n",
    "#Code referenced from: hollet F., Deep Learning With Python (2017), Chapter 3.4.4, Listing 3.9 Plotting the training and validation loss\n",
    "plt.clf()\n",
    "acc_values = history_dict['accuracy']\n",
    "val_acc_values = history_dict['val_accuracy']\n",
    "print(sum(acc_values)/len(acc_values))\n",
    "print(sum(val_acc_values)/len(val_acc_values))\n",
    "plt.title('Training and Validation Accuracy')\n",
    "plt.plot(epochs, acc_values, 'bo', label='Training Accuracy')\n",
    "plt.plot(epochs, val_acc_values, 'b', label='Validation Accuracy')\n",
    "plt.title('Training and validation accuracy')\n",
    "plt.xlabel('Epochs')\n",
    "plt.ylabel('Loss')\n",
    "plt.legend()\n",
    "plt.show()"
   ]
  },
  {
   "cell_type": "markdown",
   "id": "234b4a75-5277-4508-a829-fe15c72ae04d",
   "metadata": {},
   "source": [
    "#### Parameters"
   ]
  },
  {
   "cell_type": "code",
   "execution_count": 1020,
   "id": "d474f906-3c9f-43da-a231-3a562667d7e0",
   "metadata": {},
   "outputs": [
    {
     "name": "stdout",
     "output_type": "stream",
     "text": [
      "{'Loss Min': [0.311024010181427, 'Dict0'], 'Loss Mean': [0.4830281399190426, 'Dict0'], 'Loss Last': [0.311024010181427, 'Dict0'], 'Accuracy Max': [0.9318681359291077, 'Dict0'], 'Accuracy Mean': [0.8645604476332664, 'Dict0'], 'Accuracy Last': [0.9318681359291077, 'Dict0'], 'Precision Max': [0.9356725215911865, 'Dict0'], 'Precision Mean': [0.8264993838965893, 'Dict0'], 'Precision Last': [0.9234972596168518, 'Dict0'], 'Recall Max': [0.9946236610412598, 'Dict0'], 'Recall Mean': [0.9294354915618896, 'Dict0'], 'Recall Last': [0.9086021780967712, 'Dict0'], 'Val Loss Min': [0.28819355368614197, 'Dict0'], 'Val Loss Mean': [0.4670756459236145, 'Dict0'], 'Val Loss Last': [0.28819355368614197, 'Dict0'], 'Val Accuracy Max': [0.9122806787490845, 'Dict0'], 'Val Accuracy Mean': [0.8475877195596695, 'Dict0'], 'Val Accuracy Last': [0.9122806787490845, 'Dict0'], 'Val Precision Max': [0.7666666507720947, 'Dict0'], 'Val Precision Mean': [0.6544034630060196, 'Dict0'], 'Val Precision Last': [0.7666666507720947, 'Dict0'], 'Val Recall Max': [1.0, 'Dict0'], 'Val Recall Mean': [0.9615384563803673, 'Dict0'], 'Val Recall Last': [0.8846153616905212, 'Dict0']}\n"
     ]
    }
   ],
   "source": [
    "#Original code\n",
    "print(compare_histories([history_dict]))"
   ]
  },
  {
   "cell_type": "markdown",
   "id": "1c120396-a441-4879-8dcb-c651e33ea49d",
   "metadata": {},
   "source": [
    "### Model Relu RMS"
   ]
  },
  {
   "cell_type": "code",
   "execution_count": 1021,
   "id": "44b3e768-abc4-4c52-b660-59c655299d3b",
   "metadata": {},
   "outputs": [
    {
     "name": "stdout",
     "output_type": "stream",
     "text": [
      "Model: \"sequential_232\"\n",
      "_________________________________________________________________\n",
      " Layer (type)                Output Shape              Param #   \n",
      "=================================================================\n",
      " dense_1004 (Dense)          (None, 5)                 155       \n",
      "                                                                 \n",
      " dense_1005 (Dense)          (None, 1)                 6         \n",
      "                                                                 \n",
      "=================================================================\n",
      "Total params: 161\n",
      "Trainable params: 161\n",
      "Non-trainable params: 0\n",
      "_________________________________________________________________\n"
     ]
    }
   ],
   "source": [
    "#Original code\n",
    "relu_rms_model = models.Sequential()\n",
    "\n",
    "relu_rms_model.add(layers.Dense(units=5, activation='relu', input_dim=30))\n",
    "\n",
    "relu_rms_model.add(layers.Dense(units=1, activation='sigmoid'))\n",
    "\n",
    "relu_rms_model.compile(optimizer='rmsprop', loss='binary_crossentropy', metrics=['accuracy', keras.metrics.Precision(), keras.metrics.Recall()])\n",
    "\n",
    "relu_rms_model.summary()"
   ]
  },
  {
   "cell_type": "markdown",
   "id": "c3da0268-0b43-4f5f-9ab9-b66d755a225c",
   "metadata": {},
   "source": [
    "#### Fitting"
   ]
  },
  {
   "cell_type": "code",
   "execution_count": 1022,
   "id": "47c0468e-e119-4cad-bb20-4e8841a847d4",
   "metadata": {},
   "outputs": [
    {
     "name": "stdout",
     "output_type": "stream",
     "text": [
      "Epoch 1/8\n",
      "91/91 [==============================] - 1s 5ms/step - loss: 0.6816 - accuracy: 0.5209 - precision_252: 0.4585 - recall_252: 0.9516 - val_loss: 0.6742 - val_accuracy: 0.6053 - val_precision_252: 0.3662 - val_recall_252: 1.0000\n",
      "Epoch 2/8\n",
      "91/91 [==============================] - 0s 2ms/step - loss: 0.6497 - accuracy: 0.7846 - precision_252: 0.7018 - recall_252: 0.8226 - val_loss: 0.6287 - val_accuracy: 0.8596 - val_precision_252: 0.6250 - val_recall_252: 0.9615\n",
      "Epoch 3/8\n",
      "91/91 [==============================] - 0s 2ms/step - loss: 0.6151 - accuracy: 0.8703 - precision_252: 0.8547 - recall_252: 0.8226 - val_loss: 0.5778 - val_accuracy: 0.9386 - val_precision_252: 0.8800 - val_recall_252: 0.8462\n",
      "Epoch 4/8\n",
      "91/91 [==============================] - 0s 2ms/step - loss: 0.5775 - accuracy: 0.8835 - precision_252: 0.9182 - recall_252: 0.7849 - val_loss: 0.5438 - val_accuracy: 0.9298 - val_precision_252: 0.8000 - val_recall_252: 0.9231\n",
      "Epoch 5/8\n",
      "91/91 [==============================] - 0s 2ms/step - loss: 0.5397 - accuracy: 0.8879 - precision_252: 0.9141 - recall_252: 0.8011 - val_loss: 0.5087 - val_accuracy: 0.9298 - val_precision_252: 0.7812 - val_recall_252: 0.9615\n",
      "Epoch 6/8\n",
      "91/91 [==============================] - 0s 2ms/step - loss: 0.5016 - accuracy: 0.9011 - precision_252: 0.9222 - recall_252: 0.8280 - val_loss: 0.4728 - val_accuracy: 0.9211 - val_precision_252: 0.7576 - val_recall_252: 0.9615\n",
      "Epoch 7/8\n",
      "91/91 [==============================] - 0s 2ms/step - loss: 0.4637 - accuracy: 0.9077 - precision_252: 0.9235 - recall_252: 0.8441 - val_loss: 0.4463 - val_accuracy: 0.8860 - val_precision_252: 0.6757 - val_recall_252: 0.9615\n",
      "Epoch 8/8\n",
      "91/91 [==============================] - 0s 2ms/step - loss: 0.4289 - accuracy: 0.9033 - precision_252: 0.9034 - recall_252: 0.8548 - val_loss: 0.4081 - val_accuracy: 0.9298 - val_precision_252: 0.7812 - val_recall_252: 0.9615\n"
     ]
    }
   ],
   "source": [
    "#Original code\n",
    "relu_rms_model = relu_rms_model.fit(x_train, y_train, epochs=epochs_underfit, batch_size=batch_size_underfit, validation_data=(x_test, y_test))"
   ]
  },
  {
   "cell_type": "markdown",
   "id": "74e23124-a8d3-4303-8762-32ce97d0a99d",
   "metadata": {},
   "source": [
    "#### Loss "
   ]
  },
  {
   "cell_type": "code",
   "execution_count": 1023,
   "id": "ee7f5c0e-2c21-4bea-b9ba-30db3123335b",
   "metadata": {},
   "outputs": [
    {
     "name": "stdout",
     "output_type": "stream",
     "text": [
      "0.5572385042905807\n",
      "0.5325582176446915\n"
     ]
    },
    {
     "data": {
      "image/png": "[encoded data removed]",
      "text/plain": [
       "<Figure size 640x480 with 1 Axes>"
      ]
     },
     "metadata": {},
     "output_type": "display_data"
    }
   ],
   "source": [
    "#Most of this code is not mine, I have only inserted the names of my variables.\n",
    "#Code referenced from: hollet F., Deep Learning With Python (2017), Chapter 3.4.4, Listing 3.9 Plotting the training and validation loss\n",
    "import matplotlib.pyplot as plt\n",
    "history_dict = relu_rms_model.history\n",
    "loss_values = history_dict['loss']\n",
    "val_loss_values = history_dict['val_loss']\n",
    "print(sum(loss_values)/len(loss_values))\n",
    "print(sum(val_loss_values)/len(val_loss_values))\n",
    "epochs = range(1, len(history_dict[\"accuracy\"]) + 1)\n",
    "plt.plot(epochs, loss_values, 'bo', label='Training loss')\n",
    "plt.plot(epochs, val_loss_values, 'b', label='Validation loss')\n",
    "plt.title('Training and validation loss')\n",
    "plt.xlabel('Epochs')\n",
    "plt.ylabel('Loss')\n",
    "plt.legend()\n",
    "plt.show()"
   ]
  },
  {
   "cell_type": "markdown",
   "id": "7a8fed30-dacc-4c50-afb0-8d45e36ee7d7",
   "metadata": {},
   "source": [
    "#### Accuracy:"
   ]
  },
  {
   "cell_type": "code",
   "execution_count": 1024,
   "id": "7e9e68c0-720a-4e64-b149-6c925ed6720f",
   "metadata": {},
   "outputs": [
    {
     "name": "stdout",
     "output_type": "stream",
     "text": [
      "0.8324175924062729\n",
      "0.8750000149011612\n"
     ]
    },
    {
     "data": {
      "image/png": "[encoded data removed]",
      "text/plain": [
       "<Figure size 640x480 with 1 Axes>"
      ]
     },
     "metadata": {},
     "output_type": "display_data"
    }
   ],
   "source": [
    "#Most of this code is not mine, I have only inserted the names of my variables.\n",
    "#Code referenced from: hollet F., Deep Learning With Python (2017), Chapter 3.4.4, Listing 3.9 Plotting the training and validation loss\n",
    "plt.clf()\n",
    "acc_values = history_dict['accuracy']\n",
    "val_acc_values = history_dict['val_accuracy']\n",
    "print(sum(acc_values)/len(acc_values))\n",
    "print(sum(val_acc_values)/len(val_acc_values))\n",
    "plt.title('Training and Validation Accuracy')\n",
    "plt.plot(epochs, acc_values, 'bo', label='Training Accuracy')\n",
    "plt.plot(epochs, val_acc_values, 'b', label='Validation Accuracy')\n",
    "plt.title('Training and validation accuracy')\n",
    "plt.xlabel('Epochs')\n",
    "plt.ylabel('Loss')\n",
    "plt.legend()\n",
    "plt.show()"
   ]
  },
  {
   "cell_type": "markdown",
   "id": "93d9f331-3fb1-423f-9336-7203bdd1a83a",
   "metadata": {},
   "source": [
    "#### Parameters"
   ]
  },
  {
   "cell_type": "code",
   "execution_count": 1025,
   "id": "e40f5ff3-191b-4c04-804e-d0fb676481ac",
   "metadata": {
    "scrolled": true
   },
   "outputs": [
    {
     "name": "stdout",
     "output_type": "stream",
     "text": [
      "{'Loss Min': [0.4289276897907257, 'Dict0'], 'Loss Mean': [0.5572385042905807, 'Dict0'], 'Loss Last': [0.4289276897907257, 'Dict0'], 'Accuracy Max': [0.9076923131942749, 'Dict0'], 'Accuracy Mean': [0.8324175924062729, 'Dict0'], 'Accuracy Last': [0.903296709060669, 'Dict0'], 'Precision Max': [0.9235293865203857, 'Dict0'], 'Precision Mean': [0.824572030454874, 'Dict0'], 'Precision Last': [0.9034090638160706, 'Dict0'], 'Recall Max': [0.9516128897666931, 'Dict0'], 'Recall Mean': [0.838709682226181, 'Dict0'], 'Recall Last': [0.8548387289047241, 'Dict0'], 'Val Loss Min': [0.4080696403980255, 'Dict0'], 'Val Loss Mean': [0.5325582176446915, 'Dict0'], 'Val Loss Last': [0.4080696403980255, 'Dict0'], 'Val Accuracy Max': [0.9385964870452881, 'Dict0'], 'Val Accuracy Mean': [0.8750000149011612, 'Dict0'], 'Val Accuracy Last': [0.9298245906829834, 'Dict0'], 'Val Precision Max': [0.8799999952316284, 'Dict0'], 'Val Precision Mean': [0.7083685770630836, 'Dict0'], 'Val Precision Last': [0.78125, 'Dict0'], 'Val Recall Max': [1.0, 'Dict0'], 'Val Recall Mean': [0.9471153691411018, 'Dict0'], 'Val Recall Last': [0.9615384340286255, 'Dict0']}\n"
     ]
    }
   ],
   "source": [
    "#Original code\n",
    "print(compare_histories([history_dict]))"
   ]
  },
  {
   "cell_type": "markdown",
   "id": "a5b9455f-f5b6-4492-b8da-49096db43843",
   "metadata": {},
   "source": [
    "### Model Relu ADAM"
   ]
  },
  {
   "cell_type": "code",
   "execution_count": 1026,
   "id": "d1566a29-8e18-4c64-8b57-43582d334b10",
   "metadata": {},
   "outputs": [
    {
     "name": "stdout",
     "output_type": "stream",
     "text": [
      "Model: \"sequential_233\"\n",
      "_________________________________________________________________\n",
      " Layer (type)                Output Shape              Param #   \n",
      "=================================================================\n",
      " dense_1006 (Dense)          (None, 5)                 155       \n",
      "                                                                 \n",
      " dense_1007 (Dense)          (None, 1)                 6         \n",
      "                                                                 \n",
      "=================================================================\n",
      "Total params: 161\n",
      "Trainable params: 161\n",
      "Non-trainable params: 0\n",
      "_________________________________________________________________\n"
     ]
    }
   ],
   "source": [
    "#Original code\n",
    "relu_adam_model = models.Sequential()\n",
    "\n",
    "relu_adam_model.add(layers.Dense(units=5, activation='relu', input_dim=30))\n",
    "\n",
    "relu_adam_model.add(layers.Dense(units=1, activation='sigmoid'))\n",
    "\n",
    "relu_adam_model.compile(optimizer='adam', loss='binary_crossentropy', metrics=['accuracy', keras.metrics.Precision(), keras.metrics.Recall()])\n",
    "\n",
    "relu_adam_model.summary()"
   ]
  },
  {
   "cell_type": "markdown",
   "id": "e971ae07-4674-4cba-85ec-977b7c4af6ad",
   "metadata": {},
   "source": [
    "#### Fitting"
   ]
  },
  {
   "cell_type": "code",
   "execution_count": 1027,
   "id": "79cc1937-4f9e-4307-af98-4d617d5b42bd",
   "metadata": {
    "scrolled": true
   },
   "outputs": [
    {
     "name": "stdout",
     "output_type": "stream",
     "text": [
      "Epoch 1/8\n",
      "91/91 [==============================] - 1s 5ms/step - loss: 0.6908 - accuracy: 0.5407 - precision_253: 0.2982 - recall_253: 0.0914 - val_loss: 0.6771 - val_accuracy: 0.7544 - val_precision_253: 0.3333 - val_recall_253: 0.0769\n",
      "Epoch 2/8\n",
      "91/91 [==============================] - 0s 2ms/step - loss: 0.6640 - accuracy: 0.7231 - precision_253: 0.6948 - recall_253: 0.5753 - val_loss: 0.6474 - val_accuracy: 0.6667 - val_precision_253: 0.4062 - val_recall_253: 1.0000\n",
      "Epoch 3/8\n",
      "91/91 [==============================] - 0s 2ms/step - loss: 0.6080 - accuracy: 0.7758 - precision_253: 0.6544 - recall_253: 0.9570 - val_loss: 0.5806 - val_accuracy: 0.8070 - val_precision_253: 0.5435 - val_recall_253: 0.9615\n",
      "Epoch 4/8\n",
      "91/91 [==============================] - 0s 2ms/step - loss: 0.5398 - accuracy: 0.8835 - precision_253: 0.8122 - recall_253: 0.9301 - val_loss: 0.5357 - val_accuracy: 0.7895 - val_precision_253: 0.5208 - val_recall_253: 0.9615\n",
      "Epoch 5/8\n",
      "91/91 [==============================] - 0s 2ms/step - loss: 0.4843 - accuracy: 0.9099 - precision_253: 0.8436 - recall_253: 0.9570 - val_loss: 0.4687 - val_accuracy: 0.8860 - val_precision_253: 0.6757 - val_recall_253: 0.9615\n",
      "Epoch 6/8\n",
      "91/91 [==============================] - 0s 2ms/step - loss: 0.4349 - accuracy: 0.9099 - precision_253: 0.8607 - recall_253: 0.9301 - val_loss: 0.4179 - val_accuracy: 0.8947 - val_precision_253: 0.6944 - val_recall_253: 0.9615\n",
      "Epoch 7/8\n",
      "91/91 [==============================] - 0s 2ms/step - loss: 0.3943 - accuracy: 0.9077 - precision_253: 0.8750 - recall_253: 0.9032 - val_loss: 0.3832 - val_accuracy: 0.8947 - val_precision_253: 0.6944 - val_recall_253: 0.9615\n",
      "Epoch 8/8\n",
      "91/91 [==============================] - 0s 2ms/step - loss: 0.3557 - accuracy: 0.9187 - precision_253: 0.8860 - recall_253: 0.9194 - val_loss: 0.3528 - val_accuracy: 0.8947 - val_precision_253: 0.6944 - val_recall_253: 0.9615\n"
     ]
    }
   ],
   "source": [
    "#Original code\n",
    "relu_adam_model = relu_adam_model.fit(x_train, y_train, epochs=epochs_underfit, batch_size=batch_size_underfit, validation_data=(x_test, y_test))"
   ]
  },
  {
   "cell_type": "markdown",
   "id": "43f83d79-fb9e-44c5-a9d5-efe46fd393de",
   "metadata": {},
   "source": [
    "#### Loss "
   ]
  },
  {
   "cell_type": "code",
   "execution_count": 1028,
   "id": "f2391b92-a10c-4ef5-b8dc-617424b99dcb",
   "metadata": {},
   "outputs": [
    {
     "name": "stdout",
     "output_type": "stream",
     "text": [
      "0.5214887224137783\n",
      "0.5079277157783508\n"
     ]
    },
    {
     "data": {
      "image/png": "[encoded data removed]",
      "text/plain": [
       "<Figure size 640x480 with 1 Axes>"
      ]
     },
     "metadata": {},
     "output_type": "display_data"
    }
   ],
   "source": [
    "#Most of this code is not mine, I have only inserted the names of my variables.\n",
    "#Code referenced from: hollet F., Deep Learning With Python (2017), Chapter 3.4.4, Listing 3.9 Plotting the training and validation loss\n",
    "import matplotlib.pyplot as plt\n",
    "history_dict = relu_adam_model.history\n",
    "loss_values = history_dict['loss']\n",
    "val_loss_values = history_dict['val_loss']\n",
    "print(sum(loss_values)/len(loss_values))\n",
    "print(sum(val_loss_values)/len(val_loss_values))\n",
    "epochs = range(1, len(history_dict[\"accuracy\"]) + 1)\n",
    "plt.plot(epochs, loss_values, 'bo', label='Training loss')\n",
    "plt.plot(epochs, val_loss_values, 'b', label='Validation loss')\n",
    "plt.title('Training and validation loss')\n",
    "plt.xlabel('Epochs')\n",
    "plt.ylabel('Loss')\n",
    "plt.legend()\n",
    "plt.show()"
   ]
  },
  {
   "cell_type": "markdown",
   "id": "03a47645-b89f-42bb-be13-751e12c67a5e",
   "metadata": {},
   "source": [
    "#### Accuracy:"
   ]
  },
  {
   "cell_type": "code",
   "execution_count": 1029,
   "id": "4fecb781-fed2-4f6b-afff-d37e650f07a6",
   "metadata": {
    "scrolled": true
   },
   "outputs": [
    {
     "name": "stdout",
     "output_type": "stream",
     "text": [
      "0.8211538568139076\n",
      "0.8234649151563644\n"
     ]
    },
    {
     "data": {
      "image/png": "[encoded data removed]",
      "text/plain": [
       "<Figure size 640x480 with 1 Axes>"
      ]
     },
     "metadata": {},
     "output_type": "display_data"
    }
   ],
   "source": [
    "#Most of this code is not mine, I have only inserted the names of my variables.\n",
    "#Code referenced from: hollet F., Deep Learning With Python (2017), Chapter 3.4.4, Listing 3.9 Plotting the training and validation loss\n",
    "plt.clf()\n",
    "acc_values = history_dict['accuracy']\n",
    "val_acc_values = history_dict['val_accuracy']\n",
    "print(sum(acc_values)/len(acc_values))\n",
    "print(sum(val_acc_values)/len(val_acc_values))\n",
    "plt.title('Training and Validation Accuracy')\n",
    "plt.plot(epochs, acc_values, 'bo', label='Training Accuracy')\n",
    "plt.plot(epochs, val_acc_values, 'b', label='Validation Accuracy')\n",
    "plt.title('Training and validation accuracy')\n",
    "plt.xlabel('Epochs')\n",
    "plt.ylabel('Loss')\n",
    "plt.legend()\n",
    "plt.show()"
   ]
  },
  {
   "cell_type": "markdown",
   "id": "aad45429-79ec-44f8-bc2a-d6e857730d3d",
   "metadata": {},
   "source": [
    "#### Parameters"
   ]
  },
  {
   "cell_type": "code",
   "execution_count": 1033,
   "id": "570260b9-8919-4d2c-817b-605397fce9b9",
   "metadata": {},
   "outputs": [
    {
     "name": "stdout",
     "output_type": "stream",
     "text": [
      "{'Loss Min': [0.35573810338974, 'Dict0'], 'Loss Mean': [0.5214887224137783, 'Dict0'], 'Loss Last': [0.35573810338974, 'Dict0'], 'Accuracy Max': [0.9186813235282898, 'Dict0'], 'Accuracy Mean': [0.8211538568139076, 'Dict0'], 'Accuracy Last': [0.9186813235282898, 'Dict0'], 'Precision Max': [0.8860103487968445, 'Dict0'], 'Precision Mean': [0.7406222373247147, 'Dict0'], 'Precision Last': [0.8860103487968445, 'Dict0'], 'Recall Max': [0.9569892287254333, 'Dict0'], 'Recall Mean': [0.782930102199316, 'Dict0'], 'Recall Last': [0.9193548560142517, 'Dict0'], 'Val Loss Min': [0.35283711552619934, 'Dict0'], 'Val Loss Mean': [0.5079277157783508, 'Dict0'], 'Val Loss Last': [0.35283711552619934, 'Dict0'], 'Val Accuracy Max': [0.8947368264198303, 'Dict0'], 'Val Accuracy Mean': [0.8234649151563644, 'Dict0'], 'Val Accuracy Last': [0.8947368264198303, 'Dict0'], 'Val Precision Max': [0.6944444179534912, 'Dict0'], 'Val Precision Mean': [0.5703629814088345, 'Dict0'], 'Val Precision Last': [0.6944444179534912, 'Dict0'], 'Val Recall Max': [1.0, 'Dict0'], 'Val Recall Mean': [0.8557692104950547, 'Dict0'], 'Val Recall Last': [0.9615384340286255, 'Dict0']}\n"
     ]
    }
   ],
   "source": [
    "#Original code\n",
    "print(compare_histories([history_dict]))"
   ]
  },
  {
   "cell_type": "markdown",
   "id": "ff73cc51-49ff-465d-8004-f080605b5fb9",
   "metadata": {},
   "source": [
    "## Model Analysis - Training\n",
    "\n",
    "This final sub-section analyses the models in order to see if they hold statistical power.\n",
    "This table displays their results during training:\n",
    "\n",
    "| Metric          | Baseline | Relu RMS | Relu ADAM |\n",
    "|-----------------|----------|----------|-----------|\n",
    "| Loss Min        | **0.311**| 0.429    | 0.356     |\n",
    "| Loss Mean       | **0.483**| 0.557    | 0.521     |\n",
    "| Loss Last       | **0.311**| 0.429    | 0.356     |\n",
    "| Accuracy Max    | **0.932**| 0.908    | 0.919     |\n",
    "| Accuracy Mean   | **0.865**| 0.832    | 0.821     |\n",
    "| Accuracy Last   | **0.932**| 0.903    | 0.919     |\n",
    "| Precision Max   | **0.936**| 0.924    | 0.886     |\n",
    "| Precision Mean  | **0.826**| 0.825    | 0.741     |\n",
    "| Precision Last  | **0.923**| 0.903    | 0.886     |\n",
    "| Recall Max      | **0.995**| 0.952    | 0.957     |\n",
    "| Recall Mean     | **0.929**| 0.839    | 0.783     |\n",
    "| Recall Last     | **0.909**| 0.855    | 0.919     |"
   ]
  },
  {
   "cell_type": "markdown",
   "id": "afaf0d64-f60c-4c21-9941-936da546bf22",
   "metadata": {},
   "source": [
    "## Model Analysis - Validation\n",
    "\n",
    "This table displays their results during validation:\n",
    "\n",
    "| Metric           | Baseline | Relu RMS | Relu ADAM |\n",
    "|------------------|----------|----------|-----------|\n",
    "| Val Loss Min     | **0.288**| 0.408    | 0.353     |\n",
    "| Val Loss Mean    | **0.467**| 0.533    | 0.508     |\n",
    "| Val Loss Last    | **0.288**| 0.408    | 0.353     |\n",
    "| Val Accuracy Max | 0.912| **0.939**    | 0.895     |\n",
    "| Val Accuracy Mean| 0.848| **0.875**    | 0.823     |\n",
    "| Val Accuracy Last| **0.912**| 0.930    | 0.895     |\n",
    "| Val Precision Max| 0.767    | **0.880**| 0.694     |\n",
    "| Val Precision Mean| 0.654   | **0.708**| 0.570     |\n",
    "| Val Precision Last| 0.767| **0.781**    | 0.694     |\n",
    "| Val Recall Max   | **1.000**| 1.000    | 1.000     |\n",
    "| Val Recall Mean  | **0.962**| 0.947    | 0.856     |\n",
    "| Val Recall Last  | 0.885    | **0.962**| 0.962     |"
   ]
  },
  {
   "cell_type": "markdown",
   "id": "ef8b43ac-7cb0-47cf-a484-60bde084c6c8",
   "metadata": {},
   "source": [
    "## Model Analysis - Takeaways\n",
    "\n",
    "The baseline model performed best on training across almost all fields, ADAM coming in at close second.\n",
    "\n",
    "During Validation, RMS shows significant leads on precision and accuracy values.\n",
    "\n",
    "The conclusion of this analysis is that the RMSProp model has statistical power on merits of its performance during validation, however being underfit currently it is less likely for any model to show their full potential. Further testing is needed on both models. "
   ]
  },
  {
   "cell_type": "markdown",
   "id": "224669e1-449c-4681-a5b3-e9dd4b08a38c",
   "metadata": {},
   "source": [
    "# Stage 6: Purpouseful Overfitting\n",
    "\n",
    "This section focuses on purposeful overfitting of each of the two models. These experiments show their learning capacities and thresholds.\n",
    "Each model will have 2 more layers, 100 units, train for 1000 epochs at a batch size of 64"
   ]
  },
  {
   "cell_type": "markdown",
   "id": "f86bd81b-ec12-4e58-bb79-f32d4711d78c",
   "metadata": {},
   "source": [
    "## Overfitting RMS Model"
   ]
  },
  {
   "cell_type": "code",
   "execution_count": 1246,
   "id": "a5651e2c-2fc3-462d-8ba4-de180402aac5",
   "metadata": {},
   "outputs": [
    {
     "name": "stdout",
     "output_type": "stream",
     "text": [
      "Model: \"sequential_319\"\n",
      "_________________________________________________________________\n",
      " Layer (type)                Output Shape              Param #   \n",
      "=================================================================\n",
      " dense_1405 (Dense)          (None, 1000)              31000     \n",
      "                                                                 \n",
      " dense_1406 (Dense)          (None, 1000)              1001000   \n",
      "                                                                 \n",
      " dense_1407 (Dense)          (None, 1000)              1001000   \n",
      "                                                                 \n",
      " dense_1408 (Dense)          (None, 1)                 1001      \n",
      "                                                                 \n",
      "=================================================================\n",
      "Total params: 2,034,001\n",
      "Trainable params: 2,034,001\n",
      "Non-trainable params: 0\n",
      "_________________________________________________________________\n"
     ]
    }
   ],
   "source": [
    "#Original code\n",
    "epochs_overfit = 1000\n",
    "batch_size_overfit = 64\n",
    "\n",
    "relu_rms_model = models.Sequential()\n",
    "\n",
    "relu_rms_model.add(layers.Dense(units=1000, activation='relu', input_dim=30))\n",
    "relu_rms_model.add(layers.Dense(units=1000, activation='relu', input_dim=30))\n",
    "relu_rms_model.add(layers.Dense(units=1000, activation='relu', input_dim=30))\n",
    "\n",
    "relu_rms_model.add(layers.Dense(units=1, activation='sigmoid'))\n",
    "\n",
    "relu_rms_model.compile(optimizer='rmsprop', loss='binary_crossentropy', metrics=['accuracy', keras.metrics.Precision(), keras.metrics.Recall()])\n",
    "\n",
    "relu_rms_model.summary()"
   ]
  },
  {
   "cell_type": "markdown",
   "id": "09d2e294-238b-4d8a-a3b8-e48d53c107ae",
   "metadata": {},
   "source": [
    "### Fitting"
   ]
  },
  {
   "cell_type": "code",
   "execution_count": 1247,
   "id": "f005ca5c-31bb-4fec-9356-c36789008212",
   "metadata": {},
   "outputs": [],
   "source": [
    "#Original code\n",
    "relu_rms_model = relu_rms_model.fit(x_train, y_train, epochs=epochs_overfit, batch_size=batch_size_overfit, validation_data=(x_test, y_test),verbose=0)"
   ]
  },
  {
   "cell_type": "markdown",
   "id": "c67e8506-cb6e-41ad-a562-204b50da4200",
   "metadata": {},
   "source": [
    "#### Loss "
   ]
  },
  {
   "cell_type": "code",
   "execution_count": 776,
   "id": "8d066886-5219-49ea-8b5a-8c9dc40b1a95",
   "metadata": {},
   "outputs": [
    {
     "name": "stdout",
     "output_type": "stream",
     "text": [
      "0.029376593427563876\n",
      "0.1365417102860256\n"
     ]
    },
    {
     "data": {
      "image/png": "[encoded data removed]",
      "text/plain": [
       "<Figure size 640x480 with 1 Axes>"
      ]
     },
     "metadata": {},
     "output_type": "display_data"
    }
   ],
   "source": [
    "#Most of this code is not mine, I have only inserted the names of my variables.\n",
    "#Code referenced from: hollet F., Deep Learning With Python (2017), Chapter 3.4.4, Listing 3.9 Plotting the training and validation loss\n",
    "import matplotlib.pyplot as plt\n",
    "history_dict = relu_rms_model.history\n",
    "loss_values = history_dict['loss']\n",
    "val_loss_values = history_dict['val_loss']\n",
    "print(sum(loss_values)/len(loss_values))\n",
    "print(sum(val_loss_values)/len(val_loss_values))\n",
    "epochs = range(1, len(history_dict[\"accuracy\"]) + 1)\n",
    "plt.plot(epochs, loss_values, 'bo', label='Training loss')\n",
    "plt.plot(epochs, val_loss_values, 'b', label='Validation loss')\n",
    "plt.title('Training and validation loss')\n",
    "plt.xlabel('Epochs')\n",
    "plt.ylabel('Loss')\n",
    "plt.legend()\n",
    "plt.show()"
   ]
  },
  {
   "cell_type": "markdown",
   "id": "3dd14b86-713b-41ab-940e-27374c69cdb8",
   "metadata": {},
   "source": [
    "#### Accuracy:"
   ]
  },
  {
   "cell_type": "code",
   "execution_count": 777,
   "id": "5b213253-4c26-4297-9a3d-f8b6ef81df73",
   "metadata": {},
   "outputs": [
    {
     "name": "stdout",
     "output_type": "stream",
     "text": [
      "0.9939670333266258\n",
      "0.9667894733250141\n"
     ]
    },
    {
     "data": {
      "image/png": "[encoded data removed]",
      "text/plain": [
       "<Figure size 640x480 with 1 Axes>"
      ]
     },
     "metadata": {},
     "output_type": "display_data"
    }
   ],
   "source": [
    "#Most of this code is not mine, I have only inserted the names of my variables.\n",
    "#Code referenced from: hollet F., Deep Learning With Python (2017), Chapter 3.4.4, Listing 3.9 Plotting the training and validation loss\n",
    "plt.clf()\n",
    "acc_values = history_dict['accuracy']\n",
    "val_acc_values = history_dict['val_accuracy']\n",
    "print(sum(acc_values)/len(acc_values))\n",
    "print(sum(val_acc_values)/len(val_acc_values))\n",
    "plt.title('Training and Validation Accuracy')\n",
    "plt.plot(epochs, acc_values, 'bo', label='Training Accuracy')\n",
    "plt.plot(epochs, val_acc_values, 'b', label='Validation Accuracy')\n",
    "plt.title('Training and validation accuracy')\n",
    "plt.xlabel('Epochs')\n",
    "plt.ylabel('Loss')\n",
    "plt.legend()\n",
    "plt.show()"
   ]
  },
  {
   "cell_type": "markdown",
   "id": "f216a718-cc1b-427f-ad11-3ca63f7dfeb6",
   "metadata": {},
   "source": [
    "#### Parameters"
   ]
  },
  {
   "cell_type": "code",
   "execution_count": 850,
   "id": "d33ccbe1-3e80-46e1-bcc6-f7d017c3e366",
   "metadata": {
    "scrolled": true
   },
   "outputs": [
    {
     "name": "stdout",
     "output_type": "stream",
     "text": [
      "{'Loss Min': [6.014553743938222e-09, 'Dict0'], 'Loss Mean': [0.029376593427563876, 'Dict0'], 'Loss Last': [1.396665254560503e-07, 'Dict0'], 'Accuracy Max': [1.0, 'Dict0'], 'Accuracy Mean': [0.9939670333266258, 'Dict0'], 'Accuracy Last': [1.0, 'Dict0'], 'Precision Max': [1.0, 'Dict0'], 'Precision Mean': [0.9921075809597969, 'Dict0'], 'Precision Last': [1.0, 'Dict0'], 'Recall Max': [1.0, 'Dict0'], 'Recall Mean': [0.9932849479913711, 'Dict0'], 'Recall Last': [1.0, 'Dict0'], 'Val Loss Min': [1.47733981066267e-05, 'Dict0'], 'Val Loss Mean': [0.1365417102860256, 'Dict0'], 'Val Loss Last': [0.10355515033006668, 'Dict0'], 'Val Accuracy Max': [1.0, 'Dict0'], 'Val Accuracy Mean': [0.9667894733250141, 'Dict0'], 'Val Accuracy Last': [0.9824561476707458, 'Dict0'], 'Val Precision Max': [1.0, 'Dict0'], 'Val Precision Mean': [0.8976975303292275, 'Dict0'], 'Val Precision Last': [0.9285714030265808, 'Dict0'], 'Val Recall Max': [1.0, 'Dict0'], 'Val Recall Mean': [0.9901923073269426, 'Dict0'], 'Val Recall Last': [1.0, 'Dict0']}\n"
     ]
    }
   ],
   "source": [
    "print(compare_histories([history_dict]))"
   ]
  },
  {
   "cell_type": "markdown",
   "id": "2b8e925f-6799-40ca-a3f5-37f71715981e",
   "metadata": {},
   "source": [
    "## Overfitting ADAM Model"
   ]
  },
  {
   "cell_type": "code",
   "execution_count": 1248,
   "id": "50985957-1ae9-408d-b902-5e48b3c49f83",
   "metadata": {},
   "outputs": [
    {
     "name": "stdout",
     "output_type": "stream",
     "text": [
      "Model: \"sequential_320\"\n",
      "_________________________________________________________________\n",
      " Layer (type)                Output Shape              Param #   \n",
      "=================================================================\n",
      " dense_1409 (Dense)          (None, 1000)              31000     \n",
      "                                                                 \n",
      " dense_1410 (Dense)          (None, 1000)              1001000   \n",
      "                                                                 \n",
      " dense_1411 (Dense)          (None, 1000)              1001000   \n",
      "                                                                 \n",
      " dense_1412 (Dense)          (None, 1)                 1001      \n",
      "                                                                 \n",
      "=================================================================\n",
      "Total params: 2,034,001\n",
      "Trainable params: 2,034,001\n",
      "Non-trainable params: 0\n",
      "_________________________________________________________________\n"
     ]
    }
   ],
   "source": [
    "#Original code\n",
    "relu_adam_model = models.Sequential()\n",
    "\n",
    "relu_adam_model.add(layers.Dense(units=1000, activation='relu', input_dim=30))\n",
    "relu_adam_model.add(layers.Dense(units=1000, activation='relu', input_dim=30))\n",
    "relu_adam_model.add(layers.Dense(units=1000, activation='relu', input_dim=30))\n",
    "\n",
    "relu_adam_model.add(layers.Dense(units=1, activation='sigmoid'))\n",
    "\n",
    "relu_adam_model.compile(optimizer='adam', loss='binary_crossentropy', metrics=['accuracy', keras.metrics.Precision(), keras.metrics.Recall()])\n",
    "\n",
    "relu_adam_model.summary()"
   ]
  },
  {
   "cell_type": "markdown",
   "id": "43af99b3-04e6-4f63-8545-c0ac3548110d",
   "metadata": {},
   "source": [
    "#### Fitting"
   ]
  },
  {
   "cell_type": "code",
   "execution_count": 1249,
   "id": "e2b43094-0b21-494d-a5c3-5d349f1dff79",
   "metadata": {
    "scrolled": true
   },
   "outputs": [],
   "source": [
    "#Original code\n",
    "relu_adam_model = relu_adam_model.fit(x_train, y_train, epochs=epochs_overfit, batch_size=batch_size_overfit, validation_data=(x_test, y_test),verbose=0)"
   ]
  },
  {
   "cell_type": "markdown",
   "id": "ac8ac9ac-cc92-4f49-b3a4-5112804b6cfc",
   "metadata": {},
   "source": [
    "#### Loss "
   ]
  },
  {
   "cell_type": "code",
   "execution_count": 853,
   "id": "a018e0f9-f510-4994-8e05-a0fa0096f94c",
   "metadata": {},
   "outputs": [
    {
     "name": "stdout",
     "output_type": "stream",
     "text": [
      "0.006252830681867174\n",
      "0.10459506670478731\n"
     ]
    },
    {
     "data": {
      "image/png": "[encoded data removed]",
      "text/plain": [
       "<Figure size 640x480 with 1 Axes>"
      ]
     },
     "metadata": {},
     "output_type": "display_data"
    }
   ],
   "source": [
    "#Most of this code is not mine, I have only inserted the names of my variables.\n",
    "#Code referenced from: hollet F., Deep Learning With Python (2017), Chapter 3.4.4, Listing 3.9 Plotting the training and validation loss\n",
    "import matplotlib.pyplot as plt\n",
    "history_dict = relu_adam_model.history\n",
    "loss_values = history_dict['loss']\n",
    "val_loss_values = history_dict['val_loss']\n",
    "print(sum(loss_values)/len(loss_values))\n",
    "print(sum(val_loss_values)/len(val_loss_values))\n",
    "epochs = range(1, len(history_dict[\"accuracy\"]) + 1)\n",
    "plt.plot(epochs, loss_values, 'bo', label='Training loss')\n",
    "plt.plot(epochs, val_loss_values, 'b', label='Validation loss')\n",
    "plt.title('Training and validation loss')\n",
    "plt.xlabel('Epochs')\n",
    "plt.ylabel('Loss')\n",
    "plt.legend()\n",
    "plt.show()"
   ]
  },
  {
   "cell_type": "markdown",
   "id": "ff9b99b2-ad9b-4763-9a06-a7a1825a5881",
   "metadata": {},
   "source": [
    "#### Accuracy:"
   ]
  },
  {
   "cell_type": "code",
   "execution_count": 854,
   "id": "df4599ff-5e9d-4194-8a83-a3d73d43cf01",
   "metadata": {
    "scrolled": true
   },
   "outputs": [
    {
     "name": "stdout",
     "output_type": "stream",
     "text": [
      "0.997545055091381\n",
      "0.9655614113807678\n"
     ]
    },
    {
     "data": {
      "image/png": "[encoded data removed]",
      "text/plain": [
       "<Figure size 640x480 with 1 Axes>"
      ]
     },
     "metadata": {},
     "output_type": "display_data"
    }
   ],
   "source": [
    "#Most of this code is not mine, I have only inserted the names of my variables.\n",
    "#Code referenced from: hollet F., Deep Learning With Python (2017), Chapter 3.4.4, Listing 3.9 Plotting the training and validation loss\n",
    "plt.clf()\n",
    "acc_values = history_dict['accuracy']\n",
    "val_acc_values = history_dict['val_accuracy']\n",
    "print(sum(acc_values)/len(acc_values))\n",
    "print(sum(val_acc_values)/len(val_acc_values))\n",
    "plt.title('Training and Validation Accuracy')\n",
    "plt.plot(epochs, acc_values, 'bo', label='Training Accuracy')\n",
    "plt.plot(epochs, val_acc_values, 'b', label='Validation Accuracy')\n",
    "plt.title('Training and validation accuracy')\n",
    "plt.xlabel('Epochs')\n",
    "plt.ylabel('Loss')\n",
    "plt.legend()\n",
    "plt.show()"
   ]
  },
  {
   "cell_type": "markdown",
   "id": "ddeb16dc-ceaa-4a10-b580-33eab2291ab2",
   "metadata": {},
   "source": [
    "#### Parameters"
   ]
  },
  {
   "cell_type": "code",
   "execution_count": 856,
   "id": "35d6721c-7d87-4af6-bdcd-ac822733c93e",
   "metadata": {
    "scrolled": true
   },
   "outputs": [
    {
     "name": "stdout",
     "output_type": "stream",
     "text": [
      "{'Loss Min': [5.964960791970952e-08, 'Dict0'], 'Loss Mean': [0.006252830681867174, 'Dict0'], 'Loss Last': [5.966797544942892e-08, 'Dict0'], 'Accuracy Max': [1.0, 'Dict0'], 'Accuracy Mean': [0.997545055091381, 'Dict0'], 'Accuracy Last': [1.0, 'Dict0'], 'Precision Max': [1.0, 'Dict0'], 'Precision Mean': [0.9973447184562683, 'Dict0'], 'Precision Last': [1.0, 'Dict0'], 'Recall Max': [1.0, 'Dict0'], 'Recall Mean': [0.9968279573917389, 'Dict0'], 'Recall Last': [1.0, 'Dict0'], 'Val Loss Min': [0.004544681403785944, 'Dict0'], 'Val Loss Mean': [0.10459506670478731, 'Dict0'], 'Val Loss Last': [0.1322399526834488, 'Dict0'], 'Val Accuracy Max': [1.0, 'Dict0'], 'Val Accuracy Mean': [0.9655614113807678, 'Dict0'], 'Val Accuracy Last': [0.9649122953414917, 'Dict0'], 'Val Precision Max': [1.0, 'Dict0'], 'Val Precision Mean': [0.8742635014653206, 'Dict0'], 'Val Precision Last': [0.8666666746139526, 'Dict0'], 'Val Recall Max': [1.0, 'Dict0'], 'Val Recall Mean': [0.9972307686209678, 'Dict0'], 'Val Recall Last': [1.0, 'Dict0']}\n"
     ]
    }
   ],
   "source": [
    "print(compare_histories([history_dict]))"
   ]
  },
  {
   "cell_type": "markdown",
   "id": "53b3ad67-e65b-4d4d-8863-f5cea47c3a18",
   "metadata": {},
   "source": [
    " ## Model Analysis - Training\n",
    "\n",
    "This final sub-section analyses the models in order to see if they hold statistical power.\n",
    "This table displays their results during training:\n",
    "\n",
    "| Metric          | RMS       | ADAM      |\n",
    "|-----------------|-----------|-----------|\n",
    "| Loss Min        | **6.01e-09** | 5.96e-08 |\n",
    "| Loss Mean       | 0.029     | **0.006** |\n",
    "| Loss Last       | 1.40e-07 | **5.97e-08** |\n",
    "| Accuracy Max    | **1.000** | **1.000** |\n",
    "| Accuracy Mean   | 0.994 | **0.998**     |\n",
    "| Accuracy Last   | **1.000** | **1.000** |\n",
    "| Precision Max   | **1.000** | **1.000** |\n",
    "| Precision Mean  | 0.992 | **0.997**     |\n",
    "| Precision Last  | **1.000** | **1.000** |\n",
    "| Recall Max      | **1.000** | **1.000** |\n",
    "| Recall Mean     | 0.993 | **0.997**     |\n",
    "| Recall Last     | **1.000** | **1.000** |"
   ]
  },
  {
   "cell_type": "markdown",
   "id": "d7a8c9bc-74fa-47ea-822f-b2ee95936e88",
   "metadata": {},
   "source": [
    " ## Model Analysis - Validation\n",
    "\n",
    "This table displays their results during validation:\n",
    "\n",
    "| Metric           | RMS       | ADAM      |\n",
    "|------------------|-----------|-----------|\n",
    "| Val Loss Min     | **1.48e-05** | 0.004     |\n",
    "| Val Loss Mean    | 0.137     | **0.105**     |\n",
    "| Val Loss Last    | **0.104**     | 0.132     |\n",
    "| Val Accuracy Max | **1.000** | **1.000** |\n",
    "| Val Accuracy Mean| **0.967** | 0.966     |\n",
    "| Val Accuracy Last| **0.982** | 0.965     |\n",
    "| Val Precision Max| **1.000** | **1.000** |\n",
    "| Val Precision Mean| **0.898**     | 0.874 |\n",
    "| Val Precision Last| **0.929**     | 0.867     |\n",
    "| Val Recall Max   | **1.000** | **1.000** |\n",
    "| Val Recall Mean  | 0.990 | **0.997**     |\n",
    "| Val Recall Last  | **1.000** | **1.000** |"
   ]
  },
  {
   "cell_type": "markdown",
   "id": "509d5524-0563-4e9b-86ad-ffe0e9b36e33",
   "metadata": {},
   "source": [
    " ## Model Analysis - Takeaways\n",
    "\n",
    "In training, results are a close tie as both models are quite overfitted, however during validation RMS is consistently and increasingly performing better.\n",
    "This means 2 things:\n",
    "1. ADAM begins Overfitting first in order to get such solid training results\n",
    "2. RMS manages to get significantly higher validation results despite overfitting\n",
    "\n",
    "### Conclusion: the learning capacity of Model RMS is higher than that of Model ADAM. \n",
    "\n",
    "### Therefore the final stage will be done only using Model Relu RMS"
   ]
  },
  {
   "cell_type": "markdown",
   "id": "df74c39b-895f-4186-95cd-0fd8b0675786",
   "metadata": {},
   "source": [
    "# Stage 7: Model Regularization & Hyperparameter Tuning\n",
    "\n",
    "This stage focuses on regularising the model. This will be separated into several sections where experiments will be done using:\n",
    "- Adding various amounts of Dropout regularization\n",
    "- More or Less Layers\n",
    "- L1 and/or L2 Regularization\n",
    "- Hyperparameter Tuning - units per layer, optimizer learning rate, epochs, batch size "
   ]
  },
  {
   "cell_type": "markdown",
   "id": "d950d9d9-3a2c-42eb-a0ea-6df028f7468f",
   "metadata": {},
   "source": [
    "## Model History Comparison functions\n",
    "\n",
    "To make the experimentation and exploration process much more efficient, a dictionary storing all best outputs across across models with labels pertaining pertaining to each model is a good addition to the current toolkit. \n",
    "\n",
    "This helps reduce code size for comparing 2 or more models. As this is a large task, firstly several helper functions interact with it and are described below in sub-headings and comments."
   ]
  },
  {
   "cell_type": "markdown",
   "id": "074597f8-b217-47fd-b007-5e4fe0cf28a8",
   "metadata": {},
   "source": [
    "### Helper Functions - Getting Group Max and Minimum\n",
    "\n",
    "These 2 functions retrieve a value group i.e. \"Loss\": \"Min\", \"Mean\", \"Last\" and compare each value group attribute to the current stored best attribute in the information dictionary. Each value group is separated into 2 types a Min and Max group. Accuracy is a max group - information"
   ]
  },
  {
   "cell_type": "code",
   "execution_count": 857,
   "id": "d30f44ed-5812-4642-82f9-f57f4ccae5b8",
   "metadata": {},
   "outputs": [],
   "source": [
    "#Original Code\n",
    "def update_group_min(label,dict_key,info_label,hist_dict,info):\n",
    "    minimum = min(hist_dict[dict_key]) #gets min value \n",
    "    if  minimum < info[info_label + \" Min\"][0]: #compares to info dict\n",
    "        info[info_label + \" Min\"] = [minimum, label] #updates info dict\n",
    "        \n",
    "    mean = sum(hist_dict[dict_key])/len(hist_dict[dict_key]) #gets mean value    \n",
    "    if mean < info[info_label + \" Mean\"][0]: #compares to info dict\n",
    "        info[info_label + \" Mean\"] = [mean, label] #updates info dict\n",
    "        \n",
    "    last = hist_dict[dict_key][len(hist_dict[dict_key]) - 1] #gets last value \n",
    "    if last < info[info_label + \" Last\"][0]: #compares to info dict\n",
    "        info[info_label + \" Last\"] = [last, label] #updates info dict"
   ]
  },
  {
   "cell_type": "code",
   "execution_count": 858,
   "id": "b20bf9ec-8505-4c79-b390-f064547b37bd",
   "metadata": {},
   "outputs": [],
   "source": [
    "#Original code\n",
    "def update_group_max(label,dict_key,info_label,hist_dict,info):\n",
    "    maximum = max(hist_dict[dict_key]) #gets max value\n",
    "    if  maximum > info[info_label + \" Max\"][0]: #compares to info dict\n",
    "        info[info_label + \" Max\"] = [maximum, label] #updates info dict\n",
    "    \n",
    "    mean = sum(hist_dict[dict_key])/len(hist_dict[dict_key]) #gets mean value\n",
    "    if mean > info[info_label + \" Mean\"][0]: #compares to info dict\n",
    "        info[info_label + \" Mean\"] = [mean, label] #updates info dict\n",
    "\n",
    "    last = hist_dict[dict_key][len(hist_dict[dict_key]) - 1] #gets last value\n",
    "    if last > info[info_label + \" Last\"][0]: #compares to info dict\n",
    "        info[info_label + \" Last\"] = [last, label] #updates info dict"
   ]
  },
  {
   "cell_type": "markdown",
   "id": "f0eb8a5e-2623-4d7e-8ea7-c4f925691c55",
   "metadata": {},
   "source": [
    "### Helper Function - Update Info Value group\n",
    "\n",
    "This function does 3 jobs: \n",
    "1. Generates a label to put in the information dict.\n",
    "2. Generates accurate keys: \"info_label\" for information dictionary and \"dict_key\" for the model history dictionary (using string manipulation)\n",
    "3. Uses said keys to update an information dictionary value group with regards to whether that group is updated on Min or Max basis "
   ]
  },
  {
   "cell_type": "code",
   "execution_count": 859,
   "id": "da0c0855-9941-41d1-8179-49588dca0703",
   "metadata": {},
   "outputs": [],
   "source": [
    "#Original code\n",
    "def update_info_value_group(value, i, hist_dict, info):\n",
    "    label = \"Dict\" + str(i) #generates label to put in info dict\n",
    "    dict_key = value\n",
    "    value_arr = value.split('_') #splits value into string array (useful for history dict keys for validation)\n",
    "    for j in range(len(value_arr)):\n",
    "        value_arr[j] = value_arr[j].capitalize() #capitalizes the first letter of each value_arr element\n",
    "    info_label = \" \".join(value_arr)#joins into space separated string. i.e. value = \"val_loss\", info_label = \"Val Loss\"\n",
    "    if \"precision\" in value or \"recall\" in value: #precision and recall require different logic as the keys themselves have a number in the end\n",
    "        for key in hist_dict.keys(): #loops through hist_dict keys\n",
    "            if value in key: #checks for substring i.e. returns true if value == \"precision\" and \"key == precision_27\"\n",
    "                #checks if both have or don't have val_ to avoid overwriting training data onto validation data \n",
    "                if (\"val_\" in key and \"val_\" in value) or (\"val_\" not in key and \"val_\" not in value):\n",
    "                    dict_key = key#retrieves the real dict key\n",
    "    if \"loss\" in dict_key:#check if group requires min/max update\n",
    "        update_group_min(label,dict_key,info_label,hist_dict,info) #update group\n",
    "    else:\n",
    "        update_group_max(label,dict_key,info_label,hist_dict,info) #update group"
   ]
  },
  {
   "cell_type": "code",
   "execution_count": 860,
   "id": "06d616c2-f0f1-4841-860c-184a6ec89d8c",
   "metadata": {},
   "outputs": [],
   "source": [
    "#Original code\n",
    "def compare_histories( hist_dicts_arr):\n",
    "    #init info dict with max/min values\n",
    "    info = {\n",
    "        \"Loss Min\": [1,\"none\"],\n",
    "        \"Loss Mean\": [1,\"none\"],\n",
    "        \"Loss Last\": [1,\"none\"],\n",
    "        \"Accuracy Max\": [0,\"none\"],\n",
    "        \"Accuracy Mean\": [0,\"none\"],\n",
    "        \"Accuracy Last\": [0,\"none\"],        \n",
    "        \"Precision Max\": [0,\"none\"],\n",
    "        \"Precision Mean\": [0,\"none\"],\n",
    "        \"Precision Last\": [0,\"none\"],\n",
    "        \"Recall Max\": [0,\"none\"],\n",
    "        \"Recall Mean\": [0,\"none\"],\n",
    "        \"Recall Last\": [0,\"none\"],\n",
    "        \"Val Loss Min\": [1,\"none\"],\n",
    "        \"Val Loss Mean\": [1,\"none\"],\n",
    "        \"Val Loss Last\": [1,\"none\"],\n",
    "        \"Val Accuracy Max\": [0,\"none\"],\n",
    "        \"Val Accuracy Mean\": [0,\"none\"],\n",
    "        \"Val Accuracy Last\": [0,\"none\"],        \n",
    "        \"Val Precision Max\": [0,\"none\"],\n",
    "        \"Val Precision Mean\": [0,\"none\"],\n",
    "        \"Val Precision Last\": [0,\"none\"],\n",
    "        \"Val Recall Max\": [0,\"none\"],\n",
    "        \"Val Recall Mean\": [0,\"none\"],\n",
    "        \"Val Recall Last\": [0,\"none\"]  \n",
    "    }\n",
    "    #loop through each history dict\n",
    "    for i in range(len(hist_dicts_arr)):\n",
    "        #init value groups\n",
    "        values = [\"loss\",\"accuracy\",\"precision\",\"recall\",\"val_loss\",\"val_accuracy\",\"val_precision\",\"val_recall\"]\n",
    "        for val in values:#update each value group\n",
    "            update_info_value_group(val,i,hist_dicts_arr[i],info)\n",
    "    return info #return info dict"
   ]
  },
  {
   "cell_type": "markdown",
   "id": "a39959dc-2293-47f2-bcb1-25fe31bbf1ba",
   "metadata": {},
   "source": [
    "## Dropout\n",
    "\n",
    "Dropout regularization ensures models are difficult to overfit by simply reducing random values to 0 on a layer. Dropout experimentation on this project follows these rules:\n",
    "1. The overfitting model history is used as a baseline\n",
    "2. Each Dropout model must be identical to the overfitting model except for its dropout.\n",
    "3. 3 Major experiments hold N minor experiments:\n",
    "    1. 33% Dropout - on one of the 3 non-output layers, 6 minor experiments regard which non-output layer and dropout rate.\n",
    "    2. 66% Dropout - on 2 of the 3 non-output layers, minor experiments  regard which non-output layers.\n",
    "    3. 100% Dropout - on each non-output layer.\n",
    "4. If a Major experiment delivers worse results than baseline despite all minor experiments. Following major experiments are cancelled.\n"
   ]
  },
  {
   "cell_type": "markdown",
   "id": "366d62e1-07e4-479c-8a76-0a24a3657080",
   "metadata": {},
   "source": [
    "### 33% Dropout - Control model\n",
    "\n",
    "This experiment ascertain whether dropout benefits or worsens the current model at all.\n",
    "This is achieved by applying dropout to only one layer. \n",
    "If results are satisfactory, more dropout is introduced. \n",
    "\n",
    "6 dropout models are made:\n",
    "| Model Variant | Dropout Layer | Dropout Rate | Epochs|\n",
    "|---------------|-------------|--------------|-------|\n",
    "| Drop1Quart | 1 | 0.25 | 100\n",
    "| Drop1Half | 1 | 0.5 | 100\n",
    "| Drop2Quart | 2 | 0.25 | 100\n",
    "| Drop2Half | 2 | 0.5 | 100\n",
    "| Drop3Quart | 3 | 0.25 | 100\n",
    "| Drop3Half | 3 | 0.5 | 100\n"
   ]
  },
  {
   "cell_type": "markdown",
   "id": "a0882e11-853e-4d67-8a48-a747b2a2621f",
   "metadata": {},
   "source": [
    "#### Drop1Quart\n",
    "\n",
    "This model applies Dropout on the first input layer at a 0.25 rate."
   ]
  },
  {
   "cell_type": "code",
   "execution_count": 1052,
   "id": "3787c057-0609-4493-a4e2-8991597e3de4",
   "metadata": {},
   "outputs": [],
   "source": [
    "#Original code\n",
    "#store history dict\n",
    "overfit_dict = history_dict\n"
   ]
  },
  {
   "cell_type": "code",
   "execution_count": 1053,
   "id": "db29ce0c-0c7b-40c1-bfcd-c003a45db110",
   "metadata": {},
   "outputs": [],
   "source": [
    "#Original code\n",
    "from tensorflow.keras.layers import Dropout\n",
    "drop_1_quart = models.Sequential()\n",
    "#input layer\n",
    "drop_1_quart.add(layers.Dense(units=100, activation='relu', input_dim=30))\n",
    "drop_1_quart.add(Dropout(0.25))\n",
    "drop_1_quart.add(layers.Dense(units=100, activation='relu', input_dim=30))\n",
    "drop_1_quart.add(layers.Dense(units=100, activation='relu', input_dim=30))\n",
    "#output layer\n",
    "drop_1_quart.add(layers.Dense(units=1, activation='sigmoid'))\n",
    "\n",
    "drop_1_quart.compile(optimizer='rmsprop', loss='binary_crossentropy', metrics=['accuracy', keras.metrics.Precision(), keras.metrics.Recall()])"
   ]
  },
  {
   "cell_type": "code",
   "execution_count": 1054,
   "id": "b77e3acf-d39c-47cd-8dd2-3c918a4d2894",
   "metadata": {},
   "outputs": [],
   "source": [
    "drop_1_quart_history = drop_1_quart.fit(x_train, y_train, epochs=epochs_overfit, batch_size=batch_size_overfit, validation_data=(x_test, y_test), verbose=0)\n",
    "drop_1_quart_history_dict = drop_1_quart_history.history"
   ]
  },
  {
   "cell_type": "markdown",
   "id": "7a3239f5-07ee-489f-83cb-344d9e525904",
   "metadata": {},
   "source": [
    "#### Drop1Half\n",
    "\n",
    "This model applies Dropout on the first input layer at a 0.5 rate."
   ]
  },
  {
   "cell_type": "code",
   "execution_count": 1055,
   "id": "2605c91e-5c00-4003-8315-d5969fecb4db",
   "metadata": {},
   "outputs": [],
   "source": [
    "#Original code\n",
    "drop_1_half = models.Sequential()\n",
    "#input layer\n",
    "drop_1_half.add(layers.Dense(units=100, activation='relu', input_dim=30))\n",
    "drop_1_half.add(Dropout(0.5))\n",
    "drop_1_half.add(layers.Dense(units=100, activation='relu', input_dim=30))\n",
    "drop_1_half.add(layers.Dense(units=100, activation='relu', input_dim=30))\n",
    "#output layer\n",
    "drop_1_half.add(layers.Dense(units=1, activation='sigmoid'))\n",
    "\n",
    "drop_1_half.compile(optimizer='rmsprop', loss='binary_crossentropy', metrics=['accuracy', keras.metrics.Precision(), keras.metrics.Recall()])"
   ]
  },
  {
   "cell_type": "code",
   "execution_count": 1056,
   "id": "413c2752-c641-4dbf-a1cd-58a343cbce86",
   "metadata": {},
   "outputs": [],
   "source": [
    "drop_1_half_history = drop_1_half.fit(x_train, y_train, epochs=epochs_overfit, batch_size=batch_size_overfit, validation_data=(x_test, y_test), verbose=0)\n",
    "drop_1_half_history_dict = drop_1_half_history.history"
   ]
  },
  {
   "cell_type": "markdown",
   "id": "7ccff0e5-2db2-449b-bc34-5b003fb56915",
   "metadata": {},
   "source": [
    "#### Drop2Quart\n",
    "\n",
    "This model applies Dropout on the second layer at a 0.25 rate."
   ]
  },
  {
   "cell_type": "code",
   "execution_count": 1057,
   "id": "70db5f6a-473d-4887-8f59-14fb1241d797",
   "metadata": {},
   "outputs": [],
   "source": [
    "#Original code\n",
    "drop_2_quart = models.Sequential()\n",
    "#input layer\n",
    "drop_2_quart.add(layers.Dense(units=100, activation='relu', input_dim=30))\n",
    "drop_2_quart.add(layers.Dense(units=100, activation='relu', input_dim=30))\n",
    "drop_2_quart.add(Dropout(0.25))\n",
    "drop_2_quart.add(layers.Dense(units=100, activation='relu', input_dim=30))\n",
    "#output layer\n",
    "drop_2_quart.add(layers.Dense(units=1, activation='sigmoid'))\n",
    "\n",
    "drop_2_quart.compile(optimizer='rmsprop', loss='binary_crossentropy', metrics=['accuracy', keras.metrics.Precision(), keras.metrics.Recall()])"
   ]
  },
  {
   "cell_type": "code",
   "execution_count": 1058,
   "id": "a5483a6d-84b8-4cfb-b006-b0e977eadb2a",
   "metadata": {},
   "outputs": [],
   "source": [
    "drop_2_quart_history = drop_2_quart.fit(x_train, y_train, epochs=epochs_overfit, batch_size=batch_size_overfit, validation_data=(x_test, y_test), verbose=0)\n",
    "drop_2_quart_history_dict = drop_2_quart_history.history"
   ]
  },
  {
   "cell_type": "markdown",
   "id": "ee953bbb-9d15-4797-8df2-f71ace6c2a45",
   "metadata": {},
   "source": [
    "#### Drop2Half\n",
    "\n",
    "This model applies Dropout on the second layer at a 0.5 rate."
   ]
  },
  {
   "cell_type": "code",
   "execution_count": 1059,
   "id": "b1f26293-e25a-4832-9b49-d1a2b38eec9b",
   "metadata": {},
   "outputs": [],
   "source": [
    "#Original code\n",
    "drop_2_half = models.Sequential()\n",
    "#input layer\n",
    "drop_2_half.add(layers.Dense(units=100, activation='relu', input_dim=30))\n",
    "drop_2_half.add(layers.Dense(units=100, activation='relu', input_dim=30))\n",
    "drop_2_half.add(Dropout(0.5))\n",
    "drop_2_half.add(layers.Dense(units=100, activation='relu', input_dim=30))\n",
    "#output layer\n",
    "drop_2_half.add(layers.Dense(units=1, activation='sigmoid'))\n",
    "\n",
    "drop_2_half.compile(optimizer='rmsprop', loss='binary_crossentropy', metrics=['accuracy', keras.metrics.Precision(), keras.metrics.Recall()])"
   ]
  },
  {
   "cell_type": "code",
   "execution_count": 1060,
   "id": "175d5e11-b925-4459-a8ed-a05a35c4b1f7",
   "metadata": {},
   "outputs": [],
   "source": [
    "drop_2_half_history = drop_2_half.fit(x_train, y_train, epochs=epochs_overfit, batch_size=batch_size_overfit, validation_data=(x_test, y_test), verbose=0)\n",
    "drop_2_half_history_dict = drop_2_half_history.history"
   ]
  },
  {
   "cell_type": "markdown",
   "id": "45da9ce3-179d-4544-8ac7-5f129545e4f0",
   "metadata": {},
   "source": [
    "#### Drop3Quart\n",
    "\n",
    "This model applies Dropout on the third layer at a 0.25 rate."
   ]
  },
  {
   "cell_type": "code",
   "execution_count": 1061,
   "id": "7484ff2f-869c-4325-8991-49c071a4144d",
   "metadata": {},
   "outputs": [],
   "source": [
    "#Original code\n",
    "drop_3_quart = models.Sequential()\n",
    "#input layer\n",
    "drop_3_quart.add(layers.Dense(units=100, activation='relu', input_dim=30))\n",
    "drop_3_quart.add(layers.Dense(units=100, activation='relu', input_dim=30))\n",
    "drop_3_quart.add(layers.Dense(units=100, activation='relu', input_dim=30))\n",
    "drop_3_quart.add(Dropout(0.25))\n",
    "#output layer\n",
    "drop_3_quart.add(layers.Dense(units=1, activation='sigmoid'))\n",
    "\n",
    "drop_3_quart.compile(optimizer='rmsprop', loss='binary_crossentropy', metrics=['accuracy', keras.metrics.Precision(), keras.metrics.Recall()])"
   ]
  },
  {
   "cell_type": "code",
   "execution_count": 1062,
   "id": "b26a538a-8073-4627-8174-7c7294195137",
   "metadata": {},
   "outputs": [],
   "source": [
    "drop_3_quart_history = drop_3_quart.fit(x_train, y_train, epochs=epochs_overfit, batch_size=batch_size_overfit, validation_data=(x_test, y_test), verbose=0)\n",
    "drop_3_quart_history_dict = drop_3_quart_history.history"
   ]
  },
  {
   "cell_type": "markdown",
   "id": "621caff5-2e73-4c07-9fea-3345f6586154",
   "metadata": {},
   "source": [
    "#### Drop3Half\n",
    "\n",
    "This model applies Dropout on the third layer at a 0.5 rate."
   ]
  },
  {
   "cell_type": "code",
   "execution_count": 1063,
   "id": "aebff7b1-d329-459a-9bfe-9986e8fc5810",
   "metadata": {},
   "outputs": [],
   "source": [
    "#Original code\n",
    "drop_3_half = models.Sequential()\n",
    "#input layer\n",
    "drop_3_half.add(layers.Dense(units=100, activation='relu', input_dim=30))\n",
    "drop_3_half.add(layers.Dense(units=100, activation='relu', input_dim=30))\n",
    "drop_3_half.add(layers.Dense(units=100, activation='relu', input_dim=30))\n",
    "drop_3_half.add(Dropout(0.5))\n",
    "#output layer\n",
    "drop_3_half.add(layers.Dense(units=1, activation='sigmoid'))\n",
    "\n",
    "drop_3_half.compile(optimizer='rmsprop', loss='binary_crossentropy', metrics=['accuracy', keras.metrics.Precision(), keras.metrics.Recall()])"
   ]
  },
  {
   "cell_type": "code",
   "execution_count": 1064,
   "id": "3c4b3bba-0bf4-497f-b5fc-3b52af1605fa",
   "metadata": {},
   "outputs": [],
   "source": [
    "drop_3_half_history = drop_3_half.fit(x_train, y_train, epochs=epochs_overfit, batch_size=batch_size_overfit, validation_data=(x_test, y_test), verbose=0)\n",
    "drop_3_half_history_dict = drop_3_half_history.history"
   ]
  },
  {
   "cell_type": "markdown",
   "id": "51cedb6a-c37d-4db2-b24d-7261795a6a1c",
   "metadata": {},
   "source": [
    "#### 33% Dropout - Analysis\n",
    "\n",
    "After each model is fitted, their histories are compared and analysed:"
   ]
  },
  {
   "cell_type": "code",
   "execution_count": 1066,
   "id": "063d4db1-bffd-4d47-bef7-89c2d6ba998c",
   "metadata": {},
   "outputs": [],
   "source": [
    "#Original Code\n",
    "#0-overfit\n",
    "#1,2 - drop1 quart, half\n",
    "#3,4 - drop2 quart, half\n",
    "#5,6 - drop3, quart, half\n",
    "dicts = [overfit_dict,drop_1_quart_history_dict, drop_1_half_history_dict,drop_2_quart_history_dict, drop_2_half_history_dict, drop_3_quart_history_dict, drop_3_half_history_dict]\n",
    "dropout_33_info = compare_histories(dicts)"
   ]
  },
  {
   "cell_type": "code",
   "execution_count": 1067,
   "id": "f2e09fac-1072-44a7-80bb-5ae2121e3691",
   "metadata": {},
   "outputs": [
    {
     "name": "stdout",
     "output_type": "stream",
     "text": [
      "Overfit  best in 1 categories: Val Recall Max\n",
      "Drop1Quart  best in 10 categories: Accuracy Max, Accuracy Last, Precision Max, Precision Last, Recall Max, Recall Last, Val Accuracy Max, Val Precision Max, Val Recall Mean, Val Recall Last\n",
      "Drop1Half  best in 7 categories: Val Loss Min, Val Loss Mean, Val Loss Last, Val Accuracy Mean, Val Accuracy Last, Val Precision Mean, Val Precision Last\n",
      "Drop2Quart  best in 5 categories: Loss Mean, Loss Last, Accuracy Mean, Precision Mean, Recall Mean\n",
      "Drop2Half  best in 0 categories: \n",
      "Drop3Quart  best in 1 categories: Loss Min\n",
      "Drop3Half  best in 0 categories: \n"
     ]
    }
   ],
   "source": [
    "#Original Code\n",
    "#raw print of the data\n",
    "#print(dropout_33_info)\n",
    "\n",
    "#print of most successful model\n",
    "model_labels = [\"Overfit\", \"Drop1Quart\",\"Drop1Half\",\"Drop2Quart\",\"Drop2Half\",\"Drop3Quart\",\"Drop3Half\"]\n",
    "def print_dict_results(info, labels):\n",
    "    counter = {}\n",
    "    for key in info.keys():\n",
    "        win = info[key][1].split(\"Dict\")[1]\n",
    "        if win in counter.keys():\n",
    "            counter[win]+=1\n",
    "        else:\n",
    "            counter[win]=1\n",
    "\n",
    "    for i in range(len(model_labels)):\n",
    "        if str(i) not in counter.keys():\n",
    "            counter[str(i)] = 0\n",
    "\n",
    "    for i in range(len(counter.keys())):\n",
    "        categories = []\n",
    "        for key in info.keys():\n",
    "            if str(i) in info[key][1]:\n",
    "                categories.append(key)\n",
    "        print(labels[i],\" best in\",counter[str(i)],\"categories:\",\", \".join(categories))\n",
    "\n",
    "print_dict_results(dropout_33_info, model_labels)"
   ]
  },
  {
   "cell_type": "markdown",
   "id": "2b5f86f3-0122-4934-b9b0-47a866e1ce35",
   "metadata": {},
   "source": [
    "### Takeaways\n",
    "\n",
    "Dropout is useful in this section as even dropout on 1 layer proved to be sufficient. While the baseline model still leads, it lead on mainly training variables such as Accuracy Max, Precision Max, Recall Max.\n",
    "\n",
    "What is more needed are accurate models that excel at validation. Excelling at training and not in validation is a telltale sign of overfitting. With that in mind - Dropout experiments are continuing with 2 dropout layers.\n",
    "\n",
    "Dropout rates of 0.5 are showing less results than Quart Dropout rates, however the quality of results is evident - 100% validation leads on 0.5 dropout rates across 7 feautres, compared to 0.25 dropout rates boasting 16 leading values - only 4 of which are validation metrics.\n",
    "Therefore, further testing is done only on 0.5 dropout rates."
   ]
  },
  {
   "cell_type": "markdown",
   "id": "e5f8dbbf-cf7a-4346-93d4-d82d0bf46b85",
   "metadata": {},
   "source": [
    "### Dropout 66%\n",
    "\n",
    "This sub-section tests 3 dropout models covering all possible layer dropout combinations (AB,AC,BC).\n",
    "Model Names are DropAB, DropAC, DropBC"
   ]
  },
  {
   "cell_type": "markdown",
   "id": "2f9ad125-9c07-424a-881d-684cb0f2d0e7",
   "metadata": {},
   "source": [
    "#### Drop AB\n",
    "This sub-section tests dropout on the first and second layers."
   ]
  },
  {
   "cell_type": "code",
   "execution_count": 1069,
   "id": "077b99b7-bfc3-43e0-9f54-f42a70b6f142",
   "metadata": {},
   "outputs": [],
   "source": [
    "#Original code\n",
    "drop_ab = models.Sequential()\n",
    "#input layer\n",
    "drop_ab.add(layers.Dense(units=100, activation='relu', input_dim=30))\n",
    "drop_ab.add(Dropout(0.5))\n",
    "drop_ab.add(layers.Dense(units=100, activation='relu', input_dim=30))\n",
    "drop_ab.add(Dropout(0.5))\n",
    "drop_ab.add(layers.Dense(units=100, activation='relu', input_dim=30))\n",
    "#output layer\n",
    "drop_ab.add(layers.Dense(units=1, activation='sigmoid'))\n",
    "\n",
    "drop_ab.compile(optimizer='rmsprop', loss='binary_crossentropy', metrics=['accuracy', keras.metrics.Precision(), keras.metrics.Recall()])"
   ]
  },
  {
   "cell_type": "code",
   "execution_count": 1070,
   "id": "1fe729ca-239b-4061-8c40-5e2be3eb65e9",
   "metadata": {},
   "outputs": [],
   "source": [
    "drop_ab_history = drop_ab.fit(x_train, y_train, epochs=epochs_overfit, batch_size=batch_size_overfit, validation_data=(x_test, y_test), verbose=0)\n",
    "drop_ab_history_dict = drop_ab_history.history"
   ]
  },
  {
   "cell_type": "markdown",
   "id": "c473bdfa-d8a1-46f4-b54f-4afef4037859",
   "metadata": {},
   "source": [
    "#### Drop AC\n",
    "This sub-section tests dropout on the first and third layer."
   ]
  },
  {
   "cell_type": "code",
   "execution_count": 1071,
   "id": "a50deddb-cc18-4db6-bcac-40ef1ac4199f",
   "metadata": {},
   "outputs": [],
   "source": [
    "#Original code\n",
    "drop_ac = models.Sequential()\n",
    "#input layer\n",
    "drop_ac.add(layers.Dense(units=100, activation='relu', input_dim=30))\n",
    "drop_ac.add(Dropout(0.5))\n",
    "drop_ac.add(layers.Dense(units=100, activation='relu', input_dim=30))\n",
    "drop_ac.add(layers.Dense(units=100, activation='relu', input_dim=30))\n",
    "drop_ac.add(Dropout(0.5))\n",
    "#output layer\n",
    "drop_ac.add(layers.Dense(units=1, activation='sigmoid'))\n",
    "\n",
    "drop_ac.compile(optimizer='rmsprop', loss='binary_crossentropy', metrics=['accuracy', keras.metrics.Precision(), keras.metrics.Recall()])"
   ]
  },
  {
   "cell_type": "code",
   "execution_count": 1072,
   "id": "25ada95e-2e06-44f3-8ae5-dc8f88222b45",
   "metadata": {},
   "outputs": [],
   "source": [
    "drop_ac_history = drop_ac.fit(x_train, y_train, epochs=epochs_overfit, batch_size=batch_size_overfit, validation_data=(x_test, y_test), verbose=0)\n",
    "drop_ac_history_dict = drop_ac_history.history"
   ]
  },
  {
   "cell_type": "markdown",
   "id": "38ac7a82-f26d-4615-ba42-b8c6b70c8ffe",
   "metadata": {},
   "source": [
    "#### Drop BC\n",
    "This sub-section tests dropout on the second and third layer."
   ]
  },
  {
   "cell_type": "code",
   "execution_count": 1073,
   "id": "6830d9ab-7c03-48f0-9964-3f91493d4dff",
   "metadata": {},
   "outputs": [],
   "source": [
    "#Original code\n",
    "drop_bc = models.Sequential()\n",
    "#input layer\n",
    "drop_bc.add(layers.Dense(units=100, activation='relu', input_dim=30))\n",
    "drop_bc.add(Dropout(0.5))\n",
    "drop_bc.add(layers.Dense(units=100, activation='relu', input_dim=30))\n",
    "drop_bc.add(layers.Dense(units=100, activation='relu', input_dim=30))\n",
    "drop_bc.add(Dropout(0.5))\n",
    "#output layer\n",
    "drop_bc.add(layers.Dense(units=1, activation='sigmoid'))\n",
    "\n",
    "drop_bc.compile(optimizer='rmsprop', loss='binary_crossentropy', metrics=['accuracy', keras.metrics.Precision(), keras.metrics.Recall()])"
   ]
  },
  {
   "cell_type": "code",
   "execution_count": 1074,
   "id": "17e98046-9b5f-477c-ac26-b4e84101be15",
   "metadata": {},
   "outputs": [],
   "source": [
    "drop_bc_history = drop_bc.fit(x_train, y_train, epochs=epochs_overfit, batch_size=batch_size_overfit, validation_data=(x_test, y_test), verbose=0)\n",
    "drop_bc_history_dict = drop_bc_history.history"
   ]
  },
  {
   "cell_type": "markdown",
   "id": "4e5f72e1-dde6-47c1-b26b-b58f56d76370",
   "metadata": {},
   "source": [
    "#### 66% Dropout - Analysis\n",
    "\n",
    "After each model is fitted, their histories are compared and analysed:"
   ]
  },
  {
   "cell_type": "code",
   "execution_count": 1075,
   "id": "682b0d2c-78b6-4ebd-9bd4-b6473762aeec",
   "metadata": {},
   "outputs": [],
   "source": [
    "#Original Code\n",
    "#append new dicts to dicts list\n",
    "dicts.append(drop_ab_history_dict)\n",
    "dicts.append(drop_ac_history_dict)\n",
    "dicts.append(drop_bc_history_dict)"
   ]
  },
  {
   "cell_type": "code",
   "execution_count": 1076,
   "id": "d35198a2-c669-4ed0-9221-878fded7bd24",
   "metadata": {},
   "outputs": [],
   "source": [
    "#append new model labels\n",
    "model_labels.append(\"Drop AB\")\n",
    "model_labels.append(\"Drop AC\")\n",
    "model_labels.append(\"Drop BC\")"
   ]
  },
  {
   "cell_type": "code",
   "execution_count": 1077,
   "id": "46ec3acf-8e9f-47a3-b8ce-fbd375ba4c6a",
   "metadata": {
    "scrolled": true
   },
   "outputs": [
    {
     "name": "stdout",
     "output_type": "stream",
     "text": [
      "Overfit  best in 1 categories: Val Recall Max\n",
      "Drop1Quart  best in 10 categories: Accuracy Max, Accuracy Last, Precision Max, Precision Last, Recall Max, Recall Last, Val Accuracy Max, Val Precision Max, Val Recall Mean, Val Recall Last\n",
      "Drop1Half  best in 4 categories: Val Loss Min, Val Loss Mean, Val Accuracy Mean, Val Precision Last\n",
      "Drop2Quart  best in 5 categories: Loss Mean, Loss Last, Accuracy Mean, Precision Mean, Recall Mean\n",
      "Drop2Half  best in 0 categories: \n",
      "Drop3Quart  best in 1 categories: Loss Min\n",
      "Drop3Half  best in 0 categories: \n",
      "Drop AB  best in 0 categories: \n",
      "Drop AC  best in 1 categories: Val Precision Mean\n",
      "Drop BC  best in 2 categories: Val Loss Last, Val Accuracy Last\n"
     ]
    }
   ],
   "source": [
    "#Original Code\n",
    "dropout_66_info = compare_histories(dicts)\n",
    "print_dict_results(dropout_66_info, model_labels)"
   ]
  },
  {
   "cell_type": "markdown",
   "id": "264d6cfc-e5a8-4820-b347-434d759adbbf",
   "metadata": {},
   "source": [
    "### Takeaways\n",
    "No model that applies dropout on 2 layers had any better metrics than the previous dropout models or the overfitting model. Therefore dropout experiments are concluded. The model that will persist in further experiments (apart from the overfitting one) is Drop1Half due to its performance in validation results."
   ]
  },
  {
   "cell_type": "markdown",
   "id": "213a2a2b-7028-4d18-9486-a9716f9c9245",
   "metadata": {},
   "source": [
    "## More/less Layers\n",
    "\n",
    "One way of overfitting reduction is mitigated by layers. However, the amount of layers may not be the cause of overfitting, in fact, maybe more layers could develop more connections in solving the problem, therefore several experiments are carrried.\n",
    "These experiments cover N steps:\n",
    "- Step 1: Produce 2 models (with/without dropout) with 2 layers instead of 3.\n",
    "- Step 2: Produce 2 models (with/without dropout) with 4 layers instead of 3.\n",
    "- Step 3: Compare Models to each other and the previous overfitted and Drop1Half models.\n",
    "- Step 4: Continue or stop experiments adding/removing more layers based on results.\n",
    "- ...\n",
    "- Step N: Establish optimal amount of layers."
   ]
  },
  {
   "cell_type": "markdown",
   "id": "4a9d077a-dfb6-4118-9f74-792080dd5313",
   "metadata": {},
   "source": [
    "### More/less Layers - Step 1-4\n",
    "\n",
    "This sub-section produces and compares 4 models. Each adding/removing a layer of the overfitting/Drop1Half model:\n",
    "| Model Name | Non-output Layers | Base Model |\n",
    "|---|---|---|\n",
    "| Overfit2 | 2 | Overfit |\n",
    "| Dropout2 | 2 | Drop1Half |\n",
    "| Overfit4 | 4 | Overfit |\n",
    "| Dropout4 | 4 | Drop1Half |\n"
   ]
  },
  {
   "cell_type": "markdown",
   "id": "f08087f7-9541-4734-988f-52a2d60c5e1b",
   "metadata": {},
   "source": [
    "#### Overfit2\n",
    "\n",
    "This sub-section produces the overfitting model with 2 layers."
   ]
  },
  {
   "cell_type": "code",
   "execution_count": 1143,
   "id": "afa89727-f11d-46f2-b41b-cb41a4ed5aa8",
   "metadata": {},
   "outputs": [],
   "source": [
    "#Original code\n",
    "overfit_2 = models.Sequential()\n",
    "\n",
    "#Input Layer\n",
    "overfit_2.add(layers.Dense(units=100, activation='relu', input_dim=30))\n",
    "overfit_2.add(layers.Dense(units=100, activation='relu', input_dim=30))\n",
    "\n",
    "#Output Layer\n",
    "overfit_2.add(layers.Dense(units=1, activation='sigmoid'))\n",
    "\n",
    "overfit_2.compile(optimizer='rmsprop', loss='binary_crossentropy', metrics=['accuracy', keras.metrics.Precision(), keras.metrics.Recall()])"
   ]
  },
  {
   "cell_type": "code",
   "execution_count": 1144,
   "id": "1c666c83-06f0-41c4-9b43-3fd975ee711c",
   "metadata": {},
   "outputs": [],
   "source": [
    "overfit_2_hist = overfit_2.fit(x_train, y_train, epochs=epochs_overfit, batch_size=batch_size_overfit, validation_data=(x_test, y_test), verbose=0)\n",
    "overfit_2_hist_dict = overfit_2_hist.history"
   ]
  },
  {
   "cell_type": "markdown",
   "id": "9a71be64-4fa0-4a51-9dfa-f160280f939d",
   "metadata": {},
   "source": [
    "#### Overfit4\n",
    "\n",
    "This sub-section produces the overfitting model with 4  layers."
   ]
  },
  {
   "cell_type": "code",
   "execution_count": 1145,
   "id": "657ae979-88b1-4e43-b8c6-86123b602341",
   "metadata": {},
   "outputs": [],
   "source": [
    "#Original code\n",
    "overfit_4 = models.Sequential()\n",
    "\n",
    "#Input Layer\n",
    "overfit_4.add(layers.Dense(units=100, activation='relu', input_dim=30))\n",
    "overfit_4.add(layers.Dense(units=100, activation='relu', input_dim=30))\n",
    "\n",
    "#Output Layer\n",
    "overfit_4.add(layers.Dense(units=1, activation='sigmoid'))\n",
    "\n",
    "overfit_4.compile(optimizer='rmsprop', loss='binary_crossentropy', metrics=['accuracy', keras.metrics.Precision(), keras.metrics.Recall()])"
   ]
  },
  {
   "cell_type": "code",
   "execution_count": 1146,
   "id": "6a91e75b-6477-4ff2-ba0d-635984bd84b0",
   "metadata": {},
   "outputs": [],
   "source": [
    "overfit_4_hist = overfit_4.fit(x_train, y_train, epochs=epochs_overfit, batch_size=batch_size_overfit, validation_data=(x_test, y_test), verbose=0)\n",
    "overfit_4_hist_dict = overfit_4_hist.history"
   ]
  },
  {
   "cell_type": "markdown",
   "id": "1d9b0ba6-839a-4332-a073-ea9dee83c3a3",
   "metadata": {},
   "source": [
    "#### Dropout2\n",
    "\n",
    "This sub-section produces the Drop1Half model with 2 layers."
   ]
  },
  {
   "cell_type": "code",
   "execution_count": 1147,
   "id": "2ef53126-d98f-41f1-a5d5-986c62caccaf",
   "metadata": {},
   "outputs": [],
   "source": [
    "#Original code\n",
    "dropout_2 = models.Sequential()\n",
    "\n",
    "#Input Layer\n",
    "dropout_2.add(layers.Dense(units=100, activation='relu', input_dim=30))\n",
    "dropout_2.add(Dropout(0.5))\n",
    "dropout_2.add(layers.Dense(units=100, activation='relu', input_dim=30))\n",
    "\n",
    "#Output Layer\n",
    "dropout_2.add(layers.Dense(units=1, activation='sigmoid'))\n",
    "\n",
    "dropout_2.compile(optimizer='rmsprop', loss='binary_crossentropy', metrics=['accuracy', keras.metrics.Precision(), keras.metrics.Recall()])"
   ]
  },
  {
   "cell_type": "code",
   "execution_count": 1148,
   "id": "725b5602-0ce9-4a79-aed7-8fd2426afc97",
   "metadata": {},
   "outputs": [],
   "source": [
    "dropout_2_hist = dropout_2.fit(x_train, y_train, epochs=epochs_overfit, batch_size=batch_size_overfit, validation_data=(x_test, y_test), verbose=0)\n",
    "dropout_2_hist_dict = dropout_2_hist.history"
   ]
  },
  {
   "cell_type": "markdown",
   "id": "6251bc9c-1cb1-4576-850b-576428bb4645",
   "metadata": {},
   "source": [
    "#### Dropout4\n",
    "\n",
    "This sub-section produces the Drop1Half model with 4 layers."
   ]
  },
  {
   "cell_type": "code",
   "execution_count": 1149,
   "id": "1587fbdd-8ee7-4160-8e83-6106dda1afd6",
   "metadata": {},
   "outputs": [],
   "source": [
    "#Original code\n",
    "dropout_4 = models.Sequential()\n",
    "\n",
    "#Input Layer\n",
    "dropout_4.add(layers.Dense(units=100, activation='relu', input_dim=30))\n",
    "dropout_4.add(Dropout(0.5))\n",
    "dropout_4.add(layers.Dense(units=100, activation='relu', input_dim=30))\n",
    "dropout_4.add(layers.Dense(units=100, activation='relu', input_dim=30))\n",
    "dropout_4.add(layers.Dense(units=100, activation='relu', input_dim=30))\n",
    "\n",
    "#Output Layer\n",
    "dropout_4.add(layers.Dense(units=1, activation='sigmoid'))\n",
    "\n",
    "dropout_4.compile(optimizer='rmsprop', loss='binary_crossentropy', metrics=['accuracy', keras.metrics.Precision(), keras.metrics.Recall()])"
   ]
  },
  {
   "cell_type": "code",
   "execution_count": 1150,
   "id": "88b6da00-ecb9-4e2e-a807-763520135767",
   "metadata": {},
   "outputs": [],
   "source": [
    "dropout_4_hist = dropout_4.fit(x_train, y_train, epochs=epochs_overfit, batch_size=batch_size_overfit, validation_data=(x_test, y_test), verbose=0)\n",
    "dropout_4_hist_dict = dropout_4_hist.history"
   ]
  },
  {
   "cell_type": "markdown",
   "id": "c0f37089-5f99-474b-8592-bde92647b224",
   "metadata": {},
   "source": [
    "#### More/less Layers - Step 1-4 - Analysis\n",
    "\n",
    "This sub-section compares and analyses the 4 models against the overfitting and dropout model. What is needed most are validation results rather than training results"
   ]
  },
  {
   "cell_type": "code",
   "execution_count": 1151,
   "id": "af61e068-c311-4579-b291-b196f001997f",
   "metadata": {},
   "outputs": [
    {
     "name": "stdout",
     "output_type": "stream",
     "text": [
      "Overfit  best in 1 categories: Val Recall Max\n",
      "Drop1Half  best in 7 categories: Accuracy Max, Precision Max, Recall Max, Val Accuracy Max, Val Precision Max, Val Precision Last, Val Recall Mean\n",
      "Overfit2  best in 6 categories: Accuracy Mean, Accuracy Last, Precision Mean, Precision Last, Recall Mean, Recall Last\n",
      "Overfit4  best in 4 categories: Loss Min, Loss Mean, Loss Last, Val Recall Last\n",
      "Dropout2  best in 1 categories: Val Accuracy Last\n",
      "Dropout4  best in 5 categories: Val Loss Min, Val Loss Mean, Val Loss Last, Val Accuracy Mean, Val Precision Mean\n"
     ]
    }
   ],
   "source": [
    "#Original code\n",
    "#abbreviate drop1half dict\n",
    "d_1_h_dict = drop_1_half_history_dict\n",
    "#initialize dicts list\n",
    "dicts = [overfit_dict, d_1_h_dict, overfit_2_hist_dict, overfit_4_hist_dict, dropout_2_hist_dict, dropout_4_hist_dict]\n",
    "il_14_info = compare_histories(dicts)\n",
    "model_labels = [\"Overfit\", \"Drop1Half\",\"Overfit2\",\"Overfit4\",\"Dropout2\",\"Dropout4\"]\n",
    "print_dict_results(il_14_info,model_labels)"
   ]
  },
  {
   "cell_type": "markdown",
   "id": "fe8e0210-f557-4a44-93b6-d6b2d3ad603b",
   "metadata": {},
   "source": [
    "### Takeaways\n",
    "\n",
    "1. Overfit 2 and 4 both underperform. No further Input Layer experiments is done on overfitting models.\n",
    "2. Dropout4 performs remarkably well. All its best competitive metrics are validation based.\n",
    "3. Next models will be adding more layers on the 33% dropout Model, 1 will have 5, 1 will have 6 "
   ]
  },
  {
   "cell_type": "markdown",
   "id": "9156a90d-6453-4467-93b2-df9bd5a05c5c",
   "metadata": {},
   "source": [
    "### More/less Layers - Step 5-7\n",
    "\n",
    "This sub-section produces and compares 2 models to the previous experiment. Each adding 1/2 layer/s to the Drop1Half model:\n",
    "| Model Name | Non-output Layers | Base Model |\n",
    "|---|---|---|\n",
    "| Dropout5 | 5 | Drop1Half |\n",
    "| Dropout6 | 6 | Drop1Half |"
   ]
  },
  {
   "cell_type": "markdown",
   "id": "5d5bb469-c59a-46f0-a517-053b96c9be69",
   "metadata": {},
   "source": [
    "#### Dropout5\n",
    "\n",
    "This sub-section produces the Drop1Half model with 5 layers."
   ]
  },
  {
   "cell_type": "code",
   "execution_count": 1152,
   "id": "9673d840-3be3-446c-b9da-7381af553871",
   "metadata": {},
   "outputs": [],
   "source": [
    "#Original code\n",
    "dropout_5 = models.Sequential()\n",
    "\n",
    "#Input Layer\n",
    "dropout_5.add(layers.Dense(units=100, activation='relu', input_dim=30))\n",
    "dropout_5.add(Dropout(0.5))\n",
    "dropout_5.add(layers.Dense(units=100, activation='relu', input_dim=30))\n",
    "dropout_5.add(layers.Dense(units=100, activation='relu', input_dim=30))\n",
    "dropout_5.add(layers.Dense(units=100, activation='relu', input_dim=30))\n",
    "dropout_5.add(layers.Dense(units=100, activation='relu', input_dim=30))\n",
    "\n",
    "#Output Layer\n",
    "dropout_5.add(layers.Dense(units=1, activation='sigmoid'))\n",
    "\n",
    "dropout_5.compile(optimizer='rmsprop', loss='binary_crossentropy', metrics=['accuracy', keras.metrics.Precision(), keras.metrics.Recall()])"
   ]
  },
  {
   "cell_type": "code",
   "execution_count": 1153,
   "id": "a5ca8d8c-2c1e-4a44-be6d-a4f1ca635a9b",
   "metadata": {},
   "outputs": [],
   "source": [
    "dropout_5_hist = dropout_5.fit(x_train, y_train, epochs=epochs_overfit, batch_size=batch_size_overfit, validation_data=(x_test, y_test), verbose=0)\n",
    "dropout_5_hist_dict = dropout_5_hist.history"
   ]
  },
  {
   "cell_type": "markdown",
   "id": "177fdd04-d89a-4d7b-a472-4d92478f59f9",
   "metadata": {},
   "source": [
    "#### Dropout6\n",
    "\n",
    "This sub-section produces the Drop1Half model with 6 layers."
   ]
  },
  {
   "cell_type": "code",
   "execution_count": 1154,
   "id": "49cc6461-1b85-4ebc-b710-3683e1bf7ab9",
   "metadata": {},
   "outputs": [],
   "source": [
    "#Original code\n",
    "dropout_6 = models.Sequential()\n",
    "\n",
    "#Input Layer\n",
    "dropout_6.add(layers.Dense(units=100, activation='relu', input_dim=30))\n",
    "dropout_6.add(Dropout(0.5))\n",
    "dropout_6.add(layers.Dense(units=100, activation='relu', input_dim=30))\n",
    "\n",
    "dropout_6.add(layers.Dense(units=100, activation='relu', input_dim=30))\n",
    "dropout_6.add(Dropout(0.5))\n",
    "dropout_6.add(layers.Dense(units=100, activation='relu', input_dim=30))\n",
    "\n",
    "#Output Layer\n",
    "dropout_6.add(layers.Dense(units=1, activation='sigmoid'))\n",
    "\n",
    "dropout_6.compile(optimizer='rmsprop', loss='binary_crossentropy', metrics=['accuracy', keras.metrics.Precision(), keras.metrics.Recall()])"
   ]
  },
  {
   "cell_type": "code",
   "execution_count": 1155,
   "id": "32d7139b-d01e-4049-ba1a-a2ef1e88bcd4",
   "metadata": {},
   "outputs": [],
   "source": [
    "dropout_6_hist = dropout_6.fit(x_train, y_train, epochs=epochs_overfit, batch_size=batch_size_overfit, validation_data=(x_test, y_test), verbose=0)\n",
    "dropout_6_hist_dict = dropout_6_hist.history"
   ]
  },
  {
   "cell_type": "markdown",
   "id": "2a6d7cd8-f9aa-46af-b196-35dc4cc08e4e",
   "metadata": {},
   "source": [
    "#### More/less Layers - Step 5-7 - Analysis\n",
    "\n",
    "This sub-section compares and analyses the 2 new models against the previous ones in this experiment. What is needed most are validation results rather than training results"
   ]
  },
  {
   "cell_type": "code",
   "execution_count": 1156,
   "id": "b5664948-66db-4d38-94f2-7173865789e6",
   "metadata": {},
   "outputs": [
    {
     "name": "stdout",
     "output_type": "stream",
     "text": [
      "Overfit  best in 1 categories: Val Recall Max\n",
      "Drop1Half  best in 10 categories: Loss Mean, Accuracy Max, Accuracy Mean, Precision Max, Precision Mean, Recall Max, Val Accuracy Max, Val Precision Max, Val Precision Last, Val Recall Mean\n",
      "Dropout2  best in 3 categories: Precision Last, Val Accuracy Last, Val Recall Last\n",
      "Dropout4  best in 6 categories: Loss Min, Recall Last, Val Loss Min, Val Loss Mean, Val Loss Last, Val Accuracy Mean\n",
      "Dropout5  best in 2 categories: Recall Mean, Val Precision Mean\n",
      "Dropout6  best in 2 categories: Loss Last, Accuracy Last\n"
     ]
    }
   ],
   "source": [
    "#Original code\n",
    "#initialize dicts list\n",
    "dicts = [overfit_dict, d_1_h_dict, dropout_2_hist_dict, dropout_4_hist_dict,dropout_5_hist_dict, dropout_6_hist_dict ]\n",
    "il_57_info = compare_histories(dicts)\n",
    "model_labels = [\"Overfit\", \"Drop1Half\",\"Dropout2\",\"Dropout4\",\"Dropout5\",\"Dropout6\"]\n",
    "print_dict_results(il_57_info,model_labels)"
   ]
  },
  {
   "cell_type": "markdown",
   "id": "1a7323ce-3ba5-4078-aaed-1afba6bdb850",
   "metadata": {},
   "source": [
    "### Takeaways\n",
    "\n",
    "Dropout4 remains the best model so far when it regards validation results. Therefore, no further experiments are needed. Dropout4 continues in future experiments."
   ]
  },
  {
   "cell_type": "markdown",
   "id": "dc8da3c1-afd5-42bf-bfed-7738ed55fab9",
   "metadata": {},
   "source": [
    "## L1 & L2 Regularization\n",
    "\n",
    "Weight Regularization adds a penalty to the loss function essentially forcing a model to be simpler, therefore, less likely to overfit. \n",
    "<br>\n",
    "\"L1 regularization — The cost added is proportional to the absolute value of the\n",
    "weight coefficients (the L1 norm of the weights).\n",
    "L2 regularization—The cost added is proportional to the square of the value of the\n",
    "weight coefficients (the L2 norm of the weights). L2 regularization is also called\n",
    "weight decay in the context of neural networks. Don’t let the different name confuse you: weight decay is mathematically the same as L2 regularization.\"\n",
    "quoted from Chollet F., Deep Learning With Python (2017), Chapter 4.4.2 \n",
    "<br>\n",
    "Several experiments are done in this fashion:\n",
    "1. Producing, Comparing, and analysing 3 models:\n",
    "    1. Applying L1 Regularization to the Dropout4 model.\n",
    "    2. Applying L2 Regularization to the Dropout4 model.\n",
    "    3. Applying Both L1 & L2 Regularization to the Dropout4 model.\n",
    "2. If L1/L2/L1&L2 produce sufficient results, producing more experiments alternating their placement and/or use in layers."
   ]
  },
  {
   "cell_type": "markdown",
   "id": "3433959e-2df0-4f9f-84cc-23d2dc94db32",
   "metadata": {},
   "source": [
    "### Regularization Experiment 1 - Producing L1, L2, L1&L2 models\n",
    "\n",
    "Several models based on the dropout 4 model are produced and compared to the overfitting model and the dropout4 model:\n",
    "\n",
    "| Model Name | Regularization | \n",
    "| --- | --- |\n",
    "| ModL1 | L1 | \n",
    "| ModL2 | L2 | \n",
    "| ModL12 | L1 & L2 | \n"
   ]
  },
  {
   "cell_type": "markdown",
   "id": "586f1bf4-444d-4b2b-a645-7e2e2bc7a900",
   "metadata": {},
   "source": [
    "#### ModL1\n",
    "\n",
    "This sub-section Produces the Dropout4 model with L1 regularization on each input layer"
   ]
  },
  {
   "cell_type": "code",
   "execution_count": 1157,
   "id": "485b9621-fa47-433d-a0fb-dc4135d0f1e5",
   "metadata": {},
   "outputs": [],
   "source": [
    "#Original code\n",
    "from keras.regularizers import l1\n",
    "mod_l1 = models.Sequential()\n",
    "\n",
    "#Input Layer\n",
    "mod_l1.add(layers.Dense(units=100, activation='relu', input_dim=30, kernel_regularizer = l1(0.01)))\n",
    "mod_l1.add(Dropout(0.5))\n",
    "mod_l1.add(layers.Dense(units=100, activation='relu', input_dim=30, kernel_regularizer = l1(0.01)))\n",
    "mod_l1.add(layers.Dense(units=100, activation='relu', input_dim=30, kernel_regularizer = l1(0.01)))\n",
    "mod_l1.add(layers.Dense(units=100, activation='relu', input_dim=30, kernel_regularizer = l1(0.01)))\n",
    "\n",
    "#Output Layer\n",
    "mod_l1.add(layers.Dense(units=1, activation='sigmoid'))\n",
    "\n",
    "mod_l1.compile(optimizer='rmsprop', loss='binary_crossentropy', metrics=['accuracy', keras.metrics.Precision(), keras.metrics.Recall()])"
   ]
  },
  {
   "cell_type": "code",
   "execution_count": 1158,
   "id": "af238437-b18e-4358-97cf-d60c25747c99",
   "metadata": {},
   "outputs": [],
   "source": [
    "mod_l1_hist = mod_l1.fit(x_train, y_train, epochs=epochs_overfit, batch_size=batch_size_overfit, validation_data=(x_test, y_test), verbose=0)\n",
    "mod_l1_hist_dict = mod_l1_hist.history"
   ]
  },
  {
   "cell_type": "markdown",
   "id": "c5ec696a-b4e4-4b59-b2e2-58765a5991a8",
   "metadata": {},
   "source": [
    "#### ModL2\n",
    "\n",
    "This sub-section Produces the Dropout4 model with L2 regularization on each input layer"
   ]
  },
  {
   "cell_type": "code",
   "execution_count": 1159,
   "id": "fe9b63d5-2852-4502-96e4-bacf770a6c68",
   "metadata": {},
   "outputs": [],
   "source": [
    "#Original code\n",
    "from keras.regularizers import l2\n",
    "mod_l2 = models.Sequential()\n",
    "\n",
    "#Input Layer\n",
    "mod_l2.add(layers.Dense(units=100, activation='relu', input_dim=30, kernel_regularizer = l2(0.01)))\n",
    "mod_l2.add(Dropout(0.5))\n",
    "mod_l2.add(layers.Dense(units=100, activation='relu', input_dim=30, kernel_regularizer = l2(0.01)))\n",
    "mod_l2.add(layers.Dense(units=100, activation='relu', input_dim=30, kernel_regularizer = l2(0.01)))\n",
    "mod_l2.add(layers.Dense(units=100, activation='relu', input_dim=30, kernel_regularizer = l2(0.01)))\n",
    "\n",
    "#Output Layer\n",
    "mod_l2.add(layers.Dense(units=1, activation='sigmoid'))\n",
    "\n",
    "mod_l2.compile(optimizer='rmsprop', loss='binary_crossentropy', metrics=['accuracy', keras.metrics.Precision(), keras.metrics.Recall()])"
   ]
  },
  {
   "cell_type": "code",
   "execution_count": 1160,
   "id": "7be881f0-dc0d-4de0-b1de-66a2dbd9a340",
   "metadata": {},
   "outputs": [],
   "source": [
    "mod_l2_hist = mod_l2.fit(x_train, y_train, epochs=epochs_overfit, batch_size=batch_size_overfit, validation_data=(x_test, y_test), verbose=0)\n",
    "mod_l2_hist_dict = mod_l2_hist.history"
   ]
  },
  {
   "cell_type": "markdown",
   "id": "4302e135-4e72-42b1-a1f5-6630b98dae77",
   "metadata": {},
   "source": [
    "#### ModL12\n",
    "\n",
    "This sub-section Produces the Dropout4 model with L1 & L2 regularization on each input layer"
   ]
  },
  {
   "cell_type": "code",
   "execution_count": 1161,
   "id": "909d5ff9-4606-49df-a172-48f45487b7b0",
   "metadata": {},
   "outputs": [],
   "source": [
    "#Original code\n",
    "from keras.regularizers import l1_l2\n",
    "mod_l12 = models.Sequential()\n",
    "\n",
    "#Input Layer\n",
    "mod_l12.add(layers.Dense(units=100, activation='relu', input_dim=30, kernel_regularizer = l1_l2(l1 = 0.01, l2 = 0.01)))\n",
    "mod_l12.add(Dropout(0.5))\n",
    "mod_l12.add(layers.Dense(units=100, activation='relu', input_dim=30, kernel_regularizer = l1_l2(l1 = 0.01, l2 = 0.01)))\n",
    "mod_l12.add(layers.Dense(units=100, activation='relu', input_dim=30, kernel_regularizer = l1_l2(l1 = 0.01, l2 = 0.01)))\n",
    "mod_l12.add(layers.Dense(units=100, activation='relu', input_dim=30, kernel_regularizer = l1_l2(l1 = 0.01, l2 = 0.01)))\n",
    "\n",
    "#Output Layer\n",
    "mod_l12.add(layers.Dense(units=1, activation='sigmoid'))\n",
    "\n",
    "mod_l12.compile(optimizer='rmsprop', loss='binary_crossentropy', metrics=['accuracy', keras.metrics.Precision(), keras.metrics.Recall()])"
   ]
  },
  {
   "cell_type": "code",
   "execution_count": 1162,
   "id": "9a511adb-3bcf-4602-a3f6-5a5d1a03a291",
   "metadata": {},
   "outputs": [],
   "source": [
    "mod_l12_hist = mod_l12.fit(x_train, y_train, epochs=epochs_overfit, batch_size=batch_size_overfit, validation_data=(x_test, y_test), verbose=0)\n",
    "mod_l12_hist_dict = mod_l12_hist.history"
   ]
  },
  {
   "cell_type": "markdown",
   "id": "09a93588-71d9-42d6-b65e-a37aeb4ce08f",
   "metadata": {},
   "source": [
    "#### Regularization Experiment 1 - Analysis\n",
    "\n",
    "This sub-section compares and analyses the ModL1,ModL2, and ModL12 models against the overfitting model and dropout4 model."
   ]
  },
  {
   "cell_type": "code",
   "execution_count": 1163,
   "id": "26e12330-d03e-48ba-9ba9-11695e5a02fd",
   "metadata": {},
   "outputs": [
    {
     "name": "stdout",
     "output_type": "stream",
     "text": [
      "Overfit  best in 1 categories: Val Recall Max\n",
      "Dropout4  best in 23 categories: Loss Min, Loss Mean, Loss Last, Accuracy Max, Accuracy Mean, Accuracy Last, Precision Max, Precision Mean, Precision Last, Recall Max, Recall Mean, Recall Last, Val Loss Min, Val Loss Mean, Val Loss Last, Val Accuracy Max, Val Accuracy Mean, Val Accuracy Last, Val Precision Max, Val Precision Mean, Val Precision Last, Val Recall Mean, Val Recall Last\n",
      "ModL1  best in 0 categories: \n",
      "ModL2  best in 0 categories: \n",
      "ModL12  best in 0 categories: \n"
     ]
    }
   ],
   "source": [
    "#Original code\n",
    "#initialize dicts list\n",
    "dicts = [overfit_dict, dropout_4_hist_dict, mod_l1_hist_dict, mod_l2_hist_dict, mod_l12_hist_dict]\n",
    "reg_1_info = compare_histories(dicts)\n",
    "model_labels = [\"Overfit\", \"Dropout4\", \"ModL1\", \"ModL2\", \"ModL12\"]\n",
    "print_dict_results(reg_1_info,model_labels)"
   ]
  },
  {
   "cell_type": "markdown",
   "id": "15cd3bc9-f2f1-4535-8bda-9ef00f26763f",
   "metadata": {},
   "source": [
    "### Takeaways\n",
    "\n",
    "With no significant validation result at all, L1, L2, and L1&L2 regularization is concluded to be not needed and perform worse than the overfitting model. Therefore, the experiments on regularization are concluded. Dropout4 is the only model to go into hyperparameter Tuning."
   ]
  },
  {
   "cell_type": "markdown",
   "id": "642ca95e-434b-45b7-95f5-114eb824c165",
   "metadata": {},
   "source": [
    "## Hyperparameter Tuning\n",
    "\n",
    "This section focuses on several experiments to determine the best hyperparameters for the most successful model of the previous experiments - Dropout4.\n",
    "The hyperparameters in question are:\n",
    "1. Epochs\n",
    "2. Units Per Layer\n",
    "3. Batch Size\n",
    "4. Optimizer Learning rate\n",
    "\n",
    "Each hyperparameter experiment will continue until reaching a satisfactory value."
   ]
  },
  {
   "cell_type": "markdown",
   "id": "265cad3d-7b3e-476d-ad2a-09b127b7cb23",
   "metadata": {},
   "source": [
    "### Epochs\n",
    "\n",
    "This sub-section conducts an experiment on the optimal amount of epochs(iterations) needed to train the model on.\n",
    "The current epochs deemed to overfit the model are 1000. However, the Dropout4 Model fits on 1000 epochs performing better than the overfitted model. Therefore several model fits are conducted on varying amounts of epochs.\n",
    "<b>Experiment 1:</b>\n",
    "1. 150 - increasing epochs to see the upper threshold of validation performance of this model\n",
    "2. 200 - doubling epochs to see the upper threshold of validation performance of this model\n",
    "3. 100 - a middle ground for epochs in order to determine the right range\n",
    "4. 75 - decreasing epochs to check for validation performance of this model\n",
    "5. 50 - diving epochs in half to check for validation performance of this model\n",
    "\n",
    "Each history will be compared and analysed.\n",
    "\n",
    "<i>Sidenote: attempts were made to simply retrain dropout4 by resetting weights then recompiling however this led to very unexpected results such as missing values. Therefore new models are made for each epochs test. </i>"
   ]
  },
  {
   "cell_type": "markdown",
   "id": "32b1f88f-15b8-42a4-90f0-d99b727bd655",
   "metadata": {},
   "source": [
    "#### Dropout4 - 50 Epochs"
   ]
  },
  {
   "cell_type": "code",
   "execution_count": 1164,
   "id": "322a8c07-2a73-44dc-9640-ceb5bd43df2e",
   "metadata": {},
   "outputs": [],
   "source": [
    "#Original code\n",
    "d_4_50 = models.Sequential()\n",
    "\n",
    "#Input Layer\n",
    "d_4_50.add(layers.Dense(units=100, activation='relu', input_dim=30))\n",
    "d_4_50.add(Dropout(0.5))\n",
    "d_4_50.add(layers.Dense(units=100, activation='relu', input_dim=30))\n",
    "d_4_50.add(layers.Dense(units=100, activation='relu', input_dim=30))\n",
    "d_4_50.add(layers.Dense(units=100, activation='relu', input_dim=30))\n",
    "\n",
    "#Output Layer\n",
    "d_4_50.add(layers.Dense(units=1, activation='sigmoid'))\n",
    "\n",
    "d_4_50.compile(optimizer='rmsprop', loss='binary_crossentropy', metrics=['accuracy', keras.metrics.Precision(), keras.metrics.Recall()])"
   ]
  },
  {
   "cell_type": "code",
   "execution_count": 1165,
   "id": "eba7b599-69d5-48ac-83c9-5a8a510635be",
   "metadata": {},
   "outputs": [],
   "source": [
    "d_4_50_hist = d_4_50.fit(x_train, y_train, epochs=50, batch_size=batch_size_overfit, validation_data=(x_test, y_test), verbose=0)\n",
    "d_4_50_dict = d_4_50_hist.history"
   ]
  },
  {
   "cell_type": "markdown",
   "id": "b0211608-86d4-4cce-8e68-72895eb00e73",
   "metadata": {},
   "source": [
    "##### Dropout4 - 75 Epochs"
   ]
  },
  {
   "cell_type": "code",
   "execution_count": 1166,
   "id": "b8129460-cac1-49b2-94a4-eec412420201",
   "metadata": {},
   "outputs": [],
   "source": [
    "#Original code\n",
    "d_4_75 = models.Sequential()\n",
    "\n",
    "#Input Layer\n",
    "d_4_75.add(layers.Dense(units=100, activation='relu', input_dim=30))\n",
    "d_4_75.add(Dropout(0.5))\n",
    "d_4_75.add(layers.Dense(units=100, activation='relu', input_dim=30))\n",
    "d_4_75.add(layers.Dense(units=100, activation='relu', input_dim=30))\n",
    "d_4_75.add(layers.Dense(units=100, activation='relu', input_dim=30))\n",
    "\n",
    "#Output Layer\n",
    "d_4_75.add(layers.Dense(units=1, activation='sigmoid'))\n",
    "\n",
    "d_4_75.compile(optimizer='rmsprop', loss='binary_crossentropy', metrics=['accuracy', keras.metrics.Precision(), keras.metrics.Recall()])"
   ]
  },
  {
   "cell_type": "code",
   "execution_count": 1167,
   "id": "83141e6e-657b-4b7a-b6b4-48aa3ba03080",
   "metadata": {},
   "outputs": [],
   "source": [
    "d_4_75_hist = d_4_75.fit(x_train, y_train, epochs=75, batch_size=batch_size_overfit, validation_data=(x_test, y_test), verbose=0)\n",
    "d_4_75_dict = d_4_75_hist.history"
   ]
  },
  {
   "cell_type": "markdown",
   "id": "a4a04c73-18f2-4c27-beab-b8f01e52a573",
   "metadata": {},
   "source": [
    "##### Dropout4 - 100 Epochs"
   ]
  },
  {
   "cell_type": "code",
   "execution_count": 1168,
   "id": "bbd2562d-84ad-4cc9-879f-4b73936f4cdb",
   "metadata": {},
   "outputs": [],
   "source": [
    "#Original code\n",
    "d_4_100 = models.Sequential()\n",
    "\n",
    "#Input Layer\n",
    "d_4_100.add(layers.Dense(units=100, activation='relu', input_dim=30))\n",
    "d_4_100.add(Dropout(0.5))\n",
    "d_4_100.add(layers.Dense(units=100, activation='relu', input_dim=30))\n",
    "d_4_100.add(layers.Dense(units=100, activation='relu', input_dim=30))\n",
    "d_4_100.add(layers.Dense(units=100, activation='relu', input_dim=30))\n",
    "\n",
    "#Output Layer\n",
    "d_4_100.add(layers.Dense(units=1, activation='sigmoid'))\n",
    "\n",
    "d_4_100.compile(optimizer='rmsprop', loss='binary_crossentropy', metrics=['accuracy', keras.metrics.Precision(), keras.metrics.Recall()])"
   ]
  },
  {
   "cell_type": "code",
   "execution_count": 1169,
   "id": "f901a1ad-2b22-43f1-942c-daa6cd49a983",
   "metadata": {},
   "outputs": [],
   "source": [
    "d_4_100_hist = d_4_100.fit(x_train, y_train, epochs=100, batch_size=batch_size_overfit, validation_data=(x_test, y_test), verbose=0)\n",
    "d_4_100_dict = d_4_100_hist.history"
   ]
  },
  {
   "cell_type": "markdown",
   "id": "b3a13595-56c7-4040-82a3-570c603423b0",
   "metadata": {},
   "source": [
    "#### Dropout4 - 150 Epochs"
   ]
  },
  {
   "cell_type": "code",
   "execution_count": 1170,
   "id": "b7f76c2e-b104-411a-bcd4-a964b4a4b9f4",
   "metadata": {},
   "outputs": [],
   "source": [
    "#Original code\n",
    "d_4_150 = models.Sequential()\n",
    "\n",
    "#Input Layer\n",
    "d_4_150.add(layers.Dense(units=100, activation='relu', input_dim=30))\n",
    "d_4_150.add(Dropout(0.5))\n",
    "d_4_150.add(layers.Dense(units=100, activation='relu', input_dim=30))\n",
    "d_4_150.add(layers.Dense(units=100, activation='relu', input_dim=30))\n",
    "d_4_150.add(layers.Dense(units=100, activation='relu', input_dim=30))\n",
    "\n",
    "#Output Layer\n",
    "d_4_150.add(layers.Dense(units=1, activation='sigmoid'))\n",
    "\n",
    "d_4_150.compile(optimizer='rmsprop', loss='binary_crossentropy', metrics=['accuracy', keras.metrics.Precision(), keras.metrics.Recall()])"
   ]
  },
  {
   "cell_type": "code",
   "execution_count": 1171,
   "id": "e545f7a3-effd-418a-b7e1-57ced925cc87",
   "metadata": {},
   "outputs": [],
   "source": [
    "d_4_150_hist = d_4_150.fit(x_train, y_train, epochs=150, batch_size=batch_size_overfit, validation_data=(x_test, y_test), verbose=0)\n",
    "d_4_150_dict = d_4_150_hist.history"
   ]
  },
  {
   "cell_type": "markdown",
   "id": "4099655e-275f-4244-b363-f53d3ecc7797",
   "metadata": {},
   "source": [
    "#### Dropout4 - 200 Epochs"
   ]
  },
  {
   "cell_type": "code",
   "execution_count": 1172,
   "id": "b2aaddff-6a5b-4366-a831-20106e05d038",
   "metadata": {},
   "outputs": [],
   "source": [
    "#Original code\n",
    "d_4_200 = models.Sequential()\n",
    "\n",
    "#Input Layer\n",
    "d_4_200.add(layers.Dense(units=100, activation='relu', input_dim=30))\n",
    "d_4_200.add(Dropout(0.5))\n",
    "d_4_200.add(layers.Dense(units=100, activation='relu', input_dim=30))\n",
    "d_4_200.add(layers.Dense(units=100, activation='relu', input_dim=30))\n",
    "d_4_200.add(layers.Dense(units=100, activation='relu', input_dim=30))\n",
    "\n",
    "#Output Layer\n",
    "d_4_200.add(layers.Dense(units=1, activation='sigmoid'))\n",
    "\n",
    "d_4_200.compile(optimizer='rmsprop', loss='binary_crossentropy', metrics=['accuracy', keras.metrics.Precision(), keras.metrics.Recall()])"
   ]
  },
  {
   "cell_type": "code",
   "execution_count": 1173,
   "id": "64f4d3b9-7e1b-4d6b-898d-0e29eef2429b",
   "metadata": {},
   "outputs": [],
   "source": [
    "d_4_200_hist = d_4_200.fit(x_train, y_train, epochs=200, batch_size=batch_size_overfit, validation_data=(x_test, y_test), verbose=0)\n",
    "d_4_200_dict = d_4_200_hist.history"
   ]
  },
  {
   "cell_type": "markdown",
   "id": "15b30f7d-0e7c-41d4-84c8-e4b3914ac43a",
   "metadata": {},
   "source": [
    "### Epochs Experiment 1 - Analysis\n",
    "\n",
    "This sub-section compares and analyzes the training done on all epochs given. If results point to more or less epochs, the next experiment is done on a new range with smaller offsets between amounts of epochs."
   ]
  },
  {
   "cell_type": "code",
   "execution_count": 1174,
   "id": "4c37fee5-5d52-4f71-b394-fbfba5935087",
   "metadata": {},
   "outputs": [
    {
     "name": "stdout",
     "output_type": "stream",
     "text": [
      "Dropout4 50e  best in 2 categories: Val Precision Max, Val Recall Max\n",
      "Dropout4 75e  best in 5 categories: Val Loss Last, Val Accuracy Max, Val Accuracy Last, Val Precision Last, Val Recall Mean\n",
      "Dropout4 100e  best in 1 categories: Val Recall Last\n",
      "Dropout4 150e  best in 3 categories: Accuracy Max, Precision Max, Recall Max\n",
      "Dropout4 200e  best in 13 categories: Loss Min, Loss Mean, Loss Last, Accuracy Mean, Accuracy Last, Precision Mean, Precision Last, Recall Mean, Recall Last, Val Loss Min, Val Loss Mean, Val Accuracy Mean, Val Precision Mean\n"
     ]
    }
   ],
   "source": [
    "dicts = [d_4_50_dict, d_4_75_dict, d_4_100_dict, d_4_150_dict, d_4_200_dict ]\n",
    "epoch_info = compare_histories(dicts)\n",
    "model_labels = [\"Dropout4 50e\", \"Dropout4 75e\", \"Dropout4 100e\", \"Dropout4 150e\", \"Dropout4 200e\"]\n",
    "print_dict_results(epoch_info,model_labels)"
   ]
  },
  {
   "cell_type": "markdown",
   "id": "26064e31-1817-41bd-961d-e7ea1666d5ca",
   "metadata": {},
   "source": [
    "### Epochs Experiment 1 - Takeaway\n",
    "\n",
    "2 ranges show potential, 50-75 epochs and 150-200 epochs:\n",
    "1. Range 50-75: 7 metrics - 7 metrics (100%) validation\n",
    "2. Range 150-200: 16 metrics - 12 (75%) metrics training, 4 metrics (25%) validation\n",
    "\n",
    "50-75 shows potential with hodling 7 validation only metrics,it is definitely useful for a lower bound and is used on the final models.\n",
    "At 150-200 metrics are consistently getting greatly satisfying mean validation results. \n",
    "Therefore the next Epochs Experiment is conducted on the 150-200 epochs range to find the upper bound of the most optimal epoch range."
   ]
  },
  {
   "cell_type": "markdown",
   "id": "3f15f132-6233-452e-842d-bc1cfb698773",
   "metadata": {},
   "source": [
    "### Epochs Experiment 2 - 150-200 epochs\n",
    "\n",
    "This experiment will test the dropout4 model on 150 and 200 epochs alongside:\n",
    "1. 160 epochs\n",
    "2. 170 epochs\n",
    "3. 180 epochs\n",
    "This is done in order to find the most optimal sweet spot for the upper bound of the epoch range."
   ]
  },
  {
   "cell_type": "markdown",
   "id": "3b566e61-9941-4d0b-801f-d06d479ec218",
   "metadata": {},
   "source": [
    "#### Dropout4 - 160 Epochs"
   ]
  },
  {
   "cell_type": "code",
   "execution_count": 1175,
   "id": "baa0f2b3-2d93-4d1f-85c8-6601df820d78",
   "metadata": {},
   "outputs": [],
   "source": [
    "#Original code\n",
    "d_4_160 = models.Sequential()\n",
    "\n",
    "#Input Layer\n",
    "d_4_160.add(layers.Dense(units=100, activation='relu', input_dim=30))\n",
    "d_4_160.add(Dropout(0.5))\n",
    "d_4_160.add(layers.Dense(units=100, activation='relu', input_dim=30))\n",
    "d_4_160.add(layers.Dense(units=100, activation='relu', input_dim=30))\n",
    "d_4_160.add(layers.Dense(units=100, activation='relu', input_dim=30))\n",
    "\n",
    "#Output Layer\n",
    "d_4_160.add(layers.Dense(units=1, activation='sigmoid'))\n",
    "\n",
    "d_4_160.compile(optimizer='rmsprop', loss='binary_crossentropy', metrics=['accuracy', keras.metrics.Precision(), keras.metrics.Recall()])"
   ]
  },
  {
   "cell_type": "code",
   "execution_count": 1176,
   "id": "5929e2c0-a7cb-4ea9-b694-91e3564f70d8",
   "metadata": {},
   "outputs": [],
   "source": [
    "d_4_160_hist = d_4_160.fit(x_train, y_train, epochs=160, batch_size=batch_size_overfit, validation_data=(x_test, y_test), verbose=0)\n",
    "d_4_160_dict = d_4_160_hist.history"
   ]
  },
  {
   "cell_type": "markdown",
   "id": "b9a7469d-ffa8-4672-afc8-d6a9967bbb80",
   "metadata": {},
   "source": [
    "#### Dropout4 - 170 Epochs"
   ]
  },
  {
   "cell_type": "code",
   "execution_count": 1177,
   "id": "46f59502-b6b7-462a-8b8a-3999d42290ab",
   "metadata": {},
   "outputs": [],
   "source": [
    "#Original code\n",
    "d_4_170 = models.Sequential()\n",
    "\n",
    "#Input Layer\n",
    "d_4_170.add(layers.Dense(units=100, activation='relu', input_dim=30))\n",
    "d_4_170.add(Dropout(0.5))\n",
    "d_4_170.add(layers.Dense(units=100, activation='relu', input_dim=30))\n",
    "d_4_170.add(layers.Dense(units=100, activation='relu', input_dim=30))\n",
    "d_4_170.add(layers.Dense(units=100, activation='relu', input_dim=30))\n",
    "\n",
    "#Output Layer\n",
    "d_4_170.add(layers.Dense(units=1, activation='sigmoid'))\n",
    "\n",
    "d_4_170.compile(optimizer='rmsprop', loss='binary_crossentropy', metrics=['accuracy', keras.metrics.Precision(), keras.metrics.Recall()])"
   ]
  },
  {
   "cell_type": "code",
   "execution_count": 1178,
   "id": "32b7a5ed-3ebf-4816-92d3-0f79caf9b73b",
   "metadata": {},
   "outputs": [],
   "source": [
    "d_4_170_hist = d_4_170.fit(x_train, y_train, epochs=170, batch_size=batch_size_overfit, validation_data=(x_test, y_test), verbose=0)\n",
    "d_4_170_dict = d_4_170_hist.history"
   ]
  },
  {
   "cell_type": "markdown",
   "id": "c678559e-83c5-434f-b860-bcf7af3fb0e3",
   "metadata": {},
   "source": [
    "#### Dropout4 - 180 Epochs"
   ]
  },
  {
   "cell_type": "code",
   "execution_count": 1179,
   "id": "17568cd3-daa1-42ce-8942-39295383fe27",
   "metadata": {},
   "outputs": [],
   "source": [
    "#Original code\n",
    "d_4_180 = models.Sequential()\n",
    "\n",
    "#Input Layer\n",
    "d_4_180.add(layers.Dense(units=100, activation='relu', input_dim=30))\n",
    "d_4_180.add(Dropout(0.5))\n",
    "d_4_180.add(layers.Dense(units=100, activation='relu', input_dim=30))\n",
    "d_4_180.add(layers.Dense(units=100, activation='relu', input_dim=30))\n",
    "d_4_180.add(layers.Dense(units=100, activation='relu', input_dim=30))\n",
    "\n",
    "#Output Layer\n",
    "d_4_180.add(layers.Dense(units=1, activation='sigmoid'))\n",
    "\n",
    "d_4_180.compile(optimizer='rmsprop', loss='binary_crossentropy', metrics=['accuracy', keras.metrics.Precision(), keras.metrics.Recall()])"
   ]
  },
  {
   "cell_type": "code",
   "execution_count": 1180,
   "id": "6e3b6efb-e5a2-42f8-9a8d-df6b355f70e7",
   "metadata": {},
   "outputs": [],
   "source": [
    "d_4_180_hist = d_4_180.fit(x_train, y_train, epochs=180, batch_size=batch_size_overfit, validation_data=(x_test, y_test), verbose=0)\n",
    "d_4_180_dict = d_4_180_hist.history"
   ]
  },
  {
   "cell_type": "markdown",
   "id": "27717fd9-5f29-410d-b3cc-45981335184e",
   "metadata": {},
   "source": [
    "### Epochs Experiment 2 - Analysis\n",
    "\n",
    "This sub-section completes the final epochs analysis across all values."
   ]
  },
  {
   "cell_type": "code",
   "execution_count": 1181,
   "id": "355f2507-5d3c-4cb2-9ed2-0530bb28dfca",
   "metadata": {},
   "outputs": [
    {
     "name": "stdout",
     "output_type": "stream",
     "text": [
      "Dropout4 150e  best in 8 categories: Accuracy Max, Precision Max, Recall Max, Val Accuracy Max, Val Accuracy Last, Val Precision Max, Val Recall Max, Val Recall Last\n",
      "Dropout4 160e  best in 7 categories: Recall Last, Val Loss Min, Val Loss Mean, Val Loss Last, Val Accuracy Mean, Val Precision Last, Val Recall Mean\n",
      "Dropout4 170e  best in 0 categories: \n",
      "Dropout4 180e  best in 1 categories: Recall Mean\n",
      "Dropout4 200e  best in 8 categories: Loss Min, Loss Mean, Loss Last, Accuracy Mean, Accuracy Last, Precision Mean, Precision Last, Val Precision Mean\n"
     ]
    }
   ],
   "source": [
    "dicts = [d_4_150_dict, d_4_160_dict, d_4_170_dict, d_4_180_dict, d_4_200_dict ]\n",
    "epoch_info = compare_histories(dicts)\n",
    "model_labels = [\"Dropout4 150e\", \"Dropout4 160e\", \"Dropout4 170e\", \"Dropout4 180e\", \"Dropout4 200e\"]\n",
    "print_dict_results(epoch_info,model_labels)"
   ]
  },
  {
   "cell_type": "markdown",
   "id": "e449076b-785f-40f5-ae3d-ad9014655f14",
   "metadata": {},
   "source": [
    "### Epochs Experiment 2 - Takeaway\n",
    "\n",
    "At 150 epochs the most significant results are seen. Anything above 160 epochs begins overfitting and performing worse on validation."
   ]
  },
  {
   "cell_type": "markdown",
   "id": "111b47d9-a9df-4457-b487-b132eb098a73",
   "metadata": {},
   "source": [
    "### Epochs Experiments - Takeaway\n",
    "\n",
    "For the sake of these experiments, a good range of between 75 and 160 epochs is found. Epochs can and should change alongside other parameters and will be adjusted if the model begins overfitting."
   ]
  },
  {
   "cell_type": "markdown",
   "id": "4a502f31-27e6-4bbb-83a9-86990c7a9e44",
   "metadata": {},
   "source": [
    "### Units Per Layer\n",
    "\n",
    "Units per layer determine the complexity capacity of a layer. An experiment is done to determine the best Units Per Layer for this model:\n",
    "1. 16 Units Per Layer\n",
    "2. 32 Units Per Layer\n",
    "3. 64 Units Per Layer\n",
    "4. 128 Units Per Layer\n",
    "5. 256 Units Per Layer\n",
    "\n",
    "Using the dropout4 architecture fitted at 100 epochs and compared to both the overfitted model and dropout4 at the same epochs."
   ]
  },
  {
   "cell_type": "markdown",
   "id": "19815998-d510-4b40-b6f2-177b048b4dc1",
   "metadata": {},
   "source": [
    "#### Dropout4 16UPL"
   ]
  },
  {
   "cell_type": "code",
   "execution_count": 1190,
   "id": "03dfb6c7-1403-407c-b61f-ab651ff9a6a4",
   "metadata": {},
   "outputs": [],
   "source": [
    "#Original code\n",
    "d_4_16upl = models.Sequential()\n",
    "\n",
    "#Input Layer\n",
    "d_4_16upl.add(layers.Dense(units=16, activation='relu', input_dim=30))\n",
    "d_4_16upl.add(Dropout(0.5))\n",
    "d_4_16upl.add(layers.Dense(units=16, activation='relu', input_dim=30))\n",
    "d_4_16upl.add(layers.Dense(units=16, activation='relu', input_dim=30))\n",
    "d_4_16upl.add(layers.Dense(units=16, activation='relu', input_dim=30))\n",
    "\n",
    "#Output Layer\n",
    "d_4_16upl.add(layers.Dense(units=1, activation='sigmoid'))\n",
    "\n",
    "d_4_16upl.compile(optimizer='rmsprop', loss='binary_crossentropy', metrics=['accuracy', keras.metrics.Precision(), keras.metrics.Recall()])"
   ]
  },
  {
   "cell_type": "code",
   "execution_count": 1191,
   "id": "3f781066-8e29-4f17-8b06-0324d4660c7c",
   "metadata": {},
   "outputs": [],
   "source": [
    "d_4_16upl_hist = d_4_16upl.fit(x_train, y_train, epochs=100, batch_size=batch_size_overfit, validation_data=(x_test, y_test), verbose=0)\n",
    "d_4_16upl_dict = d_4_16upl_hist.history"
   ]
  },
  {
   "cell_type": "markdown",
   "id": "37f1298f-cd1a-48df-aa02-944c3bc7b10f",
   "metadata": {},
   "source": [
    "#### Dropout4 32UPL"
   ]
  },
  {
   "cell_type": "code",
   "execution_count": 1192,
   "id": "b822732f-a6a3-4531-ac81-8295b7dbd010",
   "metadata": {},
   "outputs": [],
   "source": [
    "#Original code\n",
    "d_4_32upl = models.Sequential()\n",
    "\n",
    "#Input Layer\n",
    "d_4_32upl.add(layers.Dense(units=32, activation='relu', input_dim=30))\n",
    "d_4_32upl.add(Dropout(0.5))\n",
    "d_4_32upl.add(layers.Dense(units=32, activation='relu', input_dim=30))\n",
    "d_4_32upl.add(layers.Dense(units=32, activation='relu', input_dim=30))\n",
    "d_4_32upl.add(layers.Dense(units=32, activation='relu', input_dim=30))\n",
    "\n",
    "#Output Layer\n",
    "d_4_32upl.add(layers.Dense(units=1, activation='sigmoid'))\n",
    "\n",
    "d_4_32upl.compile(optimizer='rmsprop', loss='binary_crossentropy', metrics=['accuracy', keras.metrics.Precision(), keras.metrics.Recall()])"
   ]
  },
  {
   "cell_type": "code",
   "execution_count": 1193,
   "id": "fa54595b-1b6d-4975-9cdf-c35adea1eee6",
   "metadata": {},
   "outputs": [],
   "source": [
    "d_4_32upl_hist = d_4_32upl.fit(x_train, y_train, epochs=100, batch_size=batch_size_overfit, validation_data=(x_test, y_test), verbose=0)\n",
    "d_4_32upl_dict = d_4_32upl_hist.history"
   ]
  },
  {
   "cell_type": "markdown",
   "id": "97a6e30e-b872-42f9-81f8-e70798cddc2b",
   "metadata": {},
   "source": [
    "#### Dropout4 64UPL"
   ]
  },
  {
   "cell_type": "code",
   "execution_count": 1194,
   "id": "bfcb81f5-fe9e-488e-a1db-017b57d76fb0",
   "metadata": {},
   "outputs": [],
   "source": [
    "#Original code\n",
    "d_4_64upl = models.Sequential()\n",
    "\n",
    "#Input Layer\n",
    "d_4_64upl.add(layers.Dense(units=64, activation='relu', input_dim=30))\n",
    "d_4_64upl.add(Dropout(0.5))\n",
    "d_4_64upl.add(layers.Dense(units=64, activation='relu', input_dim=30))\n",
    "d_4_64upl.add(layers.Dense(units=64, activation='relu', input_dim=30))\n",
    "d_4_64upl.add(layers.Dense(units=64, activation='relu', input_dim=30))\n",
    "\n",
    "#Output Layer\n",
    "d_4_64upl.add(layers.Dense(units=1, activation='sigmoid'))\n",
    "\n",
    "d_4_64upl.compile(optimizer='rmsprop', loss='binary_crossentropy', metrics=['accuracy', keras.metrics.Precision(), keras.metrics.Recall()])"
   ]
  },
  {
   "cell_type": "code",
   "execution_count": 1195,
   "id": "cf663806-00eb-439a-8c7d-f653081cf5cb",
   "metadata": {},
   "outputs": [],
   "source": [
    "d_4_64upl_hist = d_4_64upl.fit(x_train, y_train, epochs=100, batch_size=batch_size_overfit, validation_data=(x_test, y_test), verbose=0)\n",
    "d_4_64upl_dict = d_4_64upl_hist.history"
   ]
  },
  {
   "cell_type": "markdown",
   "id": "ba27297d-36de-45ed-a4b2-4a806a3b8451",
   "metadata": {},
   "source": [
    "#### Dropout4 128UPL"
   ]
  },
  {
   "cell_type": "code",
   "execution_count": 1196,
   "id": "b9e84148-366f-46f7-8cc2-24a942c81281",
   "metadata": {},
   "outputs": [],
   "source": [
    "#Original code\n",
    "d_4_128upl = models.Sequential()\n",
    "\n",
    "#Input Layer\n",
    "d_4_128upl.add(layers.Dense(units=128, activation='relu', input_dim=30))\n",
    "d_4_128upl.add(Dropout(0.5))\n",
    "d_4_128upl.add(layers.Dense(units=128, activation='relu', input_dim=30))\n",
    "d_4_128upl.add(layers.Dense(units=128, activation='relu', input_dim=30))\n",
    "d_4_128upl.add(layers.Dense(units=128, activation='relu', input_dim=30))\n",
    "\n",
    "#Output Layer\n",
    "d_4_128upl.add(layers.Dense(units=1, activation='sigmoid'))\n",
    "\n",
    "d_4_128upl.compile(optimizer='rmsprop', loss='binary_crossentropy', metrics=['accuracy', keras.metrics.Precision(), keras.metrics.Recall()])"
   ]
  },
  {
   "cell_type": "code",
   "execution_count": 1197,
   "id": "36000c9c-093e-4a9e-9080-baf754679bf6",
   "metadata": {},
   "outputs": [],
   "source": [
    "d_4_128upl_hist = d_4_128upl.fit(x_train, y_train, epochs=100, batch_size=batch_size_overfit, validation_data=(x_test, y_test), verbose=0)\n",
    "d_4_128upl_dict = d_4_128upl_hist.history"
   ]
  },
  {
   "cell_type": "markdown",
   "id": "80fb73fe-5e0c-4374-8234-ce42c948c96a",
   "metadata": {},
   "source": [
    "#### Dropout4 256UPL"
   ]
  },
  {
   "cell_type": "code",
   "execution_count": 1198,
   "id": "ab44a6be-4546-4c65-bb5d-fb2adadd7dd1",
   "metadata": {},
   "outputs": [],
   "source": [
    "#Original code\n",
    "d_4_256upl = models.Sequential()\n",
    "\n",
    "#Input Layer\n",
    "d_4_256upl.add(layers.Dense(units=256, activation='relu', input_dim=30))\n",
    "d_4_256upl.add(Dropout(0.5))\n",
    "d_4_256upl.add(layers.Dense(units=256, activation='relu', input_dim=30))\n",
    "d_4_256upl.add(layers.Dense(units=256, activation='relu', input_dim=30))\n",
    "d_4_256upl.add(layers.Dense(units=256, activation='relu', input_dim=30))\n",
    "\n",
    "#Output Layer\n",
    "d_4_256upl.add(layers.Dense(units=1, activation='sigmoid'))\n",
    "\n",
    "d_4_256upl.compile(optimizer='rmsprop', loss='binary_crossentropy', metrics=['accuracy', keras.metrics.Precision(), keras.metrics.Recall()])"
   ]
  },
  {
   "cell_type": "code",
   "execution_count": 1199,
   "id": "5b9f250b-dd14-489b-b5f0-263a322edf80",
   "metadata": {},
   "outputs": [],
   "source": [
    "d_4_256upl_hist = d_4_256upl.fit(x_train, y_train, epochs=100, batch_size=batch_size_overfit, validation_data=(x_test, y_test), verbose=0)\n",
    "d_4_256upl_dict = d_4_256upl_hist.history"
   ]
  },
  {
   "cell_type": "markdown",
   "id": "45663134-e8fd-484b-b208-a697d200b7de",
   "metadata": {},
   "source": [
    "#### Units Per Layer Experiment Analysis\n",
    "\n",
    "This sub-section covers the comparison and analysis of all 5 UPL models against the overfitted model and dropout4 at 100 UPL."
   ]
  },
  {
   "cell_type": "code",
   "execution_count": 1200,
   "id": "0f83e93f-4545-4a91-befc-a32b36cc4744",
   "metadata": {},
   "outputs": [
    {
     "name": "stdout",
     "output_type": "stream",
     "text": [
      "Overfit 100 UPL  best in 1 categories: Val Recall Max\n",
      "Dropout4 100 UPL  best in 23 categories: Loss Min, Loss Mean, Loss Last, Accuracy Max, Accuracy Mean, Accuracy Last, Precision Max, Precision Mean, Precision Last, Recall Max, Recall Mean, Recall Last, Val Loss Min, Val Loss Mean, Val Loss Last, Val Accuracy Max, Val Accuracy Mean, Val Accuracy Last, Val Precision Max, Val Precision Mean, Val Precision Last, Val Recall Mean, Val Recall Last\n",
      "Dropout4 16 UPL  best in 0 categories: \n",
      "Dropout4 32 UPL  best in 0 categories: \n",
      "Dropout4 64 UPL  best in 0 categories: \n",
      "Dropout4 128 UPL  best in 0 categories: \n",
      "Dropout4 256 UPL  best in 0 categories: \n"
     ]
    }
   ],
   "source": [
    "#Original code\n",
    "dicts = [overfit_dict, dropout_4_hist_dict, d_4_16upl_dict, d_4_32upl_dict, d_4_64upl_dict,d_4_128upl_dict, d_4_256upl_dict]\n",
    "upl_info = compare_histories(dicts)\n",
    "model_labels = [\"Overfit 100 UPL\",\"Dropout4 100 UPL\", \"Dropout4 16 UPL\", \"Dropout4 32 UPL\", \"Dropout4 64 UPL\", \"Dropout4 128 UPL\", \"Dropout4 256 UPL\"]\n",
    "print_dict_results(upl_info,model_labels)"
   ]
  },
  {
   "cell_type": "code",
   "execution_count": 1201,
   "id": "08329c31-042f-43b8-9f4b-455a9c5111bc",
   "metadata": {},
   "outputs": [
    {
     "name": "stdout",
     "output_type": "stream",
     "text": [
      "Overfit 100 UPL  best in 1 categories: Val Recall Max\n",
      "Dropout4 16 UPL  best in 1 categories: Val Precision Max\n",
      "Dropout4 32 UPL  best in 5 categories: Precision Max, Val Accuracy Max, Val Accuracy Mean, Val Accuracy Last, Val Recall Last\n",
      "Dropout4 64 UPL  best in 2 categories: Val Precision Mean, Val Precision Last\n",
      "Dropout4 128 UPL  best in 8 categories: Loss Min, Loss Last, Accuracy Max, Accuracy Last, Precision Mean, Recall Max, Recall Last, Val Loss Last\n",
      "Dropout4 256 UPL  best in 7 categories: Loss Mean, Accuracy Mean, Precision Last, Recall Mean, Val Loss Min, Val Loss Mean, Val Recall Mean\n"
     ]
    }
   ],
   "source": [
    "#Original code\n",
    "#without dropout4 at 100UPL\n",
    "dicts = [overfit_dict, d_4_16upl_dict, d_4_32upl_dict, d_4_64upl_dict,d_4_128upl_dict, d_4_256upl_dict]\n",
    "upl_info = compare_histories(dicts)\n",
    "model_labels = [\"Overfit 100 UPL\", \"Dropout4 16 UPL\", \"Dropout4 32 UPL\", \"Dropout4 64 UPL\", \"Dropout4 128 UPL\", \"Dropout4 256 UPL\"]\n",
    "print_dict_results(upl_info,model_labels)"
   ]
  },
  {
   "cell_type": "markdown",
   "id": "961e7250-982f-48c8-986a-4ec2da6e5b82",
   "metadata": {},
   "source": [
    "## Units Per Layer Experiment Takeaways\n",
    "A good set is established - 32/64/128 Units Per Layer."
   ]
  },
  {
   "cell_type": "markdown",
   "id": "6cec902c-8a36-4c17-9c50-7e25a793211f",
   "metadata": {},
   "source": [
    "### Batch Size\n",
    "\n",
    "Batch size determines the amount of samples propagated through the network at once.\n",
    "\n",
    "the current overfitted batch size is 32. An experiment will be carried out to find an optimal batch size or batch size range. 3 new dropout models are made at 100 epochs and 100 units per layer with a batch size of:\n",
    "1. 8\n",
    "2. 16\n",
    "3. 64\n",
    "\n",
    "Each will be compared and analysed to the overfitted model and the dropout4 at 32 batch size model."
   ]
  },
  {
   "cell_type": "markdown",
   "id": "4ce746b3-27db-4ac7-9e15-7fd607efb1df",
   "metadata": {},
   "source": [
    "#### Dropout4 8BaS"
   ]
  },
  {
   "cell_type": "code",
   "execution_count": 1203,
   "id": "8f18e29f-75d3-49f7-b840-f8aec09fc047",
   "metadata": {},
   "outputs": [],
   "source": [
    "#Original code\n",
    "d_4_8bas = models.Sequential()\n",
    "\n",
    "#Input Layer\n",
    "d_4_8bas.add(layers.Dense(units=100, activation='relu', input_dim=30))\n",
    "d_4_8bas.add(Dropout(0.5))\n",
    "d_4_8bas.add(layers.Dense(units=100, activation='relu', input_dim=30))\n",
    "d_4_8bas.add(layers.Dense(units=100, activation='relu', input_dim=30))\n",
    "d_4_8bas.add(layers.Dense(units=100, activation='relu', input_dim=30))\n",
    "\n",
    "#Output Layer\n",
    "d_4_8bas.add(layers.Dense(units=1, activation='sigmoid'))\n",
    "\n",
    "d_4_8bas.compile(optimizer='rmsprop', loss='binary_crossentropy', metrics=['accuracy', keras.metrics.Precision(), keras.metrics.Recall()])"
   ]
  },
  {
   "cell_type": "code",
   "execution_count": 1204,
   "id": "7a4ce175-ea5c-46c0-8208-c07c9509f2cb",
   "metadata": {},
   "outputs": [],
   "source": [
    "d_4_8bas_hist = d_4_8bas.fit(x_train, y_train, epochs=100, batch_size=8, validation_data=(x_test, y_test), verbose=0)\n",
    "d_4_8bas_dict = d_4_8bas_hist.history"
   ]
  },
  {
   "cell_type": "markdown",
   "id": "43fc6ec3-748c-4901-a4a8-ae1c7d311f76",
   "metadata": {},
   "source": [
    "#### Dropout4 16BaS"
   ]
  },
  {
   "cell_type": "code",
   "execution_count": 1205,
   "id": "fa86010d-5b5c-486f-84f1-bab53558cc5f",
   "metadata": {},
   "outputs": [],
   "source": [
    "#Original code\n",
    "d_4_16bas = models.Sequential()\n",
    "\n",
    "#Input Layer\n",
    "d_4_16bas.add(layers.Dense(units=100, activation='relu', input_dim=30))\n",
    "d_4_16bas.add(Dropout(0.5))\n",
    "d_4_16bas.add(layers.Dense(units=100, activation='relu', input_dim=30))\n",
    "d_4_16bas.add(layers.Dense(units=100, activation='relu', input_dim=30))\n",
    "d_4_16bas.add(layers.Dense(units=100, activation='relu', input_dim=30))\n",
    "\n",
    "#Output Layer\n",
    "d_4_16bas.add(layers.Dense(units=1, activation='sigmoid'))\n",
    "\n",
    "d_4_16bas.compile(optimizer='rmsprop', loss='binary_crossentropy', metrics=['accuracy', keras.metrics.Precision(), keras.metrics.Recall()])"
   ]
  },
  {
   "cell_type": "code",
   "execution_count": 1206,
   "id": "b5709bb2-800e-4f6c-bc3d-7f1cb543ff2b",
   "metadata": {},
   "outputs": [],
   "source": [
    "d_4_16bas_hist = d_4_16bas.fit(x_train, y_train, epochs=100, batch_size=16, validation_data=(x_test, y_test), verbose=0)\n",
    "d_4_16bas_dict = d_4_16bas_hist.history"
   ]
  },
  {
   "cell_type": "markdown",
   "id": "f760c851-5e13-420f-8150-5d191b60ff8e",
   "metadata": {},
   "source": [
    "#### Dropout4 64BaS"
   ]
  },
  {
   "cell_type": "code",
   "execution_count": 1207,
   "id": "9524845b-6441-4af6-9412-5bf38c076031",
   "metadata": {},
   "outputs": [],
   "source": [
    "#Original code\n",
    "d_4_64bas = models.Sequential()\n",
    "\n",
    "#Input Layer\n",
    "d_4_64bas.add(layers.Dense(units=100, activation='relu', input_dim=30))\n",
    "d_4_64bas.add(Dropout(0.5))\n",
    "d_4_64bas.add(layers.Dense(units=100, activation='relu', input_dim=30))\n",
    "d_4_64bas.add(layers.Dense(units=100, activation='relu', input_dim=30))\n",
    "d_4_64bas.add(layers.Dense(units=100, activation='relu', input_dim=30))\n",
    "\n",
    "#Output Layer\n",
    "d_4_64bas.add(layers.Dense(units=1, activation='sigmoid'))\n",
    "\n",
    "d_4_64bas.compile(optimizer='rmsprop', loss='binary_crossentropy', metrics=['accuracy', keras.metrics.Precision(), keras.metrics.Recall()])"
   ]
  },
  {
   "cell_type": "code",
   "execution_count": 1208,
   "id": "5ae6bde6-997b-4a38-af37-49acf5e938df",
   "metadata": {},
   "outputs": [],
   "source": [
    "d_4_64bas_hist = d_4_64bas.fit(x_train, y_train, epochs=100, batch_size=64, validation_data=(x_test, y_test), verbose=0)\n",
    "d_4_64bas_dict = d_4_64bas_hist.history"
   ]
  },
  {
   "cell_type": "markdown",
   "id": "c8532691-3cb5-4d9c-9418-5629619e6f6d",
   "metadata": {},
   "source": [
    "#### Batch Size Experiment Analysis\n",
    "\n",
    "This sub-section covers the comparison and analysis of all 4 Batch Size models against the overfitted model."
   ]
  },
  {
   "cell_type": "code",
   "execution_count": 1209,
   "id": "01de2d07-8143-40d2-8e0b-3f3440db6641",
   "metadata": {},
   "outputs": [
    {
     "name": "stdout",
     "output_type": "stream",
     "text": [
      "Overfit 32 BaS  best in 1 categories: Val Recall Max\n",
      "Dropout4 8 BaS  best in 3 categories: Val Accuracy Max, Val Precision Max, Val Precision Last\n",
      "Dropout4 16 BaS  best in 2 categories: Val Recall Mean, Val Recall Last\n",
      "Dropout4 32 BaS  best in 18 categories: Loss Min, Loss Mean, Loss Last, Accuracy Max, Accuracy Mean, Accuracy Last, Precision Max, Precision Mean, Precision Last, Recall Max, Recall Mean, Recall Last, Val Loss Min, Val Loss Mean, Val Loss Last, Val Accuracy Mean, Val Accuracy Last, Val Precision Mean\n",
      "Dropout4 64 BaS  best in 0 categories: \n"
     ]
    }
   ],
   "source": [
    "#Original code\n",
    "dicts = [overfit_dict, d_4_8bas_dict, d_4_16bas_dict, dropout_4_hist_dict, d_4_64bas_dict]\n",
    "bas_info = compare_histories(dicts)\n",
    "model_labels = [\"Overfit 32 BaS\",\"Dropout4 8 BaS\", \"Dropout4 16 BaS\", \"Dropout4 32 BaS\", \"Dropout4 64 BaS\"]\n",
    "print_dict_results(bas_info,model_labels)"
   ]
  },
  {
   "cell_type": "markdown",
   "id": "1805b580-d812-46ce-9d73-4b987f6565ea",
   "metadata": {},
   "source": [
    "#### Batch Size Experiment Takeaway\n",
    "\n",
    "At either 16 or 32, the batch size is perfect as it covers the majority of mean validation values."
   ]
  },
  {
   "cell_type": "markdown",
   "id": "1887536b-2d8d-4eb0-b44e-126d613b563f",
   "metadata": {},
   "source": [
    "### Optimizer Learning rate\n",
    "\n",
    "Optimizer Learning rate covers how much of the model weights and biases are updated during training. Too little and the model does not learn at all, too much and the model can become chaotic. \n",
    "\n",
    "This experiment uses several learning rates to find a good range for the final model:\n",
    "1. 0.1\n",
    "2. 0.01\n",
    "3. 0.001\n",
    "4. 0.0001\n",
    "\n",
    "Once again, other parameters are kept identical to other models as this is examining only learning rate. These will be compared to the overfitted model."
   ]
  },
  {
   "cell_type": "markdown",
   "id": "09f94e16-01b4-4277-a1e0-acc374f8f61f",
   "metadata": {},
   "source": [
    "#### Model A - 0.1 Learning Rate"
   ]
  },
  {
   "cell_type": "code",
   "execution_count": 1210,
   "id": "37cd0b88-92e8-43e8-a6df-48e2dc6df097",
   "metadata": {},
   "outputs": [],
   "source": [
    "#Original code\n",
    "from keras.optimizers import RMSprop\n",
    "\n",
    "optimizer = RMSprop(learning_rate=0.1)\n",
    "\n",
    "mod_a = models.Sequential()\n",
    "\n",
    "#Input Layer\n",
    "mod_a.add(layers.Dense(units=100, activation='relu', input_dim=30))\n",
    "mod_a.add(Dropout(0.5))\n",
    "mod_a.add(layers.Dense(units=100, activation='relu', input_dim=30))\n",
    "mod_a.add(layers.Dense(units=100, activation='relu', input_dim=30))\n",
    "mod_a.add(layers.Dense(units=100, activation='relu', input_dim=30))\n",
    "\n",
    "#Output Layer\n",
    "mod_a.add(layers.Dense(units=1, activation='sigmoid'))\n",
    "\n",
    "mod_a.compile(optimizer=optimizer, loss='binary_crossentropy', metrics=['accuracy', keras.metrics.Precision(), keras.metrics.Recall()])"
   ]
  },
  {
   "cell_type": "code",
   "execution_count": 1211,
   "id": "b17ccf0e-c219-4af6-8512-cd5ba105516e",
   "metadata": {},
   "outputs": [],
   "source": [
    "mod_a_hist = mod_a.fit(x_train, y_train, epochs=100, batch_size=32, validation_data=(x_test, y_test), verbose=0)\n",
    "mod_a_dict = mod_a_hist.history"
   ]
  },
  {
   "cell_type": "markdown",
   "id": "8fbda618-34e8-4e20-b192-ffcc6340e00f",
   "metadata": {},
   "source": [
    "#### Model B - 0.01 Learning Rate"
   ]
  },
  {
   "cell_type": "code",
   "execution_count": 1212,
   "id": "384fa872-0505-43fd-97d8-47a22e5b81b6",
   "metadata": {},
   "outputs": [],
   "source": [
    "#Original code\n",
    "optimizer = RMSprop(learning_rate=0.01)\n",
    "\n",
    "mod_b = models.Sequential()\n",
    "\n",
    "#Input Layer\n",
    "mod_b.add(layers.Dense(units=100, activation='relu', input_dim=30))\n",
    "mod_b.add(Dropout(0.5))\n",
    "mod_b.add(layers.Dense(units=100, activation='relu', input_dim=30))\n",
    "mod_b.add(layers.Dense(units=100, activation='relu', input_dim=30))\n",
    "mod_b.add(layers.Dense(units=100, activation='relu', input_dim=30))\n",
    "\n",
    "#Output Layer\n",
    "mod_b.add(layers.Dense(units=1, activation='sigmoid'))\n",
    "\n",
    "mod_b.compile(optimizer=optimizer, loss='binary_crossentropy', metrics=['accuracy', keras.metrics.Precision(), keras.metrics.Recall()])"
   ]
  },
  {
   "cell_type": "code",
   "execution_count": 1213,
   "id": "075cefda-1a25-4914-bbf5-e20dfaf6058f",
   "metadata": {},
   "outputs": [],
   "source": [
    "mod_b_hist = mod_b.fit(x_train, y_train, epochs=100, batch_size=32, validation_data=(x_test, y_test), verbose=0)\n",
    "mod_b_dict = mod_b_hist.history"
   ]
  },
  {
   "cell_type": "markdown",
   "id": "e3a139d5-43a0-43a2-81b6-2a1bc8dc15dc",
   "metadata": {},
   "source": [
    "#### Model C - 0.001 Learning Rate"
   ]
  },
  {
   "cell_type": "code",
   "execution_count": 1214,
   "id": "f9e701a3-7059-4afb-9822-fe2815c244bd",
   "metadata": {},
   "outputs": [],
   "source": [
    "#Original code\n",
    "optimizer = RMSprop(learning_rate=0.001)\n",
    "\n",
    "mod_c = models.Sequential()\n",
    "\n",
    "#Input Layer\n",
    "mod_c.add(layers.Dense(units=100, activation='relu', input_dim=30))\n",
    "mod_c.add(Dropout(0.5))\n",
    "mod_c.add(layers.Dense(units=100, activation='relu', input_dim=30))\n",
    "mod_c.add(layers.Dense(units=100, activation='relu', input_dim=30))\n",
    "mod_c.add(layers.Dense(units=100, activation='relu', input_dim=30))\n",
    "\n",
    "#Output Layer\n",
    "mod_c.add(layers.Dense(units=1, activation='sigmoid'))\n",
    "\n",
    "mod_c.compile(optimizer=optimizer, loss='binary_crossentropy', metrics=['accuracy', keras.metrics.Precision(), keras.metrics.Recall()])"
   ]
  },
  {
   "cell_type": "code",
   "execution_count": 1215,
   "id": "816809ab-444f-407e-b9b9-0c0f10208c97",
   "metadata": {},
   "outputs": [],
   "source": [
    "mod_c_hist = mod_c.fit(x_train, y_train, epochs=100, batch_size=32, validation_data=(x_test, y_test), verbose=0)\n",
    "mod_c_dict = mod_c_hist.history"
   ]
  },
  {
   "cell_type": "markdown",
   "id": "96ffcb4d-5aec-4141-998b-9ef4f9356b41",
   "metadata": {},
   "source": [
    "#### Model D - 0.0001 Learning Rate"
   ]
  },
  {
   "cell_type": "code",
   "execution_count": 1216,
   "id": "0757ba36-5232-41f1-ad15-422f46804d32",
   "metadata": {},
   "outputs": [],
   "source": [
    "#Original code\n",
    "optimizer = RMSprop(learning_rate=0.0001)\n",
    "\n",
    "mod_d = models.Sequential()\n",
    "\n",
    "#Input Layer\n",
    "mod_d.add(layers.Dense(units=100, activation='relu', input_dim=30))\n",
    "mod_d.add(Dropout(0.5))\n",
    "mod_d.add(layers.Dense(units=100, activation='relu', input_dim=30))\n",
    "mod_d.add(layers.Dense(units=100, activation='relu', input_dim=30))\n",
    "mod_d.add(layers.Dense(units=100, activation='relu', input_dim=30))\n",
    "\n",
    "#Output Layer\n",
    "mod_d.add(layers.Dense(units=1, activation='sigmoid'))\n",
    "\n",
    "mod_d.compile(optimizer=optimizer, loss='binary_crossentropy', metrics=['accuracy', keras.metrics.Precision(), keras.metrics.Recall()])"
   ]
  },
  {
   "cell_type": "code",
   "execution_count": 1217,
   "id": "c6204103-5599-42e7-abde-83565e535c58",
   "metadata": {},
   "outputs": [],
   "source": [
    "mod_d_hist = mod_d.fit(x_train, y_train, epochs=100, batch_size=32, validation_data=(x_test, y_test), verbose=0)\n",
    "mod_d_dict = mod_d_hist.history"
   ]
  },
  {
   "cell_type": "markdown",
   "id": "27e8123d-8182-4438-a153-6c3e084443f5",
   "metadata": {},
   "source": [
    "#### Optimizer Learning Rate Experiment Analysis\n",
    "\n",
    "this sub-section compares and anlayses all learning rate models against the overfitted model.\n"
   ]
  },
  {
   "cell_type": "code",
   "execution_count": 1218,
   "id": "1b14f018-379b-4895-8aec-5f0559ad3c1b",
   "metadata": {},
   "outputs": [
    {
     "name": "stdout",
     "output_type": "stream",
     "text": [
      "Overfit 0.001 rate  best in 1 categories: Val Recall Max\n",
      "Dropout4 0.1 rate  best in 0 categories: \n",
      "Dropout4 0.01 rate  best in 8 categories: Accuracy Last, Precision Last, Recall Last, Val Loss Min, Val Loss Last, Val Accuracy Max, Val Precision Max, Val Recall Last\n",
      "Dropout4 0.001 rate  best in 14 categories: Loss Min, Loss Mean, Loss Last, Accuracy Max, Accuracy Mean, Precision Max, Precision Mean, Recall Max, Recall Mean, Val Loss Mean, Val Accuracy Mean, Val Accuracy Last, Val Precision Mean, Val Precision Last\n",
      "Dropout4 0.0001 rate  best in 1 categories: Val Recall Mean\n"
     ]
    }
   ],
   "source": [
    "#Original code\n",
    "dicts = [overfit_dict, mod_a_dict, mod_b_dict, mod_c_dict, mod_d_dict]\n",
    "lr_info = compare_histories(dicts)\n",
    "model_labels = [\"Overfit 0.001 rate\",\"Dropout4 0.1 rate\", \"Dropout4 0.01 rate\", \"Dropout4 0.001 rate\", \"Dropout4 0.0001 rate\"]\n",
    "print_dict_results(lr_info,model_labels)"
   ]
  },
  {
   "cell_type": "markdown",
   "id": "1f57a558-93eb-4688-9844-798b271d1298",
   "metadata": {},
   "source": [
    "### Optimizer Learning Rate Experiment Takeaways\n",
    "\n",
    "The only significant learning rate is 0.001, which is the default for \"rmsprop\". Although 0.01 offers a good set of last and max values, the lack of meaen values leads one to believe it is making the model more chaotic. Therefore it will be the one used moving forward.\n"
   ]
  },
  {
   "cell_type": "markdown",
   "id": "5d989a7f-9c45-4456-8f3e-ec620c60eb1a",
   "metadata": {},
   "source": [
    "## Final Model\n",
    "\n",
    "After significant testing on Dropout4 these are the appropriate ranges and/or values for each hyperparameter:\n",
    "1. Epochs: 75-150\n",
    "2. Units Per Layer: 64/128\n",
    "3. Batch Size: 16/32\n",
    "4. Optimizer Learning Rate - 0.001\n",
    "\n",
    "This final experiment will try to optimise the model the most using these values comparing it to the overfitted one and the unmodified Dropout4.\n",
    "These are the models:\n",
    "| Model Name | Epochs | Batch Size | Units Per Layer |\n",
    "|------------|--------|------------|-----------------|\n",
    "| Dropout4Lite | 75 | 16 | 64 |\n",
    "| Dropout4Medium | 100 | 32 | 64 |\n",
    "| Dropout4Heavy | 120 | 16 | 128 |\n",
    "| Dropout4Max | 160 | 32 | 128 |"
   ]
  },
  {
   "cell_type": "markdown",
   "id": "73ea45c8-6df2-460a-bc5f-32282147571e",
   "metadata": {},
   "source": [
    "### Dropout4 Lite"
   ]
  },
  {
   "cell_type": "code",
   "execution_count": 1219,
   "id": "5bedac0a-b451-4719-a144-cfdfcdde4d33",
   "metadata": {},
   "outputs": [],
   "source": [
    "#Original code\n",
    "optimizer = RMSprop(learning_rate=0.001)\n",
    "epochs = 75\n",
    "ba_s = 16\n",
    "upl = 64\n",
    "\n",
    "\n",
    "d4_lite = models.Sequential()\n",
    "\n",
    "#Input Layer\n",
    "d4_lite.add(layers.Dense(units=upl, activation='relu', input_dim=30))\n",
    "d4_lite.add(Dropout(0.5))\n",
    "d4_lite.add(layers.Dense(units=upl, activation='relu', input_dim=30))\n",
    "d4_lite.add(layers.Dense(units=upl, activation='relu', input_dim=30))\n",
    "d4_lite.add(layers.Dense(units=upl, activation='relu', input_dim=30))\n",
    "\n",
    "#Output Layer\n",
    "d4_lite.add(layers.Dense(units=1, activation='sigmoid'))\n",
    "\n",
    "d4_lite.compile(optimizer=optimizer, loss='binary_crossentropy', metrics=['accuracy', keras.metrics.Precision(), keras.metrics.Recall()])"
   ]
  },
  {
   "cell_type": "code",
   "execution_count": 1220,
   "id": "e9cbe602-1ef8-43d4-9038-79fc6d35f94a",
   "metadata": {},
   "outputs": [],
   "source": [
    "d4_lite_hist = d4_lite.fit(x_train, y_train, epochs=epochs, batch_size=ba_s, validation_data=(x_test, y_test), verbose=0)\n",
    "d4_lite_dict = d4_lite_hist.history"
   ]
  },
  {
   "cell_type": "markdown",
   "id": "1e2e82ae-4505-46e8-a671-7a7c6fb57372",
   "metadata": {},
   "source": [
    "### Dropout4 Medium"
   ]
  },
  {
   "cell_type": "code",
   "execution_count": 1221,
   "id": "8ae7a903-7555-4097-b5ea-fd4efbfd9889",
   "metadata": {},
   "outputs": [],
   "source": [
    "#Original code\n",
    "optimizer = RMSprop(learning_rate=0.001)\n",
    "epochs = 100\n",
    "ba_s = 32\n",
    "upl = 64\n",
    "\n",
    "\n",
    "d4_med = models.Sequential()\n",
    "\n",
    "#Input Layer\n",
    "d4_med.add(layers.Dense(units=upl, activation='relu', input_dim=30))\n",
    "d4_med.add(Dropout(0.5))\n",
    "d4_med.add(layers.Dense(units=upl, activation='relu', input_dim=30))\n",
    "d4_med.add(layers.Dense(units=upl, activation='relu', input_dim=30))\n",
    "d4_med.add(layers.Dense(units=upl, activation='relu', input_dim=30))\n",
    "\n",
    "#Output Layer\n",
    "d4_med.add(layers.Dense(units=1, activation='sigmoid'))\n",
    "\n",
    "d4_med.compile(optimizer=optimizer, loss='binary_crossentropy', metrics=['accuracy', keras.metrics.Precision(), keras.metrics.Recall()])"
   ]
  },
  {
   "cell_type": "code",
   "execution_count": 1222,
   "id": "cdba5cd9-81d6-4f82-bdc0-522d6e1b6d96",
   "metadata": {},
   "outputs": [],
   "source": [
    "d4_med_hist = d4_med.fit(x_train, y_train, epochs=epochs, batch_size=ba_s, validation_data=(x_test, y_test), verbose=0)\n",
    "d4_med_dict = d4_med_hist.history"
   ]
  },
  {
   "cell_type": "markdown",
   "id": "e94b64b7-4147-45b7-865f-6331ef47fdc8",
   "metadata": {},
   "source": [
    "### Dropout4 Heavy"
   ]
  },
  {
   "cell_type": "code",
   "execution_count": 1223,
   "id": "173f30ba-254c-4342-a80b-b78ef998cab9",
   "metadata": {},
   "outputs": [],
   "source": [
    "#Original code\n",
    "optimizer = RMSprop(learning_rate=0.001)\n",
    "epochs = 120\n",
    "ba_s = 16\n",
    "upl = 128\n",
    "\n",
    "\n",
    "d4_heavy = models.Sequential()\n",
    "\n",
    "#Input Layer\n",
    "d4_heavy.add(layers.Dense(units=upl, activation='relu', input_dim=30))\n",
    "d4_heavy.add(Dropout(0.5))\n",
    "d4_heavy.add(layers.Dense(units=upl, activation='relu', input_dim=30))\n",
    "d4_heavy.add(layers.Dense(units=upl, activation='relu', input_dim=30))\n",
    "d4_heavy.add(layers.Dense(units=upl, activation='relu', input_dim=30))\n",
    "\n",
    "#Output Layer\n",
    "d4_heavy.add(layers.Dense(units=1, activation='sigmoid'))\n",
    "\n",
    "d4_heavy.compile(optimizer=optimizer, loss='binary_crossentropy', metrics=['accuracy', keras.metrics.Precision(), keras.metrics.Recall()])"
   ]
  },
  {
   "cell_type": "code",
   "execution_count": 1224,
   "id": "effaa681-d7c6-4153-928d-9c56bb01c0bf",
   "metadata": {},
   "outputs": [],
   "source": [
    "d4_heavy_hist = d4_heavy.fit(x_train, y_train, epochs=epochs, batch_size=ba_s, validation_data=(x_test, y_test), verbose=0)\n",
    "d4_heavy_dict = d4_heavy_hist.history"
   ]
  },
  {
   "cell_type": "markdown",
   "id": "44541f86-e282-4141-8416-86fe630e8b51",
   "metadata": {},
   "source": [
    "### Dropout4 Max"
   ]
  },
  {
   "cell_type": "code",
   "execution_count": 1225,
   "id": "b63d3869-a883-4f23-9b76-195cc4bee3c5",
   "metadata": {},
   "outputs": [],
   "source": [
    "#Original code\n",
    "optimizer = RMSprop(learning_rate=0.001)\n",
    "epochs = 160\n",
    "ba_s = 32\n",
    "upl = 128\n",
    "\n",
    "\n",
    "d4_max = models.Sequential()\n",
    "\n",
    "#Input Layer\n",
    "d4_max.add(layers.Dense(units=upl, activation='relu', input_dim=30))\n",
    "d4_max.add(Dropout(0.5))\n",
    "d4_max.add(layers.Dense(units=upl, activation='relu', input_dim=30))\n",
    "d4_max.add(layers.Dense(units=upl, activation='relu', input_dim=30))\n",
    "d4_max.add(layers.Dense(units=upl, activation='relu', input_dim=30))\n",
    "\n",
    "#Output Layer\n",
    "d4_max.add(layers.Dense(units=1, activation='sigmoid'))\n",
    "\n",
    "d4_max.compile(optimizer=optimizer, loss='binary_crossentropy', metrics=['accuracy', keras.metrics.Precision(), keras.metrics.Recall()])"
   ]
  },
  {
   "cell_type": "code",
   "execution_count": 1226,
   "id": "7963b797-0fb8-462c-aa20-4fbd92a46cb8",
   "metadata": {},
   "outputs": [],
   "source": [
    "d4_max_hist = d4_max.fit(x_train, y_train, epochs=epochs, batch_size=ba_s, validation_data=(x_test, y_test), verbose=0)\n",
    "d4_max_dict = d4_max_hist.history"
   ]
  },
  {
   "cell_type": "markdown",
   "id": "0c8e3d1c-a15b-4980-a277-5c589cabeb8c",
   "metadata": {},
   "source": [
    "### Final Models Analysis\n",
    "\n",
    "Thee 4 models are compared and analysed in this final sub-section of this project:"
   ]
  },
  {
   "cell_type": "code",
   "execution_count": 1228,
   "id": "4a2b4ac9-3f7f-444b-b33d-42fddb9d965e",
   "metadata": {},
   "outputs": [
    {
     "name": "stdout",
     "output_type": "stream",
     "text": [
      "OF  best in 1 categories: Val Recall Max\n",
      "Dropout4 Lite  best in 3 categories: Val Accuracy Last, Val Precision Max, Val Precision Last\n",
      "Dropout4 Medium  best in 4 categories: Precision Last, Val Accuracy Max, Val Precision Mean, Val Recall Last\n",
      "Dropout4 Heavy  best in 6 categories: Recall Max, Val Loss Min, Val Loss Mean, Val Loss Last, Val Accuracy Mean, Val Recall Mean\n",
      "Dropout4 Max  best in 10 categories: Loss Min, Loss Mean, Loss Last, Accuracy Max, Accuracy Mean, Accuracy Last, Precision Max, Precision Mean, Recall Mean, Recall Last\n"
     ]
    }
   ],
   "source": [
    "#Original code\n",
    "dicts = [overfit_dict, d4_lite_dict, d4_med_dict, d4_heavy_dict, d4_max_dict]\n",
    "lr_info = compare_histories(dicts)\n",
    "model_labels = [\"OF\", \"Dropout4 Lite\", \"Dropout4 Medium\", \"Dropout4 Heavy\", \"Dropout4 Max\"]\n",
    "print_dict_results(lr_info,model_labels)"
   ]
  },
  {
   "cell_type": "code",
   "execution_count": 1240,
   "id": "cb57f2a0-d717-48e3-830a-f0366419ded8",
   "metadata": {
    "scrolled": true
   },
   "outputs": [
    {
     "name": "stdout",
     "output_type": "stream",
     "text": [
      "overfit: {'Loss Min': [0.35573810338974, 'Dict0'], 'Loss Mean': [0.5214887224137783, 'Dict0'], 'Loss Last': [0.35573810338974, 'Dict0'], 'Accuracy Max': [0.9186813235282898, 'Dict0'], 'Accuracy Mean': [0.8211538568139076, 'Dict0'], 'Accuracy Last': [0.9186813235282898, 'Dict0'], 'Precision Max': [0.8860103487968445, 'Dict0'], 'Precision Mean': [0.7406222373247147, 'Dict0'], 'Precision Last': [0.8860103487968445, 'Dict0'], 'Recall Max': [0.9569892287254333, 'Dict0'], 'Recall Mean': [0.782930102199316, 'Dict0'], 'Recall Last': [0.9193548560142517, 'Dict0'], 'Val Loss Min': [0.35283711552619934, 'Dict0'], 'Val Loss Mean': [0.5079277157783508, 'Dict0'], 'Val Loss Last': [0.35283711552619934, 'Dict0'], 'Val Accuracy Max': [0.8947368264198303, 'Dict0'], 'Val Accuracy Mean': [0.8234649151563644, 'Dict0'], 'Val Accuracy Last': [0.8947368264198303, 'Dict0'], 'Val Precision Max': [0.6944444179534912, 'Dict0'], 'Val Precision Mean': [0.5703629814088345, 'Dict0'], 'Val Precision Last': [0.6944444179534912, 'Dict0'], 'Val Recall Max': [1.0, 'Dict0'], 'Val Recall Mean': [0.8557692104950547, 'Dict0'], 'Val Recall Last': [0.9615384340286255, 'Dict0']}\n",
      "--------------------------------\n",
      "lite: {'Loss Min': [0.05247190222144127, 'Dict0'], 'Loss Mean': [0.11896682128310204, 'Dict0'], 'Loss Last': [0.07398837804794312, 'Dict0'], 'Accuracy Max': [0.9824175834655762, 'Dict0'], 'Accuracy Mean': [0.953963372707367, 'Dict0'], 'Accuracy Last': [0.9714285731315613, 'Dict0'], 'Precision Max': [0.9890109896659851, 'Dict0'], 'Precision Mean': [0.9501490624745687, 'Dict0'], 'Precision Last': [0.9726775884628296, 'Dict0'], 'Recall Max': [0.9731183052062988, 'Dict0'], 'Recall Mean': [0.9361290272076924, 'Dict0'], 'Recall Last': [0.9569892287254333, 'Dict0'], 'Val Loss Min': [0.04618063569068909, 'Dict0'], 'Val Loss Mean': [0.08392239938179652, 'Dict0'], 'Val Loss Last': [0.04989519342780113, 'Dict0'], 'Val Accuracy Max': [0.9912280440330505, 'Dict0'], 'Val Accuracy Mean': [0.9673684175809224, 'Dict0'], 'Val Accuracy Last': [0.9912280440330505, 'Dict0'], 'Val Precision Max': [1.0, 'Dict0'], 'Val Precision Mean': [0.9303760242462158, 'Dict0'], 'Val Precision Last': [1.0, 'Dict0'], 'Val Recall Max': [1.0, 'Dict0'], 'Val Recall Mean': [0.9384615214665731, 'Dict0'], 'Val Recall Last': [0.9615384340286255, 'Dict0']}\n",
      "--------------------------------\n",
      "med: {'Loss Min': [0.05030796676874161, 'Dict0'], 'Loss Mean': [0.12033746369183064, 'Dict0'], 'Loss Last': [0.058540232479572296, 'Dict0'], 'Accuracy Max': [0.9846153855323792, 'Dict0'], 'Accuracy Mean': [0.9525714313983917, 'Dict0'], 'Accuracy Last': [0.9780219793319702, 'Dict0'], 'Precision Max': [0.994413435459137, 'Dict0'], 'Precision Mean': [0.9499227863550186, 'Dict0'], 'Precision Last': [0.9835164546966553, 'Dict0'], 'Recall Max': [0.9784946441650391, 'Dict0'], 'Recall Mean': [0.9317741885781288, 'Dict0'], 'Recall Last': [0.9623655676841736, 'Dict0'], 'Val Loss Min': [0.022644130513072014, 'Dict0'], 'Val Loss Mean': [0.07660024788230657, 'Dict0'], 'Val Loss Last': [0.03164995089173317, 'Dict0'], 'Val Accuracy Max': [1.0, 'Dict0'], 'Val Accuracy Mean': [0.9728070110082626, 'Dict0'], 'Val Accuracy Last': [0.9912280440330505, 'Dict0'], 'Val Precision Max': [1.0, 'Dict0'], 'Val Precision Mean': [0.9552939599752426, 'Dict0'], 'Val Precision Last': [0.9629629850387573, 'Dict0'], 'Val Recall Max': [1.0, 'Dict0'], 'Val Recall Mean': [0.9326922982931137, 'Dict0'], 'Val Recall Last': [1.0, 'Dict0']}\n",
      "--------------------------------\n",
      "heavy: {'Loss Min': [0.03496716916561127, 'Dict0'], 'Loss Mean': [0.08614096129313112, 'Dict0'], 'Loss Last': [0.06136125326156616, 'Dict0'], 'Accuracy Max': [0.9912087917327881, 'Dict0'], 'Accuracy Mean': [0.9672344341874123, 'Dict0'], 'Accuracy Last': [0.9780219793319702, 'Dict0'], 'Precision Max': [0.9944444298744202, 'Dict0'], 'Precision Mean': [0.965403160949548, 'Dict0'], 'Precision Last': [0.9835164546966553, 'Dict0'], 'Recall Max': [0.9892473220825195, 'Dict0'], 'Recall Mean': [0.9548387035727501, 'Dict0'], 'Recall Last': [0.9623655676841736, 'Dict0'], 'Val Loss Min': [0.015574966557323933, 'Dict0'], 'Val Loss Mean': [0.06082790148599694, 'Dict0'], 'Val Loss Last': [0.01979733817279339, 'Dict0'], 'Val Accuracy Max': [1.0, 'Dict0'], 'Val Accuracy Mean': [0.9783625667293866, 'Dict0'], 'Val Accuracy Last': [0.9912280440330505, 'Dict0'], 'Val Precision Max': [1.0, 'Dict0'], 'Val Precision Mean': [0.9547047103444736, 'Dict0'], 'Val Precision Last': [1.0, 'Dict0'], 'Val Recall Max': [1.0, 'Dict0'], 'Val Recall Mean': [0.9618589679400126, 'Dict0'], 'Val Recall Last': [0.9615384340286255, 'Dict0']}\n",
      "--------------------------------\n",
      "max: {'Loss Min': [0.0234065018594265, 'Dict0'], 'Loss Mean': [0.07725250007351861, 'Dict0'], 'Loss Last': [0.0407336987555027, 'Dict0'], 'Accuracy Max': [0.9934065937995911, 'Dict0'], 'Accuracy Mean': [0.9699450567364692, 'Dict0'], 'Accuracy Last': [0.9802197813987732, 'Dict0'], 'Precision Max': [1.0, 'Dict0'], 'Precision Mean': [0.969996453076601, 'Dict0'], 'Precision Last': [0.9732620120048523, 'Dict0'], 'Recall Max': [0.9892473220825195, 'Dict0'], 'Recall Mean': [0.9576948888599872, 'Dict0'], 'Recall Last': [0.9784946441650391, 'Dict0'], 'Val Loss Min': [0.021221796050667763, 'Dict0'], 'Val Loss Mean': [0.06528125542681665, 'Dict0'], 'Val Loss Last': [0.03130955249071121, 'Dict0'], 'Val Accuracy Max': [1.0, 'Dict0'], 'Val Accuracy Mean': [0.9761513087898492, 'Dict0'], 'Val Accuracy Last': [0.9824561476707458, 'Dict0'], 'Val Precision Max': [1.0, 'Dict0'], 'Val Precision Mean': [0.9489132069051266, 'Dict0'], 'Val Precision Last': [0.9285714030265808, 'Dict0'], 'Val Recall Max': [1.0, 'Dict0'], 'Val Recall Mean': [0.9552884507924319, 'Dict0'], 'Val Recall Last': [1.0, 'Dict0']}\n"
     ]
    }
   ],
   "source": [
    "#Original Code: Print Values of lr info to use in table\n",
    "print(\"overfit:\",compare_histories([overfit_dict]))\n",
    "print(\"--------------------------------\")\n",
    "print(\"lite:\",compare_histories([d4_lite_dict]))\n",
    "print(\"--------------------------------\")\n",
    "print(\"med:\",compare_histories([d4_med_dict]))\n",
    "print(\"--------------------------------\")\n",
    "print(\"heavy:\",compare_histories([d4_heavy_dict]))\n",
    "print(\"--------------------------------\")\n",
    "print(\"max:\",compare_histories([d4_max_dict]))"
   ]
  },
  {
   "cell_type": "markdown",
   "id": "7d3efae4-970f-4e96-a298-3a9eae7013d3",
   "metadata": {},
   "source": [
    "## Final Models Best Metrics\n",
    "| Metric          | Model Name      | Value      |\n",
    "|-----------------|-----------------|------------|\n",
    "| Loss Min        | Dropout4 Max    | 0.023      |\n",
    "| Loss Mean       | Dropout4 Max    | 0.077      |\n",
    "| Loss Last       | Dropout4 Max    | 0.041      |\n",
    "| Accuracy Max    | Dropout4 Max    | 0.993      |\n",
    "| Accuracy Mean   | Dropout4 Max    | 0.970      |\n",
    "| Accuracy Last   | Dropout4 Max    | 0.980      |\n",
    "| Precision Max   | Dropout4 Heavy  | 1.000      |\n",
    "| Precision Mean  | Dropout4 Max    | 0.970      |\n",
    "| Precision Last  | Dropout4 Medium | 0.984      |\n",
    "| Recall Max      | Dropout4 Heavy  | 0.989      |\n",
    "| Recall Mean     | Dropout4 Max    | 0.958      |\n",
    "| Recall Last     | Dropout4 Max    | 0.978      |\n",
    "| Val Loss Min    | Dropout4 Heavy  | 0.016      |\n",
    "| Val Loss Mean   | Dropout4 Heavy  | 0.061      |\n",
    "| Val Loss Last   | Dropout4 Heavy  | 0.020      |\n",
    "| Val Accuracy Max| Dropout4 Lite   | 1.000      |\n",
    "| Val Accuracy Mean| Dropout4 Heavy | 0.978      |\n",
    "| Val Accuracy Last| Dropout4 Lite  | 0.991      |\n",
    "| Val Precision Max| Dropout4 Lite   | 1.000      |\n",
    "| Val Precision Mean| Dropout4 Medium| 0.955      |\n",
    "| Val Precision Last| Dropout4 Lite  | 1.000      |\n",
    "| Val Recall Max  | Overfitted      | 1.000      |\n",
    "| Val Recall Mean | Dropout4 Heavy  | 0.962      |\n",
    "| Val Recall Last | Dropout4 Max    | 1.000      |\n",
    "\n",
    "## Final Models All Metrics\n",
    "| Metric          | Overfitted      | Dropout4 Lite    | Dropout4 Medium  | Dropout4 Heavy   | Dropout4 Max     |\n",
    "|-----------------|-----------------|------------------|------------------|------------------|------------------|\n",
    "| Loss Min        | 0.356           | 0.052            | 0.050            | 0.035            | 0.023            |\n",
    "| Loss Mean       | 0.521           | 0.119            | 0.120            | 0.086            | 0.077            |\n",
    "| Loss Last       | 0.356           | 0.074            | 0.059            | 0.061            | 0.041            |\n",
    "| Accuracy Max    | 0.919           | 0.982            | 0.985            | 0.991            | 0.993            |\n",
    "| Accuracy Mean   | 0.821           | 0.954            | 0.953            | 0.967            | 0.970            |\n",
    "| Accuracy Last   | 0.919           | 0.971            | 0.978            | 0.978            | 0.980            |\n",
    "| Precision Max   | 0.886           | 0.989            | 0.994            | 0.994            | 1.000            |\n",
    "| Precision Mean  | 0.741           | 0.950            | 0.950            | 0.965            | 0.970            |\n",
    "| Precision Last  | 0.886           | 0.973            | 0.984            | 0.984            | 0.973            |\n",
    "| Recall Max      | 0.957           | 0.973            | 0.978            | 0.989            | 0.989            |\n",
    "| Recall Mean     | 0.783           | 0.936            | 0.932            | 0.955            | 0.958            |\n",
    "| Recall Last     | 0.919           | 0.957            | 0.962            | 0.962            | 0.978            |\n",
    "| Val Loss Min    | 0.353           | 0.046            | 0.023            | 0.016            | 0.021            |\n",
    "| Val Loss Mean   | 0.508           | 0.084            | 0.077            | 0.061            | 0.065            |\n",
    "| Val Loss Last   | 0.353           | 0.050            | 0.032            | 0.020            | 0.031            |\n",
    "| Val Accuracy Max| 0.895           | 0.991            | 1.000            | 1.000            | 1.000            |\n",
    "| Val Accuracy Mean| 0.823           | 0.967            | 0.973            | 0.978            | 0.976            |\n",
    "| Val Accuracy Last| 0.895           | 0.991            | 0.991            | 0.991            | 0.982            |\n",
    "| Val Precision Max| 0.694          | 1.000            | 1.000            | 1.000            | 1.000            |\n",
    "| Val Precision Mean| 0.570         | 0.930            | 0.955            | 0.955            | 0.949            |\n",
    "| Val Precision Last| 0.694         | 1.000            | 0.963            | 1.000            | 0.929            |\n",
    "| Val Recall Max  | 1.000           | 1.000            | 1.000            | 1.000            | 1.000            |\n",
    "| Val Recall Mean | 0.856           | 0.938            | 0.933            | 0.962            | 0.955            |\n",
    "| Val Recall Last | 0.962           | 0.962            | 1.000            | 0.962            | 1.000            |\n"
   ]
  },
  {
   "cell_type": "markdown",
   "id": "2557076f-fc13-4e6d-9f98-4243f212dca0",
   "metadata": {},
   "source": [
    "# Evaluation\n",
    "\n",
    "From analyzing the code on the final tests, the model named \"Dropout4 Heavy\", formalized as a model of 4 dense layers - 1 input ReLU activation layer with 0.5 Dropout and 128 units per layer, 2 RelU activation layers with 128 units per layer, and 1 output sigmoid activation layer with 1 unit per layer, compiled with an RMSProp optimizer working at the default learning rate of 0.001, a binary cross entropy loss function, and accuracy, precision and recall metrics, trained for 120 epochs at batch size 16, performed best on validation tests.\n",
    "At Validation Metrics of:\n",
    "\n",
    "| Metric | Final Model | Baseline | Overfitted RMS | \n",
    "| ------ | ----------- | -------- | -------------- |\n",
    "| Val Mean Loss | 0.061 | 0.288 | 0.508 | \n",
    "| Val Mean Accuracy | 0.978 | 0.848 | 0.823 | \n",
    "| Val Mean Precision | 0.955 | 0.654 | 0.570 | \n",
    "| Val Mean Recall | 0.962 | 0.962 | 0.856 | \n",
    "\n",
    "As its loss, precision, and accuracy are marginally greater than the established baseline and the overfitted model, this final model is deemed successful.\n",
    "\n",
    "## Verdict:\n",
    "\n",
    "At 97.8% mean accuracy, 6.1% mean loss(error), 95.5% mean precision at 96.2% mean recall - the final model is precise and accurate. It beats even some models seen online using the same dataset. In the field of real life applications in modern medicine, however, it would not serve as a diagnosis tool, realistically. It is a splendid candidate for an assistant tool. Areas for improvement could be feature engineering.\t0.962\t0.962"
   ]
  },
  {
   "cell_type": "markdown",
   "id": "ad971394-bbca-4db6-b5d3-7a571825a592",
   "metadata": {},
   "source": [
    "### Final Model Loss"
   ]
  },
  {
   "cell_type": "code",
   "execution_count": 1242,
   "id": "12913a97-952d-4408-88f4-e0dea43bc7c1",
   "metadata": {},
   "outputs": [
    {
     "data": {
      "image/png": "[encoded data removed]",
      "text/plain": [
       "<Figure size 640x480 with 1 Axes>"
      ]
     },
     "metadata": {},
     "output_type": "display_data"
    }
   ],
   "source": [
    "#Most of this code is not mine, I have only inserted the names of my variables.\n",
    "#Code referenced from: hollet F., Deep Learning With Python (2017), Chapter 3.4.4, Listing 3.9 Plotting the training and validation lossloss_values = history_dict['loss']\n",
    "plt.clf()\n",
    "loss_values = d4_heavy_dict[\"loss\"]\n",
    "val_loss_values = d4_heavy_dict['val_loss']\n",
    "\n",
    "epochs = range(1, len(d4_heavy_dict[\"accuracy\"]) + 1)\n",
    "plt.plot(epochs, loss_values, 'bo', label='Training loss')\n",
    "plt.plot(epochs, val_loss_values, 'b', label='Validation loss')\n",
    "plt.title('Training and validation loss')\n",
    "plt.xlabel('Epochs')\n",
    "plt.ylabel('Loss')\n",
    "plt.legend()\n",
    "plt.show()"
   ]
  },
  {
   "cell_type": "markdown",
   "id": "3ed15647-b7b2-4467-9ab6-805e4a90b89b",
   "metadata": {},
   "source": [
    "### Final Model Accuracy"
   ]
  },
  {
   "cell_type": "code",
   "execution_count": 1244,
   "id": "d5b93aa7-b5fa-4ef8-b9c8-8c0e6367441d",
   "metadata": {},
   "outputs": [
    {
     "data": {
      "image/png": "[encoded data removed]",
      "text/plain": [
       "<Figure size 640x480 with 1 Axes>"
      ]
     },
     "metadata": {},
     "output_type": "display_data"
    }
   ],
   "source": [
    "#Most of this code is not mine, I have only inserted the names of my variables.\n",
    "#Code referenced from: hollet F., Deep Learning With Python (2017), Chapter 3.4.4, Listing 3.9 Plotting the training and validation loss\n",
    "plt.clf()\n",
    "acc_values = d4_heavy_dict['accuracy']\n",
    "val_acc_values = d4_heavy_dict['val_accuracy']\n",
    "\n",
    "plt.title('Training and Validation Accuracy')\n",
    "plt.plot(epochs, acc_values, 'bo', label='Training Accuracy')\n",
    "plt.plot(epochs, val_acc_values, 'b', label='Validation Accuracy')\n",
    "plt.title('Training and validation accuracy')\n",
    "plt.xlabel('Epochs')\n",
    "plt.ylabel('Loss')\n",
    "plt.legend()\n",
    "plt.show()"
   ]
  },
  {
   "cell_type": "markdown",
   "id": "b2e7fd04-ec27-4e1d-8f3c-12a505e3df02",
   "metadata": {},
   "source": [
    "# Conclusion\n",
    "\n",
    "To conclude, this report begins with an idea of establishing a model to accurately ascertain between benign and malignant breast cancer diagnoses based on data regarding formations on the breast area (binary classification problem). To achieve that, the measure of success is precision at recall as the dataset is imbalanced and due to the abundance of data, hold-out validation was chosen. After modifying data to fit properly in a model, a baseline and overfitted models are produced. \n",
    "\n",
    "Then, through rigorous experimentation, the number of layers, regularization method/s and hyperparameters are determined to produce a final model, dubbed \"Dropout4 Heavy\" (due to having 4 128-unit dense layers (3 RelU, 1 sigmoid) and using dropout on the input layer). \n",
    "\n",
    "This final model trained for 120 epochs at batch size 16 achieved 97.8% mean accuracy, 6.1% mean loss(error), 95.5% mean precision at 96.2% mean recall. This greatly exceeded the expected outputs and the project terminates considered a success.\n",
    "\n",
    "Thank you for your time taken to read this."
   ]
  },
  {
   "cell_type": "markdown",
   "id": "60c67ace-47eb-46c5-8785-13fa55b5a145",
   "metadata": {},
   "source": [
    "# References: \n",
    "## Citations:\n",
    "1. ACS, Cancer Facts For Women, Breast Cancer, October 31, 2023 - https://www.cancer.org/cancer/risk-prevention/understanding-cancer-risk/cancer-facts/cancer-facts-for-women.html#:~:text=Breast%20cancer%20is%20the%20most,breast%20cancer%20in%20their%20lifetime.\n",
    "2. Chollet F., Deep Learning With Python (2017), Chapter 4.5\n",
    "3. Chollet F., Deep Learning With Python (2017), Chapter 4.4.2 \n",
    "\n",
    "## Datasets:\n",
    "1. IMDB - https://ai.stanford.edu/%7Eamaas/data/sentiment/\n",
    "2. MNIST - https://www.tensorflow.org/datasets/catalog/mnist\n",
    "3. Wisconsin Breast Cancer - https://archive.ics.uci.edu/dataset/17/breast+cancer+wisconsin+diagnostic\n",
    "4. AI Vs Human Text - https://www.kaggle.com/datasets/shanegerami/ai-vs-human-text\n",
    "5. Reuters - https://keras.io/api/datasets/reuters/\n",
    "6. COVID-19 Hospitals Treatment Plan - https://www.kaggle.com/datasets/arashnic/covid19-hospital-treatment\n",
    "7. Cirrhosis Outcomes Dataset - https://www.kaggle.com/datasets/harshitstark/prediction-of-cirrhosis-outcomes\n",
    "8. Boston Housing Price - https://www.cs.toronto.edu/~delve/data/boston/bostonDetail.html\n",
    "9. Auto MPG - https://archive.ics.uci.edu/dataset/9/auto+mpg"
   ]
  }
 ],
 "metadata": {
  "kernelspec": {
   "display_name": "Python 3 (ipykernel)",
   "language": "python",
   "name": "python3"
  },
  "language_info": {
   "codemirror_mode": {
    "name": "ipython",
    "version": 3
   },
   "file_extension": ".py",
   "mimetype": "text/x-python",
   "name": "python",
   "nbconvert_exporter": "python",
   "pygments_lexer": "ipython3",
   "version": "3.10.13"
  }
 },
 "nbformat": 4,
 "nbformat_minor": 5
}
